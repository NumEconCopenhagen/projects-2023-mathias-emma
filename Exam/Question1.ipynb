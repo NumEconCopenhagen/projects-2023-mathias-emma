{
 "cells": [
  {
   "attachments": {},
   "cell_type": "markdown",
   "metadata": {},
   "source": [
    "**Table of contents**<a id='toc0_'></a>    \n",
    "- 1. [Problem 1: Optimal taxation with government consumption](#toc1_)    \n",
    "- 2. [Problem 2: Labor adjustment costs](#toc2_)    \n",
    "- 3. [Problem 3: Global optimizer with refined multi-start](#toc3_)    \n",
    "\n",
    "<!-- vscode-jupyter-toc-config\n",
    "\tnumbering=true\n",
    "\tanchor=true\n",
    "\tflat=false\n",
    "\tminLevel=2\n",
    "\tmaxLevel=6\n",
    "\t/vscode-jupyter-toc-config -->\n",
    "<!-- THIS CELL WILL BE REPLACED ON TOC UPDATE. DO NOT WRITE YOUR TEXT IN THIS CELL -->"
   ]
  },
  {
   "cell_type": "code",
   "execution_count": 2,
   "metadata": {},
   "outputs": [],
   "source": [
    "# write your code here\n",
    "import sympy as sm\n",
    "import numpy as np\n",
    "import matplotlib.pyplot as plt\n",
    "\n",
    "# style ggplot of matplotlib\n",
    "plt.style.use('ggplot')"
   ]
  },
  {
   "attachments": {},
   "cell_type": "markdown",
   "metadata": {},
   "source": [
    "## 1. <a id='toc1_'></a>[Problem 1: Optimal taxation with government consumption](#toc0_)"
   ]
  },
  {
   "attachments": {},
   "cell_type": "markdown",
   "metadata": {},
   "source": [
    "\n",
    "Consider a worker choosing hours of labor, $L\\in[0,24]$, to maximize utility: \n",
    "\n",
    "$$\n",
    "\\begin{align*}\n",
    "V(w,\\tau,G)&=\\max_{L\\in[0,24]}\\ln\\left(C^{\\alpha}G^{1-\\alpha}\\right)-\\nu\\frac{L^{2}}{2}\\\\&\\text{s.t.}\\\\&C=\\kappa+(1-\\tau)wL\n",
    "\\end{align*}\n",
    "$$\n",
    "\n",
    "where \n",
    "\n",
    "* $C$ is *private* consumption with weight $\\alpha\\in(0,1)$.\n",
    "* $\\kappa > 0$ is the *free private* consumption component.\n",
    "* $(1-\\tau)wL$ is the *costly private* consumption component.\n",
    "* $w > 0 $ is the real wage.\n",
    "* $\\tau \\in (0,1)$ is the labor-income tax rate.\n",
    "* $G > 0 $ is *government* consumption with weight $1-\\alpha$.\n",
    "* $\\nu > 0$ is the disutility of labor scaling factor"
   ]
  },
  {
   "attachments": {},
   "cell_type": "markdown",
   "metadata": {},
   "source": [
    "\n",
    "The baseline parameters are:\n",
    "\n",
    "$$\n",
    "\\begin{align*}\n",
    "\\alpha &= 0.5\\\\\n",
    "\\kappa &= 1.0\\\\\n",
    "\\nu &= \\frac{1}{2\\cdot16^2} \\\\\n",
    "w &= 1.0 \\\\ \n",
    "\\tau &= 0.30 \\\\\n",
    "\\end{align*}\n",
    "$$"
   ]
  },
  {
   "attachments": {},
   "cell_type": "markdown",
   "metadata": {},
   "source": [
    "**Question 1:** Verify that the optimal labor supply choice is $L^{\\star}(\\tilde{w}) =\\frac{-\\kappa+\\sqrt{\\kappa^{2}+4\\frac{\\alpha}{\\nu}\\tilde{w}^2}}{2\\tilde{w}}$, where $\\tilde{w} = (1-\\tau)w$, for $G\\in\\left\\{1.0 , 2.0\\right\\}$."
   ]
  },
  {
   "cell_type": "code",
   "execution_count": 7,
   "metadata": {},
   "outputs": [
    {
     "name": "stdout",
     "output_type": "stream",
     "text": [
      "This gives an optimal labor supply choice which is equivilant to what was given in the quesiton:\n"
     ]
    },
    {
     "data": {
      "text/latex": [
       "$\\displaystyle L = \\frac{- \\kappa \\nu + \\sqrt{\\nu \\left(4 \\alpha w_{tilde}^{2} + \\kappa^{2} \\nu\\right)}}{2 \\nu w_{tilde}}$"
      ],
      "text/plain": [
       "Eq(L, (-kappa*nu + sqrt(nu*(4*alpha*w_tilde**2 + kappa**2*nu)))/(2*nu*w_tilde))"
      ]
     },
     "execution_count": 7,
     "metadata": {},
     "output_type": "execute_result"
    }
   ],
   "source": [
    "import numpy as np \n",
    "import sympy as sm\n",
    "\n",
    "# Define the symbols\n",
    "L = sm.symbols('L')  # Labor\n",
    "w = sm.symbols('w')  # Real wage\n",
    "tau = sm.symbols('tau')  # Labor-income tax rate\n",
    "C = sm.symbols('C')  # Private consumption\n",
    "kappa = sm.symbols('kappa')  # Free private consumption component\n",
    "alpha = sm.symbols('alpha')  # Weight of private consumption\n",
    "G = sm.symbols('G')  # Government consumption\n",
    "nu = sm.symbols('nu')  # Disutility of labor scaling factor\n",
    "tilde_w = sm.symbols('w_tilde')\n",
    "\n",
    "# Define parameter values\n",
    "alpha_val = 0.5\n",
    "kappa_val = 0.1\n",
    "nu_val = (1/(2*16**2))\n",
    "w_val = 1\n",
    "tau_val = 0.3\n",
    "G_val = 1\n",
    "tilde_w_values = np.linspace(0.1, 10, 100)\n",
    "\n",
    "\n",
    "# Define the utility function\n",
    "U = sm.ln(C**alpha * G**(1 - alpha)) - nu * L**2 / 2\n",
    "\n",
    "# Constraint \n",
    "C_sub = kappa + tilde_w * L\n",
    "C_sub\n",
    "\n",
    "# Definign the w tilde function\n",
    "# tilde_w = w * (1 - tau)\n",
    "\n",
    "# Substitute the constraint into the utility function\n",
    "U_subs_C = U.subs(C, C_sub)\n",
    "U_subs_C\n",
    "\n",
    "# Take derivative with respect to L\n",
    "U_prime = sm.diff(U_subs_C, L)\n",
    "U_prime\n",
    "\n",
    "# # Set derivative equal to zero and solve for L\n",
    "L_star = sm.solve(U_prime, L)\n",
    "\n",
    "# # Print the solution for L\n",
    "eq = sm.Eq(L, L_star[1])\n",
    "\n",
    "# # Print the solution for L\n",
    "print(f'This gives an optimal labor supply choice which is equivilant to what was given in the quesiton:')\n",
    "eq"
   ]
  },
  {
   "cell_type": "code",
   "execution_count": 4,
   "metadata": {},
   "outputs": [
    {
     "name": "stdout",
     "output_type": "stream",
     "text": [
      "This gives an optimal labor supply choice which is equivilant to what was given in the quesiton:\n"
     ]
    },
    {
     "data": {
      "text/latex": [
       "$\\displaystyle L = \\frac{- \\kappa \\nu + \\sqrt{\\nu \\left(4 \\alpha w_{tilde}^{2} + \\kappa^{2} \\nu\\right)}}{2 \\nu w_{tilde}}$"
      ],
      "text/plain": [
       "Eq(L, (-kappa*nu + sqrt(nu*(4*alpha*w_tilde**2 + kappa**2*nu)))/(2*nu*w_tilde))"
      ]
     },
     "execution_count": 4,
     "metadata": {},
     "output_type": "execute_result"
    }
   ],
   "source": [
    "# Define the utility function\n",
    "U = sm.ln(C**alpha * G**(1 - alpha)) - nu * L**2 / 2\n",
    "\n",
    "# Constraint \n",
    "C_sub = kappa + tilde_w * L\n",
    "C_sub\n",
    "\n",
    "# Substitute the constraint into the utility function\n",
    "U_subs_C = U.subs(C, C_sub)\n",
    "U_subs_C\n",
    "\n",
    "# Take derivative with respect to L\n",
    "U_prime = sm.diff(U_subs_C, L)\n",
    "U_prime\n",
    "\n",
    "# # Set derivative equal to zero and solve for L\n",
    "L_star = sm.solve(U_prime, L)\n",
    "\n",
    "# # Print the solution for L\n",
    "eq = sm.Eq(L, L_star[1])\n",
    "\n",
    "# # Print the solution for L\n",
    "print(f'This gives an optimal labor supply choice which is equivilant to what was given in the quesiton:')\n",
    "eq\n",
    "\n",
    "\n",
    "\n"
   ]
  },
  {
   "attachments": {},
   "cell_type": "markdown",
   "metadata": {},
   "source": [
    "**Question 2:** Illustrate how $L^{\\star}(\\tilde{w})$ depends on $w$."
   ]
  },
  {
   "cell_type": "code",
   "execution_count": 9,
   "metadata": {},
   "outputs": [
    {
     "data": {
      "image/png": "[encoded data removed]",
      "text/plain": [
       "<Figure size 640x480 with 1 Axes>"
      ]
     },
     "metadata": {},
     "output_type": "display_data"
    }
   ],
   "source": [
    "# Turning into a python function\n",
    "L_star_func = sm.lambdify(( kappa, alpha, G, nu, tilde_w), L_star[1])\n",
    "\n",
    "# Calculate the optimal labor supply for different values of tilde_w\n",
    "func = lambda x: L_star_func(kappa_val, alpha_val, G_val, nu_val, x)\n",
    "\n",
    "# List of wages \n",
    "w_list = np.linspace(0.1, 10, 100)\n",
    "\n",
    "# Tilde for given wages \n",
    "tilde_w_list = (1 - tau_val) * w_list\n",
    "\n",
    "#Lstar for given tilde wages\n",
    "L_star_val = func(tilde_w_list)\n",
    "\n",
    "\n",
    "# Plotting the relationg between tilde_w and L\n",
    "fig = plt.figure()\n",
    "ax = fig.add_subplot(1,1,1)\n",
    "ax.plot(tilde_w_values, L_star_val)\n",
    "ax.set_xlabel(r'$w$')\n",
    "ax.set_ylabel(r'$L^*(\\tilde{w})$')\n",
    "ax.set_title('Labor supply as a function of the actual wage')\n",
    "ax.grid(True)\n",
    "plt.show()"
   ]
  },
  {
   "attachments": {},
   "cell_type": "markdown",
   "metadata": {},
   "source": [
    "\n",
    "We now consider a government, who chooses $\\tau$ and spend all of the taxes on government consumption so:\n",
    "\n",
    "$$\n",
    "G = \\tau w L^{\\star}((1-\\tau)w)\n",
    "$$\n",
    "\n",
    "**Question 3:** Plot the implied $L$, $G$ and worker utility for a grid of $\\tau$-values.\n"
   ]
  },
  {
   "cell_type": "code",
   "execution_count": 10,
   "metadata": {},
   "outputs": [
    {
     "name": "stderr",
     "output_type": "stream",
     "text": [
      "<lambdifygenerated-2>:2: RuntimeWarning: invalid value encountered in double_scalars\n",
      "  return (1/2)*(-kappa*nu + sqrt(nu*(4*alpha*w_tilde**2 + kappa**2*nu)))/(nu*w_tilde)\n",
      "C:\\Users\\sbang\\AppData\\Local\\Temp\\ipykernel_21848\\1140248139.py:18: RuntimeWarning: divide by zero encountered in log\n",
      "  return np.log(C**alpha * G**(1-alpha)) - nu*L**2/2\n"
     ]
    },
    {
     "data": {
      "image/png": "[encoded data removed]",
      "text/plain": [
       "<Figure size 800x1200 with 3 Axes>"
      ]
     },
     "metadata": {},
     "output_type": "display_data"
    }
   ],
   "source": [
    "import numpy as np\n",
    "import matplotlib.pyplot as plt\n",
    "\n",
    "# Define function for labor supply and government consumption\n",
    "def L_star(tau, w=w_val, kappa=kappa_val, alpha=alpha_val, G=G_val, nu=nu_val):\n",
    "    tilde_w = (1 - tau) * w\n",
    "    return L_star_func(kappa, alpha, G, nu, tilde_w)\n",
    "\n",
    "def G_func(tau, w=w_val, L_func=L_star):\n",
    "    return tau * w * L_func(tau)\n",
    "\n",
    "# Define function for worker utility\n",
    "def V(tau, w=w_val, kappa=kappa_val, alpha=alpha_val, G_func=G_func, L_func=L_star, nu=nu_val):\n",
    "    tilde_w = (1 - tau) * w\n",
    "    L = L_func(tau)\n",
    "    C = kappa + tilde_w * L\n",
    "    G = G_func(tau)\n",
    "    return np.log(C**alpha * G**(1-alpha)) - nu*L**2/2\n",
    "\n",
    "# Grid of tau values\n",
    "tau_values = np.linspace(0, 1, 100)\n",
    "\n",
    "# Calculate labor supply, government consumption and worker utility for each tau\n",
    "L_values = [L_star(tau) for tau in tau_values]\n",
    "G_values = [G_func(tau) for tau in tau_values]\n",
    "V_values = [V(tau) for tau in tau_values]\n",
    "\n",
    "# Plot labor supply, government consumption and worker utility\n",
    "fig, ax = plt.subplots(3, 1, figsize=(8, 12))\n",
    "\n",
    "ax[0].plot(tau_values, L_values)\n",
    "ax[0].set_xlabel(r'$\\tau$')\n",
    "ax[0].set_ylabel(r'$L^*(\\tau)$')\n",
    "ax[0].set_title('Labor supply as a function of tax rate')\n",
    "ax[0].grid(True)\n",
    "\n",
    "ax[1].plot(tau_values, G_values)\n",
    "ax[1].set_xlabel(r'$\\tau$')\n",
    "ax[1].set_ylabel(r'$G(\\tau)$')\n",
    "ax[1].set_title('Government consumption as a function of tax rate')\n",
    "ax[1].grid(True)\n",
    "\n",
    "ax[2].plot(tau_values, V_values)\n",
    "ax[2].set_xlabel(r'$\\tau$')\n",
    "ax[2].set_ylabel(r'$V(\\tau)$')\n",
    "ax[2].set_title('Worker utility as a function of tax rate')\n",
    "ax[2].grid(True)\n",
    "\n",
    "plt.tight_layout()\n",
    "plt.show()\n"
   ]
  },
  {
   "attachments": {},
   "cell_type": "markdown",
   "metadata": {},
   "source": [
    "**Question 4:** Find the socially optimal tax rate $\\tau^{\\star}\\in(0,1)$ maximizing worker utility. Illustrate your result."
   ]
  },
  {
   "cell_type": "code",
   "execution_count": 19,
   "metadata": {},
   "outputs": [
    {
     "name": "stdout",
     "output_type": "stream",
     "text": [
      "The optimal tax rate is: 0.50\n"
     ]
    },
    {
     "data": {
      "image/png": "[encoded data removed]",
      "text/plain": [
       "<Figure size 800x600 with 1 Axes>"
      ]
     },
     "metadata": {},
     "output_type": "display_data"
    }
   ],
   "source": [
    "from scipy.optimize import minimize\n",
    "\n",
    "# Define the objective function as the negative of the worker utility function\n",
    "objective_func = lambda tau: -V(tau)\n",
    "\n",
    "# Initial guess for tau\n",
    "tau_initial_guess = 0.5\n",
    "\n",
    "# Optimize\n",
    "result = minimize(objective_func, tau_initial_guess, bounds=[(0, 1)])\n",
    "\n",
    "# Retrieve the optimal tax rate\n",
    "tau_star = result.x[0]\n",
    "\n",
    "# Print the optimal tax rate\n",
    "print(f\"The optimal tax rate is: {tau_star:.2f}\")\n",
    "\n",
    "# Plot worker utility as a function of tax rate with the optimal tax rate\n",
    "plt.figure(figsize=(8, 6))\n",
    "plt.plot(tau_values, V_values)\n",
    "plt.axvline(x=tau_star, color='r', linestyle='--')\n",
    "plt.xlabel(r'$\\tau$')\n",
    "plt.ylabel(r'$V(\\tau)$')\n",
    "plt.title('Worker utility as a function of tax rate')\n",
    "plt.grid(True)\n",
    "plt.legend([r'$V(\\tau)$', r'$\\tau^*$'])\n",
    "plt.show()\n"
   ]
  },
  {
   "attachments": {},
   "cell_type": "markdown",
   "metadata": {},
   "source": [
    "A more general preference formulation for the worker is:\n",
    "\n",
    "$$\n",
    "\\begin{align*}\n",
    "\\mathcal{V}(w,\\tau,G)&=\\max_{L\\in[0,24]}\\frac{\\left[ \\left( \\alpha C^{\\frac{\\sigma-1}{\\sigma}}+(1-\\alpha) G^{\\frac{\\sigma-1}{\\sigma}} \\right)^{\\frac{\\sigma}{\\sigma - 1} }\\right]^{1-\\rho}-1}{1-\\rho}- \\nu\\frac{L^{1+\\varepsilon}}{1+\\varepsilon},\\,\\,\\,\\varepsilon,\\rho,\\sigma>0,\\,\\,\\,\\rho,\\sigma\\neq1\\\\&\\text{s.t.}\\\\&C=\\kappa+(1-\\tau)wL\n",
    "\\end{align*}    \n",
    "$$\n",
    "\n",
    "Optimal labor supply is now $L^{\\star}(\\tilde{w},G)$."
   ]
  },
  {
   "attachments": {},
   "cell_type": "markdown",
   "metadata": {},
   "source": [
    "Questions 5 must be answered with the general formulation, and for 2 different set of parameters:\n",
    "\n",
    "- Set 1:  $\\sigma = 1.001$, $\\rho = 1.001$ and $\\varepsilon = 1.0$.\n",
    "- Set 2:  $\\sigma = 1.5$, $\\rho = 1.5$ and $\\varepsilon = 1.0 $."
   ]
  },
  {
   "attachments": {},
   "cell_type": "markdown",
   "metadata": {},
   "source": [
    "**Question 5:** Find the $G$ that solves $G = \\tau w L^{\\star}((1-\\tau)w,G)$ using the $\\tau$ found in question 4.\n",
    "\n",
    "*Hint: First write code that solves the worker problem for given values of $G$ and $\\tau$. Then find the correct G based on this.*"
   ]
  },
  {
   "cell_type": "code",
   "execution_count": 22,
   "metadata": {},
   "outputs": [
    {
     "name": "stdout",
     "output_type": "stream",
     "text": [
      "For parameter set 1 (sigma = 1.001, rho = 1.001, epsilon = 1.0):\n",
      "The equilibrium level of G is: 1.00\n",
      "For parameter set 2 (sigma = 1.5, rho = 1.5, epsilon = 1.0):\n",
      "The equilibrium level of G is: 5.23\n"
     ]
    }
   ],
   "source": [
    "from scipy.optimize import minimize, root\n",
    "\n",
    "# Additional parameters\n",
    "sigma_values = [1.001, 1.5]\n",
    "rho_values = [1.001, 1.5]\n",
    "epsilon_values = [1.0, 1.0]\n",
    "tau = 0.5  # the optimal tax rate found in question 4\n",
    "\n",
    "# Define the new utility function\n",
    "def V_v2(L, tau, G, w=w_val, kappa=kappa_val, alpha=alpha_val, nu=nu_val, rho=1.001, sigma=1.001, epsilon=1.0):\n",
    "    tilde_w = (1 - tau) * w\n",
    "    C = kappa + tilde_w * L\n",
    "    U = (((alpha * C**((sigma-1)/sigma) + (1-alpha) * G**((sigma-1)/sigma))**(sigma/(sigma - 1)))**(1 - rho) - 1)/(1-rho)\n",
    "    disutility = nu * L**(1 + epsilon) / (1 + epsilon)\n",
    "    return U - disutility\n",
    "\n",
    "# Define a function that solves the worker's problem\n",
    "def L_star_v2(tau, G, rho=1.001, sigma=1.001, epsilon=1.0):\n",
    "    objective_func = lambda L: -V_v2(L, tau, G, rho=rho, sigma=sigma, epsilon=epsilon)\n",
    "    result = minimize(objective_func, 0.5, bounds=[(0, 24)])\n",
    "    return result.x[0]\n",
    "\n",
    "# Define a function that solves the government's problem\n",
    "def G_func_v2(tau, rho=1.001, sigma=1.001, epsilon=1.0):\n",
    "    func = lambda G: G - tau * w_val * L_star_v2(tau, G, rho=rho, sigma=sigma, epsilon=epsilon)\n",
    "    result = root(func, 1.0)  # Let's start with initial guess of 1.0 for G\n",
    "    return result.x[0]\n",
    "\n",
    "# Find the equilibrium level of G for each parameter set\n",
    "for i in range(2):\n",
    "    sigma = sigma_values[i]\n",
    "    rho = rho_values[i]\n",
    "    epsilon = epsilon_values[i]\n",
    "    G_star = G_func_v2(tau, rho=rho, sigma=sigma, epsilon=epsilon)\n",
    "    print(f\"For parameter set {i+1} (sigma = {sigma}, rho = {rho}, epsilon = {epsilon}):\")\n",
    "    print(f\"The equilibrium level of G is: {G_star:.2f}\")\n"
   ]
  },
  {
   "attachments": {},
   "cell_type": "markdown",
   "metadata": {},
   "source": [
    "**Question 6:** Find the socially optimal tax rate, $\\tau^{\\star}$, maximizing worker utility, while keeping $G = \\tau w L^{\\star}((1-\\tau)w,G)$."
   ]
  },
  {
   "cell_type": "code",
   "execution_count": 30,
   "metadata": {},
   "outputs": [
    {
     "name": "stdout",
     "output_type": "stream",
     "text": [
      "For parameter set 1 (sigma = 1.001, rho = 1.001, epsilon = 1.0):\n",
      "The socially optimal tax rate is: 0.39\n"
     ]
    },
    {
     "name": "stderr",
     "output_type": "stream",
     "text": [
      "C:\\Users\\sbang\\AppData\\Local\\Temp\\ipykernel_21848\\4123778514.py:13: RuntimeWarning: invalid value encountered in power\n",
      "  U = (((alpha * C**((sigma-1)/sigma) + (1-alpha) * G**((sigma-1)/sigma))**(sigma/(sigma - 1)))**(1 - rho) - 1)/(1-rho)\n",
      "C:\\Users\\sbang\\AppData\\Local\\Temp\\ipykernel_21848\\4123778514.py:13: RuntimeWarning: invalid value encountered in double_scalars\n",
      "  U = (((alpha * C**((sigma-1)/sigma) + (1-alpha) * G**((sigma-1)/sigma))**(sigma/(sigma - 1)))**(1 - rho) - 1)/(1-rho)\n"
     ]
    },
    {
     "name": "stdout",
     "output_type": "stream",
     "text": [
      "For parameter set 2 (sigma = 1.5, rho = 1.5, epsilon = 1.0):\n",
      "The socially optimal tax rate is: 0.44\n"
     ]
    }
   ],
   "source": [
    "from scipy.optimize import minimize, basinhopping\n",
    "\n",
    "# Define the utility function using the optimal labor L_star_v2 and government consumption G_func_v2\n",
    "def social_utility(tau, rho=1.001, sigma=1.001, epsilon=1.0):\n",
    "    G = G_func_v2(tau, rho=rho, sigma=sigma, epsilon=epsilon)\n",
    "    L = L_star_v2(tau, G, rho=rho, sigma=sigma, epsilon=epsilon)\n",
    "    return -V_v2(L, tau, G, rho=rho, sigma=sigma, epsilon=epsilon)\n",
    "\n",
    "# A wrapper function for basinhopping\n",
    "def social_utility_for_basinhopping(tau, *args):\n",
    "    return social_utility(tau[0], *args)\n",
    "\n",
    "# Find the socially optimal tax rate for each parameter set\n",
    "for i in range(2):\n",
    "    sigma = sigma_values[i]\n",
    "    rho = rho_values[i]\n",
    "    epsilon = epsilon_values[i]\n",
    "    initial_guess = [0.2]  # You may need to adjust this initial guess as appropriate\n",
    "\n",
    "    # Perform global optimization using basinhopping\n",
    "    minimizer_kwargs = {\"args\": (rho, sigma, epsilon), \"bounds\": [(0.01, 0.99)]}\n",
    "    result = basinhopping(social_utility_for_basinhopping, initial_guess, minimizer_kwargs=minimizer_kwargs, niter=5)\n",
    "    tau_star_social = result.x[0]\n",
    "\n",
    "    print(f\"For parameter set {i+1} (sigma = {sigma}, rho = {rho}, epsilon = {epsilon}):\")\n",
    "    print(f\"The socially optimal tax rate is: {tau_star_social:.2f}\")\n"
   ]
  },
  {
   "attachments": {},
   "cell_type": "markdown",
   "metadata": {},
   "source": [
    "## 2. <a id='toc2_'></a>[Problem 2: Labor adjustment costs](#toc0_)"
   ]
  },
  {
   "attachments": {},
   "cell_type": "markdown",
   "metadata": {},
   "source": [
    "You own a hair salon. You employ hairdressers, $\\ell_t$, to produce haircuts, $y_t = \\ell_t$.\n",
    "\n",
    "The wage for each haridresser is $w$.\n",
    "\n",
    "The demand for haircuts implies that the price of haircuts you can charge is $p_t = \\kappa_t y_t^{-\\eta}$, where $\\kappa_t$ is a demand-shock and $\\eta \\in (0,1)$ measures the elasticity of demand.\n",
    "\n",
    "Profits are:\n",
    "\n",
    "$$\n",
    "\\Pi_t = p_t y_t - w \\ell_t = \\kappa_t \\ell_t^{1-\\eta} - w \\ell_t\n",
    "$$"
   ]
  },
  {
   "attachments": {},
   "cell_type": "markdown",
   "metadata": {},
   "source": [
    "Baseline parameters are:\n",
    "- $\\eta = 0.5$\n",
    "- $w = 1.0$"
   ]
  },
  {
   "attachments": {},
   "cell_type": "markdown",
   "metadata": {},
   "source": [
    "**Question 1:** Verify numerically that $\\ell_{t}=\\left(\\frac{(1-\\eta)\\kappa_{t}}{w}\\right)^{\\frac{1}{\\eta}}$ maximises profits, for $\\kappa\\in\\left\\{1.0 , 2.0\\right\\}$."
   ]
  },
  {
   "cell_type": "code",
   "execution_count": null,
   "metadata": {},
   "outputs": [],
   "source": [
    "import numpy as np\n",
    "\n",
    "# Constants\n",
    "eta = 0.5\n",
    "w = 1.0\n",
    "\n",
    "def profit(kappa, l):\n",
    "    return kappa * l ** (1 - eta) - w * l\n",
    "\n",
    "def optimal_l(kappa):\n",
    "    return ((1 - eta) * kappa / w) ** (1 / eta)\n",
    "\n",
    "kappas = [1.0, 2.0]\n",
    "\n",
    "for kappa in kappas:\n",
    "    l_optimal = optimal_l(kappa)\n",
    "    profit_optimal = profit(kappa, l_optimal)\n",
    "\n",
    "    l_values = np.linspace(0.5 * l_optimal, 1.5 * l_optimal, 100)\n",
    "    profits = [profit(kappa, l) for l in l_values]\n",
    "\n",
    "    print(f\"For kappa = {kappa}:\")\n",
    "    print(f\"Optimal l: {l_optimal}\")\n",
    "    print(f\"Profit at optimal l: {profit_optimal}\")\n",
    "    print(f\"Max profit computed: {max(profits)}\")\n",
    "    print()\n"
   ]
  },
  {
   "attachments": {},
   "cell_type": "markdown",
   "metadata": {},
   "source": [
    "We now consider a *dynamic* version of the model.\n",
    "\n",
    "* The demand-shock is a so-called AR(1) in logs, \n",
    "\n",
    "$$\n",
    "\\log \\kappa_{t} = \\rho \\log \\kappa_{t-1} + \\epsilon_{t},\\,\\,\\, \\epsilon_{t+1} \\sim \\mathcal{N}(-0.5\\sigma_{\\epsilon}^2,\\sigma_{\\epsilon})\n",
    "$$\n",
    "\n",
    "* Any hiring or firing implies a fixed adjustment cost, $\\iota > 0 $.\n",
    "* Future profits are discounted with a monthly factor of $R \\in (0,1)$.\n",
    "\n",
    "The initial demand shock is $\\kappa_{-1} = 1$ and the planning horizon is 10 years, i.e. 120 months so $t \\in \\{0,1,2,\\dots,119\\}$. Initially you don't have any employees, $\\ell_{-1}=0$"
   ]
  },
  {
   "attachments": {},
   "cell_type": "markdown",
   "metadata": {},
   "source": [
    "\n",
    "The *ex post* value of the salon is *conditional* on the shock series is:\n",
    "\n",
    "$$\n",
    "h(\\epsilon_0,\\epsilon_1,\\dots,\\epsilon_{119}) = \\left[\\sum_{t=0}^{119}R^{-t}\\left[\\kappa_{t}\\ell_{t}^{1-\\eta}-w\\ell_{t}-\\boldsymbol{1}_{\\ell_{t}\\neq\\ell_{t-1}}\\iota\\right]\\right]\n",
    "$$\n",
    "\n",
    "The *ex ante* expected value of the salon can be approximated by\n",
    "\n",
    "$$\n",
    "H = \\mathbb{E}[h(\\epsilon_0,\\epsilon_1,\\dots,\\epsilon_{119})] \\approx \\frac{1}{K}\\sum_{k=0}^{K} h(\\epsilon_0^k,\\epsilon_1^k,\\dots,\\epsilon_{119}^k)\n",
    "$$\n",
    "\n",
    "where each $k\\in\\{0,1,\\dots,K-1\\}$ is a random shock series. Maximizing profitability means maximizing $H$.\n"
   ]
  },
  {
   "attachments": {},
   "cell_type": "markdown",
   "metadata": {},
   "source": [
    "Baseline parameters are: \n",
    "\n",
    "- $\\rho = 0.90$\n",
    "- $\\iota = 0.01$\n",
    "- $\\sigma_{\\epsilon} = 0.10$\n",
    "- $R = \\left(1+0.01\\right)^{1/12}$"
   ]
  },
  {
   "attachments": {},
   "cell_type": "markdown",
   "metadata": {},
   "source": [
    "**Question 2:** Calculate $H$ if the policy  $\\ell_{t}=\\left(\\frac{(1-\\eta)\\kappa_{t}}{w}\\right)^{\\frac{1}{\\eta}}$ from question 1 is followed. Choose $K$ so the approximation is good enough to not affect your results substantially."
   ]
  },
  {
   "cell_type": "code",
   "execution_count": null,
   "metadata": {},
   "outputs": [],
   "source": [
    "import numpy as np\n",
    "\n",
    "# Parameters\n",
    "rho = 0.90\n",
    "iota = 0.01\n",
    "sigma_eps = 0.10\n",
    "R = (1+0.01)**(1/12)\n",
    "eta = 1 # assuming eta from the earlier problem\n",
    "w = 0.5 # assuming a wage rate\n",
    "K = 1000 # number of simulations for approximation\n",
    "T = 120 # 10 years, 120 months\n",
    "\n",
    "# Function to generate kappa_t\n",
    "def generate_kappa(rho, sigma_eps, T):\n",
    "    eps = np.random.normal(-0.5 * sigma_eps**2, sigma_eps, T)\n",
    "    kappa = np.zeros(T)\n",
    "    kappa[0] = 1\n",
    "    for t in range(1, T):\n",
    "        kappa[t] = np.exp(rho * np.log(kappa[t-1]) + eps[t])\n",
    "    return kappa\n",
    "\n",
    "# Function to calculate l_t\n",
    "def calculate_lt(kappa_t, w, eta):\n",
    "    return ((1 - eta) * kappa_t / w)**(1 / eta)\n",
    "\n",
    "# Function to calculate ex post value\n",
    "def calculate_h(kappa, l, R, w, eta, iota):\n",
    "    T = len(kappa)\n",
    "    h = 0\n",
    "    for t in range(T):\n",
    "        h += R**(-t) * (kappa[t] * l[t]**(1 - eta) - w * l[t] - int(l[t] != l[t - 1]) * iota)\n",
    "    return h\n",
    "\n",
    "# Run simulations\n",
    "H_values = []\n",
    "for k in range(K):\n",
    "    kappa = generate_kappa(rho, sigma_eps, T)\n",
    "    l = calculate_lt(kappa, w, eta)\n",
    "    h = calculate_h(kappa, l, R, w, eta, iota)\n",
    "    H_values.append(h)\n",
    "\n",
    "# Calculate H\n",
    "H = np.mean(H_values)\n",
    "print(f\"H: {H}\")\n"
   ]
  },
  {
   "attachments": {},
   "cell_type": "markdown",
   "metadata": {},
   "source": [
    "Next, we consider policies on the form:\n",
    "\n",
    "$$\n",
    "\n",
    "\\ell_{t}=\\begin{cases}\n",
    "\\ell_t^{\\ast}  & \\text{if }\\left|\\ell_{t-1}-\\ell_t^{\\ast} \\right|>\\Delta\\\\\n",
    "\\ell_{t-1} & \\text{else }\n",
    "\\end{cases}\n",
    "\\\\\n",
    "\\text{where}\\,\\,\\ell_t^{\\ast} = \\left(\\frac{(1-\\eta)\\kappa_{t}}{w}\\right)^{\\frac{1}{\\eta}} \\\\\n",
    "\n",
    "$$\n",
    "With $\\Delta \\geq 0$ and $\\Delta = 0$ being the previous policy.\n"
   ]
  },
  {
   "attachments": {},
   "cell_type": "markdown",
   "metadata": {},
   "source": [
    "\n",
    "**Question 3:** Calculate $H$ if the policy above was followed with $\\Delta = 0.05$. Does it improve profitability?"
   ]
  },
  {
   "cell_type": "code",
   "execution_count": null,
   "metadata": {},
   "outputs": [],
   "source": [
    "# Function to calculate l_t\n",
    "def calculate_lt_new(kappa, l_prev, w, eta, delta):\n",
    "    l_star = ((1 - eta) * kappa / w)**(1 / eta)\n",
    "    if abs(l_prev - l_star) > delta:\n",
    "        return l_star\n",
    "    else:\n",
    "        return l_prev\n",
    "\n",
    "# Run simulations\n",
    "H_values_new = []\n",
    "for k in range(K):\n",
    "    kappa = generate_kappa(rho, sigma_eps, T)\n",
    "    \n",
    "    # Initialize labor array\n",
    "    l = np.zeros(T)\n",
    "    l[0] = calculate_lt(kappa[0], w, eta)  # assuming previous labor (l[-1]) is 0\n",
    "    \n",
    "    # Calculate labor according to the new policy\n",
    "    for t in range(1, T):\n",
    "        l[t] = calculate_lt_new(kappa[t], l[t-1], w, eta, delta=0.05)\n",
    "    \n",
    "    h = calculate_h(kappa, l, R, w, eta, iota)\n",
    "    H_values_new.append(h)\n",
    "\n",
    "# Calculate H\n",
    "H_new = np.mean(H_values_new)\n",
    "print(f\"H for new policy: {H_new}\")\n"
   ]
  },
  {
   "attachments": {},
   "cell_type": "markdown",
   "metadata": {},
   "source": [
    "**Question 4:** Find the optimal $\\Delta$ maximizing $H$. Illustrate your result."
   ]
  },
  {
   "cell_type": "code",
   "execution_count": null,
   "metadata": {},
   "outputs": [],
   "source": [
    "# Array of potential delta values\n",
    "delta_values = np.linspace(0, 0.2, 100)  # You might want to adjust this range and step size\n",
    "\n",
    "H_values = []\n",
    "\n",
    "# Grid search\n",
    "for delta in delta_values:\n",
    "    H_values_temp = []\n",
    "    \n",
    "    for k in range(K):\n",
    "        kappa = generate_kappa(rho, sigma_eps, T)\n",
    "        \n",
    "        # Initialize labor array\n",
    "        l = np.zeros(T)\n",
    "        l[0] = calculate_lt(kappa[0], w, eta)  # assuming previous labor (l[-1]) is 0\n",
    "        \n",
    "        # Calculate labor according to the new policy\n",
    "        for t in range(1, T):\n",
    "            l[t] = calculate_lt_new(kappa[t], l[t-1], w, eta, delta=delta)\n",
    "        \n",
    "        h = calculate_h(kappa, l, R, w, eta, iota)\n",
    "        H_values_temp.append(h)\n",
    "    \n",
    "    # Calculate H for this delta\n",
    "    H_values.append(np.mean(H_values_temp))\n",
    "\n",
    "# Find optimal delta\n",
    "optimal_delta_index = np.argmax(H_values)\n",
    "optimal_delta = delta_values[optimal_delta_index]\n",
    "\n",
    "print(f\"The optimal value of delta that maximizes H is: {optimal_delta}\")\n",
    "\n",
    "# Plotting\n",
    "plt.figure(figsize=(10, 6))\n",
    "plt.plot(delta_values, H_values)\n",
    "plt.xlabel('Delta')\n",
    "plt.ylabel('H')\n",
    "plt.title('Expected value H as a function of Delta')\n",
    "plt.axvline(optimal_delta, color='red', linestyle='--')\n",
    "plt.grid(True)\n",
    "plt.show()\n"
   ]
  },
  {
   "attachments": {},
   "cell_type": "markdown",
   "metadata": {},
   "source": [
    "\n",
    "**Question 5:** Suggest an alternative policy you believe might improve profitability. Implement and test your policy.\n",
    "\n"
   ]
  },
  {
   "cell_type": "code",
   "execution_count": null,
   "metadata": {},
   "outputs": [],
   "source": [
    "# write your code here"
   ]
  },
  {
   "attachments": {},
   "cell_type": "markdown",
   "metadata": {},
   "source": [
    "## 3. <a id='toc3_'></a>[Problem 3: Global optimizer with refined multi-start](#toc0_)"
   ]
  },
  {
   "attachments": {},
   "cell_type": "markdown",
   "metadata": {},
   "source": [
    "We consider the Griewank function:\n",
    "\n",
    "$$ f(\\boldsymbol{x}) = \\sum^n_{i=1} \\frac{x^2_i}{4000}-\\prod^n_{i=1}\\cos\\left(\\frac{x_i}{\\sqrt{i}}\\right)+1$$\n",
    "\n",
    "The **global minimum** of this function is $f(0,0) = 0$ (remember: $\\cos(0)=1$).<br>\n",
    "But the function also have a lot of **local minima**."
   ]
  },
  {
   "cell_type": "code",
   "execution_count": null,
   "metadata": {},
   "outputs": [],
   "source": [
    "def griewank(x):\n",
    "    return griewank_(x[0],x[1])\n",
    "    \n",
    "def griewank_(x1,x2):\n",
    "    A = x1**2/4000 + x2**2/4000\n",
    "    B = np.cos(x1/np.sqrt(1))*np.cos(x2/np.sqrt(2))\n",
    "    return A-B+1"
   ]
  },
  {
   "attachments": {},
   "cell_type": "markdown",
   "metadata": {},
   "source": [
    "A **refined global optimizer with multi-start** is:\n",
    "\n",
    "1. Choose *bounds* for $\\mathbf{x}$ and *tolerance* $\\tau > 0$.\n",
    "2. Choose number of *warm-up iterations*, $\\underline{K} > 0$ and *maximum number of iterations*, $K > \\underline{K}$.\n",
    "3. In each iteration for $k \\in \\{0,1,\\dots,K-1\\}$:\n",
    "\n",
    "    A. Draw random $\\mathbf{x}^k$ uniformly within chosen bounds.\n",
    "\n",
    "    B. If $k < \\underline{K}$ go to step E.\n",
    "\n",
    "    C. Calculate $\\chi^k = 0.50\\cdot\\frac{2}{1+\\exp((k-\\underline{K})/100)}$  \n",
    "\n",
    "    D. Set $\\mathbf{x}^{k0} = \\chi^k \\mathbf{x}^k + (1-\\chi^k)\\mathbf{x}^{\\ast} $\n",
    "\n",
    "    E. Run optimizer with $\\mathbf{x}^{k0}$ as initial guess and $\\mathbf{x}^{k\\ast}$ as result.\n",
    "\n",
    "    F. Set $\\mathbf{x}^{\\ast} = \\mathbf{x}^{k\\ast}$ if $k = 0$ or $f(\\mathbf{x}^{k\\ast}) < f(\\mathbf{x}^{\\ast})$\n",
    "\n",
    "    G. If $f(\\mathbf{x}^{\\ast}) < \\tau$ go to step 4.\n",
    "\n",
    "4. Return the result $\\mathbf{x}^{\\ast}$."
   ]
  },
  {
   "attachments": {},
   "cell_type": "markdown",
   "metadata": {},
   "source": [
    "As settings we choose:\n",
    "\n",
    "* $x_1,x_2 \\in  [-600,600]$\n",
    "* $\\tau = 10^{-8}$\n",
    "* $\\underline{K}=10$\n",
    "* $K=1000$\n",
    "\n",
    "The optimizer in Step 3.E is `BFGS` with a tolerance of $\\tau$."
   ]
  },
  {
   "attachments": {},
   "cell_type": "markdown",
   "metadata": {},
   "source": [
    "**Question 1:** Implement the refined global optimizer with multi-start. Illustrate how the effective initial guesses $\\mathbf{x}^{k0}$ vary with the iteration counter $k$."
   ]
  },
  {
   "attachments": {},
   "cell_type": "markdown",
   "metadata": {},
   "source": [
    "**Question 2:** Is it a better idea to set $\\underline{K} = 100$? Is the convergence faster?"
   ]
  },
  {
   "attachments": {},
   "cell_type": "markdown",
   "metadata": {},
   "source": [
    "Compare the convergence of the optimizer with K=10 to K=100, "
   ]
  },
  {
   "cell_type": "code",
   "execution_count": null,
   "metadata": {},
   "outputs": [],
   "source": []
  }
 ],
 "metadata": {
  "kernelspec": {
   "display_name": "base",
   "language": "python",
   "name": "python3"
  },
  "language_info": {
   "codemirror_mode": {
    "name": "ipython",
    "version": 3
   },
   "file_extension": ".py",
   "mimetype": "text/x-python",
   "name": "python",
   "nbconvert_exporter": "python",
   "pygments_lexer": "ipython3",
   "version": "3.9.16"
  },
  "orig_nbformat": 4
 },
 "nbformat": 4,
 "nbformat_minor": 2
}
