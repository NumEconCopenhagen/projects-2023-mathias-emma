{
 "cells": [
  {
   "attachments": {},
   "cell_type": "markdown",
   "metadata": {},
   "source": [
    "**Table of contents**<a id='toc0_'></a>    \n",
    "- 1. [Problem 1: Optimal taxation with government consumption](#toc1_)    \n",
    "- 2. [Problem 2: Labor adjustment costs](#toc2_)    \n",
    "- 3. [Problem 3: Global optimizer with refined multi-start](#toc3_)    \n",
    "\n",
    "<!-- vscode-jupyter-toc-config\n",
    "\tnumbering=true\n",
    "\tanchor=true\n",
    "\tflat=false\n",
    "\tminLevel=2\n",
    "\tmaxLevel=6\n",
    "\t/vscode-jupyter-toc-config -->\n",
    "<!-- THIS CELL WILL BE REPLACED ON TOC UPDATE. DO NOT WRITE YOUR TEXT IN THIS CELL -->"
   ]
  },
  {
   "attachments": {},
   "cell_type": "markdown",
   "metadata": {},
   "source": [
    "## 2. <a id='toc2_'></a>[Problem 2: Labor adjustment costs](#toc0_)"
   ]
  },
  {
   "cell_type": "code",
   "execution_count": 1,
   "metadata": {},
   "outputs": [],
   "source": [
    "import numpy as np\n",
    "import random\n",
    "import matplotlib.pyplot as plt\n",
    "\n",
    "# Autoreload modules when code is run\n",
    "%load_ext autoreload\n",
    "%autoreload 2\n",
    "\n",
    "# Local modules\n",
    "import questiontwo\n",
    "from questiontwo import *"
   ]
  },
  {
   "attachments": {},
   "cell_type": "markdown",
   "metadata": {},
   "source": [
    "You own a hair salon. You employ hairdressers, $\\ell_t$, to produce haircuts, $y_t = \\ell_t$.\n",
    "\n",
    "The wage for each haridresser is $w$.\n",
    "\n",
    "The demand for haircuts implies that the price of haircuts you can charge is $p_t = \\kappa_t y_t^{-\\eta}$, where $\\kappa_t$ is a demand-shock and $\\eta \\in (0,1)$ measures the elasticity of demand.\n",
    "\n",
    "Profits are:\n",
    "\n",
    "$$\n",
    "\\Pi_t = p_t y_t - w \\ell_t = \\kappa_t \\ell_t^{1-\\eta} - w \\ell_t\n",
    "$$"
   ]
  },
  {
   "attachments": {},
   "cell_type": "markdown",
   "metadata": {},
   "source": [
    "Baseline parameters are:\n",
    "- $\\eta = 0.5$\n",
    "- $w = 1.0$"
   ]
  },
  {
   "attachments": {},
   "cell_type": "markdown",
   "metadata": {},
   "source": [
    "**Question 1:** Verify numerically that $\\ell_{t}=\\left(\\frac{(1-\\eta)\\kappa_{t}}{w}\\right)^{\\frac{1}{\\eta}}$ maximises profits, for $\\kappa\\in\\left\\{1.0 , 2.0\\right\\}$."
   ]
  },
  {
   "attachments": {},
   "cell_type": "markdown",
   "metadata": {},
   "source": [
    "*To numercially varify the level of labour that maximizes profits, we run a simulation for each kappa. We check the optimal level of labour following the suggested policy and the profit at this level of labor. Lastly, we compare this with this profit with profits stemming from 100 different levels of labour around the level found by the policy.*\n",
    "\n",
    "*As expected, we find that the policy maximizes profits in both cases.*"
   ]
  },
  {
   "cell_type": "code",
   "execution_count": 2,
   "metadata": {},
   "outputs": [
    {
     "name": "stdout",
     "output_type": "stream",
     "text": [
      "For kappa = 1.0:\n",
      "Optimal l: 0.25\n",
      "Profit at optimal l: 0.25\n",
      "Max profit computed: 0.25\n",
      "\n",
      "For kappa = 2.0:\n",
      "Optimal l: 1.0\n",
      "Profit at optimal l: 1.0\n",
      "Max profit computed: 1.0\n",
      "\n"
     ]
    }
   ],
   "source": [
    "# 1. setting up parameters\n",
    "par = questiontwo.par\n",
    "kappa_discrete = [1.0, 2.0]\n",
    "\n",
    "# 2. running simulation with discrete kappa\n",
    "for kappa in kappa_discrete:\n",
    "    l_optimal = optimal_l(par, kappa)\n",
    "    profit_optimal = profit(par, kappa, l_optimal)\n",
    "\n",
    "    l_values = np.linspace(0.5 * l_optimal, 2 * l_optimal, 100)\n",
    "    profits = [profit(par, kappa, l) for l in l_values]\n",
    "\n",
    "    print(f\"For kappa = {kappa}:\")\n",
    "    print(f\"Optimal l: {l_optimal}\")\n",
    "    print(f\"Profit at optimal l: {profit_optimal}\")\n",
    "    print(f\"Max profit computed: {max(profits)}\")\n",
    "    print()"
   ]
  },
  {
   "attachments": {},
   "cell_type": "markdown",
   "metadata": {},
   "source": [
    "We now consider a *dynamic* version of the model.\n",
    "\n",
    "* The demand-shock is a so-called AR(1) in logs, \n",
    "\n",
    "$$\n",
    "\\log \\kappa_{t} = \\rho \\log \\kappa_{t-1} + \\epsilon_{t},\\,\\,\\, \\epsilon_{t+1} \\sim \\mathcal{N}(-0.5\\sigma_{\\epsilon}^2,\\sigma_{\\epsilon})\n",
    "$$\n",
    "\n",
    "* Any hiring or firing implies a fixed adjustment cost, $\\iota > 0 $.\n",
    "* Future profits are discounted with a monthly factor of $R \\in (0,1)$.\n",
    "\n",
    "The initial demand shock is $\\kappa_{-1} = 1$ and the planning horizon is 10 years, i.e. 120 months so $t \\in \\{0,1,2,\\dots,119\\}$. Initially you don't have any employees, $\\ell_{-1}=0$"
   ]
  },
  {
   "attachments": {},
   "cell_type": "markdown",
   "metadata": {},
   "source": [
    "\n",
    "The *ex post* value of the salon is *conditional* on the shock series is:\n",
    "\n",
    "$$\n",
    "h(\\epsilon_0,\\epsilon_1,\\dots,\\epsilon_{119}) = \\left[\\sum_{t=0}^{119}R^{-t}\\left[\\kappa_{t}\\ell_{t}^{1-\\eta}-w\\ell_{t}-\\boldsymbol{1}_{\\ell_{t}\\neq\\ell_{t-1}}\\iota\\right]\\right]\n",
    "$$\n",
    "\n",
    "The *ex ante* expected value of the salon can be approximated by\n",
    "\n",
    "$$\n",
    "H = \\mathbb{E}[h(\\epsilon_0,\\epsilon_1,\\dots,\\epsilon_{119})] \\approx \\frac{1}{K}\\sum_{k=0}^{K} h(\\epsilon_0^k,\\epsilon_1^k,\\dots,\\epsilon_{119}^k)\n",
    "$$\n",
    "\n",
    "where each $k\\in\\{0,1,\\dots,K-1\\}$ is a random shock series. Maximizing profitability means maximizing $H$.\n"
   ]
  },
  {
   "attachments": {},
   "cell_type": "markdown",
   "metadata": {},
   "source": [
    "Baseline parameters are: \n",
    "\n",
    "- $\\rho = 0.90$\n",
    "- $\\iota = 0.01$\n",
    "- $\\sigma_{\\epsilon} = 0.10$\n",
    "- $R = \\left(1+0.01\\right)^{1/12}$"
   ]
  },
  {
   "attachments": {},
   "cell_type": "markdown",
   "metadata": {},
   "source": [
    "**Question 2:** Calculate $H$ if the policy  $\\ell_{t}=\\left(\\frac{(1-\\eta)\\kappa_{t}}{w}\\right)^{\\frac{1}{\\eta}}$ from question 1 is followed. Choose $K$ so the approximation is good enough to not affect your results substantially."
   ]
  },
  {
   "attachments": {},
   "cell_type": "markdown",
   "metadata": {},
   "source": [
    "*We calculate H when the labour policy is followed by starting with $K=35$ simulations and increasing K until the relative size of the confidence interval is small enough (5 pct. is chosen as threshold).*\n",
    "\n",
    "*On average after 10 runs, we find this to be true after $K=49$ simulations, which yields an (ex ante) expected value of the hair salon over 10 years to be $H=27.31$.*"
   ]
  },
  {
   "cell_type": "code",
   "execution_count": 3,
   "metadata": {},
   "outputs": [
    {
     "name": "stdout",
     "output_type": "stream",
     "text": [
      "To find the average expected value of the salon of H = 27.31 on\n",
      "average K=49 simulations were needed to not change H significantly.\n"
     ]
    }
   ],
   "source": [
    "# 1. Setting up empty lists for storing values of K and H\n",
    "K_values = []\n",
    "H_values = []\n",
    "\n",
    "# 2. choosing a required precision level\n",
    "epsilon = 0.05\n",
    "\n",
    "# 3. Run simulation 10 times\n",
    "for i in range(10):\n",
    "    # 3.1 Start with a small K\n",
    "    K = 35\n",
    "    # 3.2 Setting up an empty list for storing the local value of H\n",
    "    H_value = []\n",
    "    while True:\n",
    "        for k in range(K):\n",
    "            # Change the seed for each simulation\n",
    "            seed = (i + 1) * (k + 1)\n",
    "            # Generate h for each run\n",
    "            H_value.append(function_call(par, seed))\n",
    "        \n",
    "        # 3.3 Calculate mean and standard deviation\n",
    "        mean_H = np.mean(H_value)\n",
    "        std_H = np.std(H_value)\n",
    "        conf_interval = 1.96 * std_H / np.sqrt(K)  # 95% confidence interval\n",
    "        \n",
    "        # 3.4 Break the loop if the relative size of the confidence interval is small enough\n",
    "        if conf_interval / np.abs(mean_H) < epsilon:  # with 5 pct. precision\n",
    "            break\n",
    "        \n",
    "        # 3.5 Increase K for the next iteration\n",
    "        K += 1\n",
    "    # 3.6 append the values of K and H to the lists  \n",
    "    K_values.append(K)\n",
    "    H_values.append(mean_H)\n",
    "\n",
    "# 4. Print the mean result of K after 10 simulations\n",
    "print(f\"To find the average expected value of the salon of H = {np.mean(H_values):.2f} on\")\n",
    "print(f\"average K={np.mean(K_values):.0f} simulations were needed to not change H significantly.\")"
   ]
  },
  {
   "attachments": {},
   "cell_type": "markdown",
   "metadata": {},
   "source": [
    "Next, we consider policies on the form:\n",
    "\n",
    "$$\n",
    "\n",
    "\\ell_{t}=\\begin{cases}\n",
    "\\ell_t^{\\ast}  & \\text{if }\\left|\\ell_{t-1}-\\ell_t^{\\ast} \\right|>\\Delta\\\\\n",
    "\\ell_{t-1} & \\text{else }\n",
    "\\end{cases}\n",
    "\\\\\n",
    "\\text{where}\\,\\,\\ell_t^{\\ast} = \\left(\\frac{(1-\\eta)\\kappa_{t}}{w}\\right)^{\\frac{1}{\\eta}} \\\\\n",
    "\n",
    "$$\n",
    "With $\\Delta \\geq 0$ and $\\Delta = 0$ being the previous policy.\n"
   ]
  },
  {
   "attachments": {},
   "cell_type": "markdown",
   "metadata": {},
   "source": [
    "\n",
    "**Question 3:** Calculate $H$ if the policy above was followed with $\\Delta = 0.05$. Does it improve profitability?"
   ]
  },
  {
   "attachments": {},
   "cell_type": "markdown",
   "metadata": {},
   "source": [
    "*We introduce the new policy and compare the mean profitability (over $K=49$, as found before) of each policy {old,new} over 10 simulations.* \n",
    "\n",
    "*We find that the new policy helps mitigating the problem with adjustment costs and thereby improves profitability with about 2.5 pct.*"
   ]
  },
  {
   "cell_type": "code",
   "execution_count": 4,
   "metadata": {},
   "outputs": [
    {
     "name": "stdout",
     "output_type": "stream",
     "text": [
      "On average, the new policy improves profitability with 0.61.\n"
     ]
    }
   ],
   "source": [
    "# 1. introducing new parameter Delta\n",
    "#par.Delta = 0.05\n",
    "\n",
    "# 2. setting up an empty list for storing the improvement in H for the new policy\n",
    "H_Delta = [] \n",
    "improvement = []\n",
    "\n",
    "# 3. runing the simulation 10 times\n",
    "for i in range(10):\n",
    "    # 3.1 run simulations for new policy\n",
    "    # setting up an empty list for storing the values of H for the new policy\n",
    "    H_values_new = []\n",
    "    for k in range(par.K):\n",
    "        # setting new seed for each run and changing Delta\n",
    "        seed = (i + 1) * (k + 1)\n",
    "        par.Delta = 0.05\n",
    "        # Generate h for each run\n",
    "        H_values_new.append(function_call(par, seed))\n",
    "\n",
    "    # calculate mean H for new policy\n",
    "    H_new = np.mean(H_values_new)\n",
    "\n",
    "    # saving the value of H for the new policy\n",
    "    H_Delta.append(H_new)\n",
    "\n",
    "    # 3.3 calculate the improvement\n",
    "    improvement.append(H_new - np.mean(H_values))\n",
    "\n",
    "# Print results\n",
    "print(f'On average, the new policy improves profitability with {np.mean(improvement):.2f}.')\n"
   ]
  },
  {
   "attachments": {},
   "cell_type": "markdown",
   "metadata": {},
   "source": [
    "**Question 4:** Find the optimal $\\Delta$ maximizing $H$. Illustrate your result."
   ]
  },
  {
   "attachments": {},
   "cell_type": "markdown",
   "metadata": {},
   "source": [
    "*In order to find the optimal level of $\\Delta$ maximizing $H$ we loop over 100 different levels of $\\Delta$ from $[0,0.2]$ simulating $H$ each time.*\n",
    "\n",
    "*We find that $\\Delta=0.07$ on average maximizes profits.*"
   ]
  },
  {
   "cell_type": "code",
   "execution_count": 5,
   "metadata": {},
   "outputs": [
    {
     "name": "stdout",
     "output_type": "stream",
     "text": [
      "The mean best Delta value over 10 runs is 0.07.\n"
     ]
    },
    {
     "data": {
      "image/png": "[encoded data removed]",
      "text/plain": [
       "<Figure size 1000x600 with 1 Axes>"
      ]
     },
     "metadata": {},
     "output_type": "display_data"
    }
   ],
   "source": [
    "# 1. setting up an empty list for storing the values of Delta and H\n",
    "Deltas = []\n",
    "H_values_deltas = []\n",
    "max_H_new = float('-inf')\n",
    "\n",
    "# 2. simulating over a range of 500 Deltas between 0.0 and 0.4\n",
    "for Delta in np.linspace(0, 0.20, 100):\n",
    "\n",
    "    # Setting up an empty list for storing the values of H\n",
    "    H_values_new = []\n",
    "    for k in range(par.K):\n",
    "        # Set new seed for each run and change Delta\n",
    "        seed = (i + 1) * (k + 1)\n",
    "        par.Delta = Delta\n",
    "        # Generate h for each run\n",
    "        H_values_new.append(function_call(par, seed))\n",
    "\n",
    "    # Calculate H for new policy\n",
    "    H_new = np.mean(H_values_new)\n",
    "    \n",
    "    # Append the values of Delta and H to the lists\n",
    "    Deltas.append(Delta)\n",
    "    H_values_deltas.append(H_new)\n",
    "    \n",
    "    # update the best Delta if the new H is higher than the previous best\n",
    "    if H_new > max_H_new:\n",
    "        max_H_new = H_new\n",
    "        best_Delta = Delta\n",
    "            \n",
    "# 3. print results    \n",
    "print(f\"The mean best Delta value over 10 runs is {best_Delta:.2f}.\")\n",
    "\n",
    "# 4. Plot Delta vs H\n",
    "plt.figure(figsize=(10, 6))\n",
    "plt.scatter(Deltas, H_values_deltas, s=30)  # Reduce the size of dots with s parameter\n",
    "plt.xlabel(\"Delta\")\n",
    "plt.ylabel(\"H\")\n",
    "plt.title(\"Delta vs H\")\n",
    "plt.xlim(0, 0.2)  # Set the x-axis limits\n",
    "plt.ylim(25.75, 27.75)  # Set the y-axis limits\n",
    "plt.grid(True)\n",
    "\n",
    "# 5. mark the best Delta with a red dot\n",
    "best_index = H_values_deltas.index(max_H_new)\n",
    "plt.scatter(Deltas[best_index], H_values_deltas[best_index], c='red', label='Best Delta',s=60)\n",
    "plt.legend()\n",
    "\n",
    "plt.show()\n"
   ]
  },
  {
   "attachments": {},
   "cell_type": "markdown",
   "metadata": {},
   "source": [
    "\n",
    "**Question 5:** Suggest an alternative policy you believe might improve profitability. Implement and test your policy."
   ]
  },
  {
   "attachments": {},
   "cell_type": "markdown",
   "metadata": {},
   "source": [
    "*We suggest and implement a policy of having part time employees as buffers, such that these employees could be adjusted in working hours dynamically after shocks are realized. For instance, think about a situation where in a period with a moderate negative shock it would be optimal to fire 0.6 employees. Normally, that would entail firing costs of $\\iota$. By instead lowering the hours of the employee, we don't need to fire the person. In our setup we accept that there would still be adjustment costs, ie. that could be compensation to the employee, but only of $0.6 \\cdot \\iota$.*\n",
    "\n",
    "*Our extention improves profitability with 1.3 against the situation without any policy in place, equivalent to: 4.8 pct., and with 0.69 against the policy with an optimal $\\Delta=0.07$, equivalent to: 2.5 pct.*"
   ]
  },
  {
   "cell_type": "code",
   "execution_count": 12,
   "metadata": {},
   "outputs": [
    {
     "name": "stdout",
     "output_type": "stream",
     "text": [
      "On average, our new extention improves profitability with:\n",
      "   1.30, against the situation with no policy.\n",
      "   0.69, against the situation with Delta=0.07.\n"
     ]
    }
   ],
   "source": [
    "# 1. restoring Delta to 0\n",
    "par.Delta=0\n",
    "\n",
    "# 2. setting up an empty list for storing the values improvement in H for no policy or optimal Delta policy\n",
    "improvement_no_policy = []\n",
    "improvement_optimal_Delta = []\n",
    "\n",
    "# 2. runing the simulation 50 times\n",
    "for i in range(50):\n",
    "    # Run simulations for the extention\n",
    "    H_values_extention = []\n",
    "    for k in range(par.K):\n",
    "        seed = (i + 1) * (k + 1)\n",
    "        H_values_extention.append(function_call(par, seed, extention=True))\n",
    "\n",
    "    # Calculate H for the extention\n",
    "    H_extention = np.mean(H_values_extention)\n",
    "\n",
    "    #Improvement\n",
    "    improvement_no_policy.append(H_extention - np.mean(H_values))\n",
    "    improvement_optimal_Delta.append(H_extention - np.mean(H_Delta))\n",
    "\n",
    "# Print results\n",
    "print(f'On average, our new extention improves profitability with:')\n",
    "print(f'   {np.mean(improvement_no_policy):.2f}, against the situation with no policy.')\n",
    "print(f'   {np.mean(improvement_optimal_Delta):.2f}, against the situation with Delta=0.07.')"
   ]
  }
 ],
 "metadata": {
  "kernelspec": {
   "display_name": "base",
   "language": "python",
   "name": "python3"
  },
  "language_info": {
   "codemirror_mode": {
    "name": "ipython",
    "version": 3
   },
   "file_extension": ".py",
   "mimetype": "text/x-python",
   "name": "python",
   "nbconvert_exporter": "python",
   "pygments_lexer": "ipython3",
   "version": "3.9.16"
  },
  "orig_nbformat": 4
 },
 "nbformat": 4,
 "nbformat_minor": 2
}
