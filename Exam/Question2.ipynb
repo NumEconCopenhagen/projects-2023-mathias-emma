{
 "cells": [
  {
   "attachments": {},
   "cell_type": "markdown",
   "metadata": {},
   "source": [
    "**Table of contents**<a id='toc0_'></a>    \n",
    "- 1. [Problem 1: Optimal taxation with government consumption](#toc1_)    \n",
    "- 2. [Problem 2: Labor adjustment costs](#toc2_)    \n",
    "- 3. [Problem 3: Global optimizer with refined multi-start](#toc3_)    \n",
    "\n",
    "<!-- vscode-jupyter-toc-config\n",
    "\tnumbering=true\n",
    "\tanchor=true\n",
    "\tflat=false\n",
    "\tminLevel=2\n",
    "\tmaxLevel=6\n",
    "\t/vscode-jupyter-toc-config -->\n",
    "<!-- THIS CELL WILL BE REPLACED ON TOC UPDATE. DO NOT WRITE YOUR TEXT IN THIS CELL -->"
   ]
  },
  {
   "cell_type": "code",
   "execution_count": null,
   "metadata": {},
   "outputs": [],
   "source": [
    "# write your code here"
   ]
  },
  {
   "attachments": {},
   "cell_type": "markdown",
   "metadata": {},
   "source": [
    "## 1. <a id='toc1_'></a>[Problem 1: Optimal taxation with government consumption](#toc0_)"
   ]
  },
  {
   "attachments": {},
   "cell_type": "markdown",
   "metadata": {},
   "source": [
    "\n",
    "Consider a worker choosing hours of labor, $L\\in[0,24]$, to maximize utility: \n",
    "\n",
    "$$\n",
    "\\begin{align*}\n",
    "V(w,\\tau,G)&=\\max_{L\\in[0,24]}\\ln\\left(C^{\\alpha}G^{1-\\alpha}\\right)-\\nu\\frac{L^{2}}{2}\\\\&\\text{s.t.}\\\\&C=\\kappa+(1-\\tau)wL\n",
    "\\end{align*}\n",
    "$$\n",
    "\n",
    "where \n",
    "\n",
    "* $C$ is *private* consumption with weight $\\alpha\\in(0,1)$.\n",
    "* $\\kappa > 0$ is the *free private* consumption component.\n",
    "* $C = (1-\\tau)wL$ is the *costly private* consumption component.\n",
    "* $w > 0 $ is the real wage.\n",
    "* $\\tau \\in (0,1)$ is the labor-income tax rate.\n",
    "* $G > 0 $ is *government* consumption with weight $1-\\alpha$.\n",
    "* $\\nu > 0$ is the disutility of labor scaling factor"
   ]
  },
  {
   "attachments": {},
   "cell_type": "markdown",
   "metadata": {},
   "source": [
    "\n",
    "The baseline parameters are:\n",
    "\n",
    "$$\n",
    "\\begin{align*}\n",
    "\\alpha &= 0.5\\\\\n",
    "\\kappa &= 1.0\\\\\n",
    "\\nu &= \\frac{1}{2\\cdot16^2} \\\\\n",
    "w &= 1.0 \\\\ \n",
    "\\tau &= 0.30 \\\\\n",
    "\\end{align*}\n",
    "$$"
   ]
  },
  {
   "attachments": {},
   "cell_type": "markdown",
   "metadata": {},
   "source": [
    "**Question 1:** Verify that the optimal labor supply choice is $L^{\\star}(\\tilde{w}) =\\frac{-\\kappa+\\sqrt{\\kappa^{2}+4\\frac{\\alpha}{\\nu}\\tilde{w}^2}}{2\\tilde{w}}$, where $\\tilde{w} = (1-\\tau)w$, for $G\\in\\left\\{1.0 , 2.0\\right\\}$."
   ]
  },
  {
   "cell_type": "code",
   "execution_count": null,
   "metadata": {},
   "outputs": [],
   "source": [
    "# write your code here"
   ]
  },
  {
   "attachments": {},
   "cell_type": "markdown",
   "metadata": {},
   "source": [
    "**Question 2:** Illustrate how $L^{\\star}(\\tilde{w})$ depends on $w$."
   ]
  },
  {
   "cell_type": "code",
   "execution_count": null,
   "metadata": {},
   "outputs": [],
   "source": [
    "# write your code here"
   ]
  },
  {
   "attachments": {},
   "cell_type": "markdown",
   "metadata": {},
   "source": [
    "\n",
    "We now consider a government, who chooses $\\tau$ and spend all of the taxes on government consumption so:\n",
    "\n",
    "$$\n",
    "G = \\tau w L^{\\star}((1-\\tau)w)\n",
    "$$\n",
    "\n",
    "**Question 3:** Plot the implied $L$, $G$ and worker utility for a grid of $\\tau$-values.\n"
   ]
  },
  {
   "cell_type": "code",
   "execution_count": null,
   "metadata": {},
   "outputs": [],
   "source": [
    "# write your code here"
   ]
  },
  {
   "attachments": {},
   "cell_type": "markdown",
   "metadata": {},
   "source": [
    "**Question 4:** Find the socially optimal tax rate $\\tau^{\\star}\\in(0,1)$ maximizing worker utility. Illustrate your result."
   ]
  },
  {
   "cell_type": "code",
   "execution_count": null,
   "metadata": {},
   "outputs": [],
   "source": [
    "# write your code here"
   ]
  },
  {
   "attachments": {},
   "cell_type": "markdown",
   "metadata": {},
   "source": [
    "A more general preference formulation for the worker is:\n",
    "\n",
    "$$\n",
    "\\begin{align*}\n",
    "\\mathcal{V}(w,\\tau,G)&=\\max_{L\\in[0,24]}\\frac{\\left[ \\left( \\alpha C^{\\frac{\\sigma-1}{\\sigma}}+(1-\\alpha) G^{\\frac{\\sigma-1}{\\sigma}} \\right)^{\\frac{\\sigma}{1-\\sigma} }\\right]^{1-\\rho}-1}{1-\\rho}- \\nu\\frac{L^{1+\\varepsilon}}{1+\\varepsilon},\\,\\,\\,\\varepsilon,\\rho,\\sigma>0,\\,\\,\\,\\rho,\\sigma\\neq1\\\\&\\text{s.t.}\\\\&C=\\kappa+(1-\\tau)wL\n",
    "\\end{align*}    \n",
    "$$\n",
    "\n",
    "Optimal labor supply is now $L^{\\star}(\\tilde{w},G)$."
   ]
  },
  {
   "attachments": {},
   "cell_type": "markdown",
   "metadata": {},
   "source": [
    "Questions 5 and 6 must be answered with the general formulation, and for 2 different set of parameters:\n",
    "\n",
    "- Set 1:  $\\sigma = 1.001$, $\\rho = 1.001$ and $\\varepsilon = 1.0$.\n",
    "- Set 2:  $\\sigma = 1.5$, $\\rho = 1.5$ and $\\varepsilon = 1.0 $."
   ]
  },
  {
   "attachments": {},
   "cell_type": "markdown",
   "metadata": {},
   "source": [
    "**Question 5:** Find the $G$ that solves $G = \\tau w L^{\\star}((1-\\tau)w,G)$ using the $\\tau$ found in question 4.\n",
    "\n",
    "*Hint: First write code that solves the worker problem for given values of $G$ and $\\tau$. Then find the correct G based on this.*"
   ]
  },
  {
   "cell_type": "code",
   "execution_count": null,
   "metadata": {},
   "outputs": [],
   "source": [
    "# write your code here"
   ]
  },
  {
   "attachments": {},
   "cell_type": "markdown",
   "metadata": {},
   "source": [
    "**Question 6:** Find the socially optimal tax rate, $\\tau^{\\star}$, maximizing worker utility, while keeping $G = \\tau w L^{\\star}((1-\\tau)w,G)$."
   ]
  },
  {
   "cell_type": "code",
   "execution_count": null,
   "metadata": {},
   "outputs": [],
   "source": [
    "# write your code here  "
   ]
  },
  {
   "attachments": {},
   "cell_type": "markdown",
   "metadata": {},
   "source": [
    "## 2. <a id='toc2_'></a>[Problem 2: Labor adjustment costs](#toc0_)"
   ]
  },
  {
   "cell_type": "code",
   "execution_count": null,
   "metadata": {},
   "outputs": [],
   "source": [
    "import numpy as np\n",
    "import random\n",
    "import matplotlib.pyplot as plt\n",
    "\n",
    "# Autoreload modules when code is run\n",
    "%load_ext autoreload\n",
    "%autoreload 2\n",
    "\n",
    "# Local modules\n",
    "from questiontwo import *"
   ]
  },
  {
   "attachments": {},
   "cell_type": "markdown",
   "metadata": {},
   "source": [
    "You own a hair salon. You employ hairdressers, $\\ell_t$, to produce haircuts, $y_t = \\ell_t$.\n",
    "\n",
    "The wage for each haridresser is $w$.\n",
    "\n",
    "The demand for haircuts implies that the price of haircuts you can charge is $p_t = \\kappa_t y_t^{-\\eta}$, where $\\kappa_t$ is a demand-shock and $\\eta \\in (0,1)$ measures the elasticity of demand.\n",
    "\n",
    "Profits are:\n",
    "\n",
    "$$\n",
    "\\Pi_t = p_t y_t - w \\ell_t = \\kappa_t \\ell_t^{1-\\eta} - w \\ell_t\n",
    "$$"
   ]
  },
  {
   "attachments": {},
   "cell_type": "markdown",
   "metadata": {},
   "source": [
    "Baseline parameters are:\n",
    "- $\\eta = 0.5$\n",
    "- $w = 1.0$"
   ]
  },
  {
   "attachments": {},
   "cell_type": "markdown",
   "metadata": {},
   "source": [
    "**Question 1:** Verify numerically that $\\ell_{t}=\\left(\\frac{(1-\\eta)\\kappa_{t}}{w}\\right)^{\\frac{1}{\\eta}}$ maximises profits, for $\\kappa\\in\\left\\{1.0 , 2.0\\right\\}$."
   ]
  },
  {
   "cell_type": "code",
   "execution_count": null,
   "metadata": {},
   "outputs": [],
   "source": [
    "par = questiontwo.par\n",
    "\n",
    "\n",
    "for kappa in par.kappa_discrete:\n",
    "    l_optimal = optimal_l(par)\n",
    "    profit_optimal = profit(par, l_optimal)\n",
    "\n",
    "    l_values = np.linspace(0.5 * l_optimal, 2 * l_optimal, 100)\n",
    "    profits = [profit(par, l) for l in l_values]\n",
    "\n",
    "    print(f\"For kappa = {par.kappa_discrete}:\")\n",
    "    print(f\"Optimal l: {l_optimal}\")\n",
    "    print(f\"Profit at optimal l: {profit_optimal}\")\n",
    "    print(f\"Max profit computed: {max(profits)}\")\n",
    "    print()\n"
   ]
  },
  {
   "attachments": {},
   "cell_type": "markdown",
   "metadata": {},
   "source": [
    "We now consider a *dynamic* version of the model.\n",
    "\n",
    "* The demand-shock is a so-called AR(1) in logs, \n",
    "\n",
    "$$\n",
    "\\log \\kappa_{t} = \\rho \\log \\kappa_{t-1} + \\epsilon_{t},\\,\\,\\, \\epsilon_{t+1} \\sim \\mathcal{N}(-0.5\\sigma_{\\epsilon}^2,\\sigma_{\\epsilon})\n",
    "$$\n",
    "\n",
    "* Any hiring or firing implies a fixed adjustment cost, $\\iota > 0 $.\n",
    "* Future profits are discounted with a monthly factor of $R \\in (0,1)$.\n",
    "\n",
    "The initial demand shock is $\\kappa_{-1} = 1$ and the planning horizon is 10 years, i.e. 120 months so $t \\in \\{0,1,2,\\dots,119\\}$. Initially you don't have any employees, $\\ell_{-1}=0$"
   ]
  },
  {
   "attachments": {},
   "cell_type": "markdown",
   "metadata": {},
   "source": [
    "\n",
    "The *ex post* value of the salon is *conditional* on the shock series is:\n",
    "\n",
    "$$\n",
    "h(\\epsilon_0,\\epsilon_1,\\dots,\\epsilon_{119}) = \\left[\\sum_{t=0}^{119}R^{-t}\\left[\\kappa_{t}\\ell_{t}^{1-\\eta}-w\\ell_{t}-\\boldsymbol{1}_{\\ell_{t}\\neq\\ell_{t-1}}\\iota\\right]\\right]\n",
    "$$\n",
    "\n",
    "The *ex ante* expected value of the salon can be approximated by\n",
    "\n",
    "$$\n",
    "H = \\mathbb{E}[h(\\epsilon_0,\\epsilon_1,\\dots,\\epsilon_{119})] \\approx \\frac{1}{K}\\sum_{k=0}^{K} h(\\epsilon_0^k,\\epsilon_1^k,\\dots,\\epsilon_{119}^k)\n",
    "$$\n",
    "\n",
    "where each $k\\in\\{0,1,\\dots,K-1\\}$ is a random shock series. Maximizing profitability means maximizing $H$.\n"
   ]
  },
  {
   "attachments": {},
   "cell_type": "markdown",
   "metadata": {},
   "source": [
    "Baseline parameters are: \n",
    "\n",
    "- $\\rho = 0.90$\n",
    "- $\\iota = 0.01$\n",
    "- $\\sigma_{\\epsilon} = 0.10$\n",
    "- $R = \\left(1+0.01\\right)^{1/12}$"
   ]
  },
  {
   "attachments": {},
   "cell_type": "markdown",
   "metadata": {},
   "source": [
    "**Question 2:** Calculate $H$ if the policy  $\\ell_{t}=\\left(\\frac{(1-\\eta)\\kappa_{t}}{w}\\right)^{\\frac{1}{\\eta}}$ from question 1 is followed. Choose $K$ so the approximation is good enough to not affect your results substantially."
   ]
  },
  {
   "cell_type": "code",
   "execution_count": null,
   "metadata": {},
   "outputs": [],
   "source": [
    "import numpy as np\n",
    "\n",
    "# Parameters\n",
    "rho = 0.90\n",
    "iota = 0.01\n",
    "sigma_eps = 0.10\n",
    "R = (1+0.01)**(1/12)\n",
    "eta = 0.5 # assuming eta from the earlier problem\n",
    "w = 1 # assuming a wage rate\n",
    "K = 1000 # number of simulations for approximation\n",
    "T = 120 # 10 years, 120 months\n",
    "\n",
    "# Function to generate kappa_t\n",
    "def generate_kappa(rho, sigma_eps, T,seed):\n",
    "    np.random.seed(seed)\n",
    "    eps = np.random.normal(-0.5 * sigma_eps**2, sigma_eps, T)\n",
    "    kappa = np.empty(T)\n",
    "    kappa[0] = 1\n",
    "    for t in range(1, T):\n",
    "        kappa[t] = np.exp(rho * np.log(kappa[t-1]) + eps[t])\n",
    "    return kappa\n",
    "\n",
    "# Function to calculate l_t\n",
    "def calculate_lt(kappa, w, eta):\n",
    "    lt_star = ((1 - eta) * kappa / w)**(1 / eta)\n",
    "    return lt_star\n",
    "\n",
    "# Function to calculate ex post value\n",
    "def calculate_h(kappa, l, R, w, eta, iota):\n",
    "    h = 0\n",
    "    for t in range(T):\n",
    "        h += R**(-t) * (kappa[t] * l[t]**(1 - eta) - w * l[t] - int(l[t] != l[t - 1]) * iota)\n",
    "    return h\n",
    "\n",
    "H_means=[]\n",
    "# Run simulations\n",
    "for i in range(10):\n",
    "    H_values = []\n",
    "    for k in range(K):\n",
    "        kappa = generate_kappa(rho, sigma_eps, T,np.random.seed(i*k))\n",
    "        l = calculate_lt(kappa, w, eta)\n",
    "        h = calculate_h(kappa, l, R, w, eta, iota)\n",
    "        H_values.append(h)\n",
    "\n",
    "    # Calculate H\n",
    "    H_means.append(np.mean(H_values))\n",
    "    \n",
    "print(f\"On average, H is: {np.mean(H_means):.2f}\")"
   ]
  },
  {
   "cell_type": "code",
   "execution_count": null,
   "metadata": {},
   "outputs": [],
   "source": [
    "import numpy as np\n",
    "import random\n",
    "\n",
    "# Parameters\n",
    "rho = 0.90\n",
    "iota = 0.01\n",
    "sigma_eps = 0.10\n",
    "R = (1+0.01)**(1/12)\n",
    "eta = 0.5 # assuming eta from the earlier problem\n",
    "w = 1 # assuming a wage rate\n",
    "#K = 100 # initial number of simulations for approximation\n",
    "T = 120 # 10 years, 120 months\n",
    "\n",
    "# Function to generate kappa_t\n",
    "def generate_kappa(rho, sigma_eps, T,seed):\n",
    "    np.random.seed(seed)\n",
    "    eps = np.random.normal(-0.5 * sigma_eps**2, sigma_eps, T)\n",
    "    kappa = np.empty(T)\n",
    "    kappa[0] = 1\n",
    "    for t in range(1, T):\n",
    "        kappa[t] = np.exp(rho * np.log(kappa[t-1]) + eps[t])\n",
    "    return kappa\n",
    "\n",
    "# Function to calculate l_t\n",
    "def calculate_lt(kappa_t, w, eta):\n",
    "    return ((1 - eta) * kappa_t / w)**(1 / eta)\n",
    "\n",
    "# Function to calculate ex post value\n",
    "def calculate_h(kappa, l, R, w, eta, iota, T):\n",
    "    h = 0\n",
    "    for t in range(T):\n",
    "        h += R**(-t) * (kappa[t] * l[t]**(1 - eta) - w * l[t] - int(l[t] != l[t - 1]) * iota)\n",
    "    return h\n",
    "\n",
    "# Start with a small K\n",
    "K_values = np.empty(25)\n",
    "for i in range(25):\n",
    "    K = 30\n",
    "    H_values = []\n",
    "    while True:\n",
    "        for k in range(K):\n",
    "            kappa = generate_kappa(rho, sigma_eps, T, np.random.seed(i*k))\n",
    "            l = calculate_lt(kappa, w, eta)\n",
    "            h = calculate_h(kappa, l, R, w, eta, iota, T)\n",
    "            H_values.append(h)\n",
    "        \n",
    "        # Calculate mean and standard deviation\n",
    "        mean_H = np.mean(H_values)\n",
    "        std_H = np.std(H_values)\n",
    "        conf_interval = 1.96 * std_H / np.sqrt(K)  # 95% confidence interval\n",
    "        \n",
    "        #print(f\"After {K} simulations, H: {mean_H}, Std Dev: {std_H}, 95% CI: +/-{conf_interval}\")\n",
    "        \n",
    "        # Break the loop if the relative size of the confidence interval is small enough\n",
    "        if conf_interval / np.abs(mean_H) < 0.05:  # or whatever precision you require\n",
    "            break\n",
    "        \n",
    "        # Increase K for the next iteration\n",
    "        K += 1\n",
    "    K_values[i]=K\n",
    "#    print(f\"Final number of simulations: {K}\")\n",
    "print(f\"Sufficient number of simulations: {np.mean(K_values)}\")"
   ]
  },
  {
   "attachments": {},
   "cell_type": "markdown",
   "metadata": {},
   "source": [
    "Next, we consider policies on the form:\n",
    "\n",
    "$$\n",
    "\n",
    "\\ell_{t}=\\begin{cases}\n",
    "\\ell_t^{\\ast}  & \\text{if }\\left|\\ell_{t-1}-\\ell_t^{\\ast} \\right|>\\Delta\\\\\n",
    "\\ell_{t-1} & \\text{else }\n",
    "\\end{cases}\n",
    "\\\\\n",
    "\\text{where}\\,\\,\\ell_t^{\\ast} = \\left(\\frac{(1-\\eta)\\kappa_{t}}{w}\\right)^{\\frac{1}{\\eta}} \\\\\n",
    "\n",
    "$$\n",
    "With $\\Delta \\geq 0$ and $\\Delta = 0$ being the previous policy.\n"
   ]
  },
  {
   "attachments": {},
   "cell_type": "markdown",
   "metadata": {},
   "source": [
    "\n",
    "**Question 3:** Calculate $H$ if the policy above was followed with $\\Delta = 0.05$. Does it improve profitability?"
   ]
  },
  {
   "cell_type": "code",
   "execution_count": null,
   "metadata": {},
   "outputs": [],
   "source": [
    "import numpy as np\n",
    "\n",
    "# Parameters\n",
    "rho = 0.90\n",
    "iota = 0.01\n",
    "sigma_eps = 0.10\n",
    "R = (1+0.01)**(1/12)\n",
    "eta = 0.5 # assuming eta from the earlier problem\n",
    "w = 1 # assuming a wage rate\n",
    "K = 50 # number of simulations for approximation\n",
    "T = 120 # 10 years, 120 months\n",
    "Delta = 0.05 # change threshold\n",
    "\n",
    "# Function to generate kappa_t\n",
    "def generate_kappa(rho, sigma_eps, T, seed):\n",
    "    np.random.seed(seed)\n",
    "    eps = np.random.normal(-0.5 * sigma_eps**2, sigma_eps, T)\n",
    "    kappa = np.empty(T)\n",
    "    kappa[0] = 1\n",
    "    for t in range(1, T):\n",
    "        kappa[t] = np.exp(rho * np.log(kappa[t-1]) + eps[t])\n",
    "    return kappa\n",
    "\n",
    "\n",
    "# Function to calculate l_t\n",
    "def calculate_lt(kappa, w, eta, Delta):\n",
    "    l = np.empty(T)\n",
    "    l[0] = 0\n",
    "    l_star = np.empty(T)\n",
    "    for t in range(1, T):\n",
    "        l_star[t] = ((1 - eta) * kappa[t] / w)**(1 / eta)\n",
    "        if np.abs(l[t-1] - l_star[t]) > Delta:\n",
    "            l[t] = l_star[t]\n",
    "        else:\n",
    "            l[t] = l[t-1]    \n",
    "    return l\n",
    "\n",
    "# Function to calculate ex post value\n",
    "def calculate_h(kappa, l, R, w, eta, iota, T):\n",
    "    h = 0\n",
    "    for t in range(T):\n",
    "        h += R**(-t) * (kappa[t] * l[t]**(1 - eta) - w * l[t] - int(l[t] != l[t - 1]) * iota)\n",
    "    return h\n",
    "\n",
    "improvement = np.empty(50)\n",
    "for i in range(50):\n",
    "    # Run simulations for old policy\n",
    "    H_values_old = []\n",
    "    for k in range(K):\n",
    "        kappa = generate_kappa(rho, sigma_eps, T, np.random.seed(i*k))\n",
    "        l = ((1 - eta) * kappa / w)**(1 / eta)\n",
    "        h = calculate_h(kappa, l, R, w, eta, iota, T)\n",
    "        H_values_old.append(h)\n",
    "\n",
    "    # Calculate H for old policy\n",
    "    H_old = np.mean(H_values_old)\n",
    "\n",
    "    # Run simulations for new policy\n",
    "    H_values_new = []\n",
    "    for k in range(K):\n",
    "        kappa = generate_kappa(rho, sigma_eps, T, np.random.seed(i*k))\n",
    "        l = calculate_lt(kappa, w, eta, Delta)\n",
    "        h = calculate_h(kappa, l, R, w, eta, iota, T)\n",
    "        H_values_new.append(h)\n",
    "\n",
    "    # Calculate H for new policy\n",
    "    H_new = np.mean(H_values_new)\n",
    "\n",
    "    #Improvement\n",
    "    improvement[i] = H_new - H_old\n",
    "\n",
    "# Print results\n",
    "print(f'On average, the new policy improves profitability with {np.mean(improvement):.2f}.')\n"
   ]
  },
  {
   "attachments": {},
   "cell_type": "markdown",
   "metadata": {},
   "source": [
    "**Question 4:** Find the optimal $\\Delta$ maximizing $H$. Illustrate your result."
   ]
  },
  {
   "cell_type": "code",
   "execution_count": null,
   "metadata": {},
   "outputs": [],
   "source": [
    "import numpy as np\n",
    "import matplotlib.pyplot as plt\n",
    "\n",
    "# Parameters\n",
    "rho = 0.90\n",
    "iota = 0.01\n",
    "sigma_eps = 0.10\n",
    "R = (1+0.01)**(1/12)\n",
    "eta = 0.5 # assuming eta from the earlier problem\n",
    "w = 1 # assuming a wage rate\n",
    "K = 51 # number of simulations for approximation\n",
    "T = 120 # 10 years, 120 months\n",
    "\n",
    "# Function to generate kappa_t\n",
    "def generate_kappa(rho, sigma_eps, T, seed):\n",
    "    np.random.seed(seed)\n",
    "    eps = np.random.normal(-0.5 * sigma_eps**2, sigma_eps, T)\n",
    "    kappa = np.empty(T)\n",
    "    kappa[0] = 1\n",
    "    for t in range(1, T):\n",
    "        kappa[t] = np.exp(rho * np.log(kappa[t-1]) + eps[t])\n",
    "    return kappa\n",
    "\n",
    "# Function to calculate l_t\n",
    "def calculate_lt(kappa, w, eta, Delta):\n",
    "    l = np.empty(T)\n",
    "    l[0] = 0\n",
    "    l_star = np.empty(T)\n",
    "    for t in range(1, T):\n",
    "        l_star[t] = ((1 - eta) * kappa[t] / w)**(1 / eta)\n",
    "        if np.abs(l[t-1] - l_star[t]) > Delta:\n",
    "            l[t] = l_star[t]\n",
    "        else:\n",
    "            l[t] = l[t-1]    \n",
    "    return l\n",
    "\n",
    "# Function to calculate ex post value\n",
    "def calculate_h(kappa, l, R, w, eta, iota, T):\n",
    "    h = 0\n",
    "    for t in range(T):\n",
    "        h += R**(-t) * (kappa[t] * l[t]**(1 - eta) - w * l[t] - int(l[t] != l[t - 1]) * iota)\n",
    "    return h\n",
    "\n",
    "\n",
    "# Looping over Delta loop 10 times\n",
    "\n",
    "Deltas = []\n",
    "H_values = []\n",
    "\n",
    "\n",
    "\n",
    "# Check a range of Delta values\n",
    "for Delta in np.linspace(0, 0.4, 500):  # Adjust the range and step size as needed\n",
    "\n",
    "    # Run simulations for new policy\n",
    "    H_values_new = []\n",
    "    for k in range(K):\n",
    "        kappa = generate_kappa(rho, sigma_eps, T, np.random.seed(k))\n",
    "        l = calculate_lt(kappa, w, eta, Delta)\n",
    "        h = calculate_h(kappa, l, R, w, eta, iota, T)\n",
    "        H_values_new.append(h)\n",
    "\n",
    "    # Calculate H for new policy\n",
    "    H_new = np.mean(H_values_new)\n",
    "    \n",
    "    Deltas.append(Delta)\n",
    "    H_values.append(H_new)\n",
    "    \n",
    "    if H_new > max_H_new:\n",
    "        max_H_new = H_new\n",
    "        best_Delta = Delta\n",
    "            \n",
    "    \n",
    "print(f\"The mean best Delta value over 10 runs is {best_Delta:.2f}\")\n",
    "\n",
    "\n",
    "# Plot Delta vs H\n",
    "plt.figure(figsize=(10, 6))\n",
    "plt.scatter(Deltas, H_values)\n",
    "plt.xlabel(\"Delta\")\n",
    "plt.ylabel(\"H\")\n",
    "plt.title(\"Delta vs H\")\n",
    "plt.grid(True)\n",
    "plt.show()\n",
    "\n"
   ]
  },
  {
   "attachments": {},
   "cell_type": "markdown",
   "metadata": {},
   "source": [
    "\n",
    "**Question 5:** Suggest an alternative policy you believe might improve profitability. Implement and test your policy.\n",
    "\n"
   ]
  },
  {
   "cell_type": "code",
   "execution_count": null,
   "metadata": {},
   "outputs": [],
   "source": [
    "import numpy as np\n",
    "import random\n",
    "\n",
    "# Parameters\n",
    "rho = 0.90\n",
    "iota = 0.01\n",
    "sigma_eps = 0.10\n",
    "R = (1+0.01)**(1/12)\n",
    "eta = 0.5 # assuming eta from the earlier problem\n",
    "w = 1 # assuming a wage rate\n",
    "K = 50 # number of simulations for approximation\n",
    "T = 120 # 10 years, 120 months\n",
    "Delta = 0.1 # change threshold\n",
    "\n",
    "# Function to generate kappa_t\n",
    "def generate_kappa(rho, sigma_eps, T, seed):\n",
    "    np.random.seed(seed)\n",
    "    eps = np.random.normal(-0.5 * sigma_eps**2, sigma_eps, T)\n",
    "    kappa = np.empty(T)\n",
    "    kappa[0] = 1\n",
    "    for t in range(1, T):\n",
    "        kappa[t] = np.exp(rho * np.log(kappa[t-1]) + eps[t])\n",
    "    return kappa\n",
    "\n",
    "\n",
    "# Function to calculate l_t\n",
    "def calculate_lt(kappa, w, eta, Delta):\n",
    "    l = np.empty(T)\n",
    "    l[0] = 0\n",
    "    l_star = np.empty(T)\n",
    "    for t in range(1, T):\n",
    "        l_star[t] = ((1 - eta) * kappa[t] / w)**(1 / eta)\n",
    "        if np.abs(l[t-1] - l_star[t]) > Delta:\n",
    "            l[t] = l_star[t]\n",
    "        else:\n",
    "            l[t] = l[t-1]    \n",
    "    return l\n",
    "\n",
    "# Function to calculate ex post value\n",
    "def calculate_h(kappa, l, R, w, eta, iota, T):\n",
    "    h = 0\n",
    "    for t in range(T):\n",
    "        h += R**(-t) * (kappa[t] * l[t]**(1 - eta) - w * l[t] - int(l[t] != l[t - 1]) * iota)\n",
    "    return h\n",
    "\n",
    "# Function to calculate ex post value\n",
    "def calculate_h_extention(kappa, l, R, w, eta, iota, T):\n",
    "    h = 0\n",
    "    for t in range(T):\n",
    "        h += R**(-t) * (kappa[t] * l[t]**(1 - eta) - w * l[t] - (l[t] - l[t - 1]) * iota)\n",
    "    return h\n",
    "\n",
    "improvement = np.empty(50)\n",
    "for i in range(50):\n",
    "    # Run simulations for old policy\n",
    "    H_values_extention = []\n",
    "    for k in range(K):\n",
    "        kappa = generate_kappa(rho, sigma_eps, T, (i+1)*(k+1))\n",
    "        l = ((1 - eta) * kappa / w)**(1 / eta)\n",
    "        h = calculate_h_extention(kappa, l, R, w, eta, iota, T)\n",
    "        H_values_extention.append(h)\n",
    "\n",
    "    # Calculate H for old policy\n",
    "    H_extention = np.mean(H_values_extention)\n",
    "\n",
    "    # Run simulations for new policy\n",
    "    H_values_Delta = []\n",
    "    for k in range(K):\n",
    "        kappa = generate_kappa(rho, sigma_eps, T, (i+1)*(k+1))\n",
    "        l = calculate_lt(kappa, w, eta, Delta)\n",
    "        h = calculate_h(kappa, l, R, w, eta, iota, T)\n",
    "        H_values_Delta.append(h)\n",
    "\n",
    "    # Calculate H for new policy\n",
    "    H_Delta = np.mean(H_values_Delta)\n",
    "\n",
    "    #Improvement\n",
    "    improvement[i] = H_extention - H_Delta\n",
    "\n",
    "# Print results\n",
    "print(f'On average, the our new extention improves profitability with {np.mean(improvement):.2f}.')\n"
   ]
  },
  {
   "attachments": {},
   "cell_type": "markdown",
   "metadata": {},
   "source": [
    "## 3. <a id='toc3_'></a>[Problem 3: Global optimizer with refined multi-start](#toc0_)"
   ]
  },
  {
   "attachments": {},
   "cell_type": "markdown",
   "metadata": {},
   "source": [
    "We consider the Griewank function:\n",
    "\n",
    "$$ f(\\boldsymbol{x}) = \\sum^n_{i=1} \\frac{x^2_i}{4000}-\\prod^n_{i=1}\\cos\\left(\\frac{x_i}{\\sqrt{i}}\\right)+1$$\n",
    "\n",
    "The **global minimum** of this function is $f(0,0) = 0$ (remember: $\\cos(0)=1$).<br>\n",
    "But the function also have a lot of **local minima**."
   ]
  },
  {
   "cell_type": "code",
   "execution_count": null,
   "metadata": {},
   "outputs": [],
   "source": [
    "def griewank(x):\n",
    "    return griewank_(x[0],x[1])\n",
    "    \n",
    "def griewank_(x1,x2):\n",
    "    A = x1**2/4000 + x2**2/4000\n",
    "    B = np.cos(x1/np.sqrt(1))*np.cos(x2/np.sqrt(2))\n",
    "    return A-B+1"
   ]
  },
  {
   "attachments": {},
   "cell_type": "markdown",
   "metadata": {},
   "source": [
    "A **refined global optimizer with multi-start** is:\n",
    "\n",
    "1. Choose *bounds* for $\\mathbf{x}$ and *tolerance* $\\tau > 0$.\n",
    "2. Choose number of *warm-up iterations*, $\\underline{K} > 0$ and *maximum number of iterations*, $K > \\underline{K}$.\n",
    "3. In each iteration for $k \\in \\{0,1,\\dots,K-1\\}$:\n",
    "\n",
    "    A. Draw random $\\mathbf{x}^k$ uniformly within chosen bounds.\n",
    "\n",
    "    B. If $k < \\underline{K}$ go to step E.\n",
    "\n",
    "    C. Calculate $\\chi^k = 0.50\\cdot\\frac{2}{1+\\exp((k-\\underline{K})/100)}$  \n",
    "\n",
    "    D. Set $\\mathbf{x}^{k0} = \\chi^k \\mathbf{x}^k + (1-\\chi^k)\\mathbf{x}^{\\ast} $\n",
    "\n",
    "    E. Run optimizer with $\\mathbf{x}^{k0}$ as initial guess and $\\mathbf{x}^{k\\ast}$ as result.\n",
    "\n",
    "    F. Set $\\mathbf{x}^{\\ast} = \\mathbf{x}^{k\\ast}$ if $k = 0$ or $f(\\mathbf{x}^{k\\ast}) < f(\\mathbf{x}^{\\ast})$\n",
    "\n",
    "    G. If $f(\\mathbf{x}^{\\ast}) < \\tau$ go to step 4.\n",
    "\n",
    "4. Return the result $\\mathbf{x}^{\\ast}$."
   ]
  },
  {
   "attachments": {},
   "cell_type": "markdown",
   "metadata": {},
   "source": [
    "As settings we choose:\n",
    "\n",
    "* $x_1,x_2 \\in  [-600,600]$\n",
    "* $\\tau = 10^{-8}$\n",
    "* $\\underline{K}=10$\n",
    "* $K=1000$\n",
    "\n",
    "The optimizer in Step 3.E is `BFGS` with a tolerance of $\\tau$."
   ]
  },
  {
   "attachments": {},
   "cell_type": "markdown",
   "metadata": {},
   "source": [
    "**Question 1:** Implement the refined global optimizer with multi-start. Illustrate how the effective initial guesses $\\mathbf{x}^{k0}$ vary with the iteration counter $k$."
   ]
  },
  {
   "cell_type": "code",
   "execution_count": null,
   "metadata": {},
   "outputs": [],
   "source": [
    "# write your code here"
   ]
  },
  {
   "attachments": {},
   "cell_type": "markdown",
   "metadata": {},
   "source": [
    "**Question 2:** Is it a better idea to set $\\underline{K} = 100$? Is the convergence faster?"
   ]
  },
  {
   "cell_type": "code",
   "execution_count": null,
   "metadata": {},
   "outputs": [],
   "source": [
    "# write your code here"
   ]
  }
 ],
 "metadata": {
  "kernelspec": {
   "display_name": "base",
   "language": "python",
   "name": "python3"
  },
  "language_info": {
   "codemirror_mode": {
    "name": "ipython",
    "version": 3
   },
   "file_extension": ".py",
   "mimetype": "text/x-python",
   "name": "python",
   "nbconvert_exporter": "python",
   "pygments_lexer": "ipython3",
   "version": "3.9.16"
  },
  "orig_nbformat": 4
 },
 "nbformat": 4,
 "nbformat_minor": 2
}
