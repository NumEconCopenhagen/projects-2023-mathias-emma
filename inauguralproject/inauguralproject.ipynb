{
 "cells": [
  {
   "cell_type": "markdown",
   "metadata": {},
   "source": [
    "# Inaugural Project"
   ]
  },
  {
   "attachments": {},
   "cell_type": "markdown",
   "metadata": {},
   "source": [
    "> **Note the following:** \n",
    "> 1. This is an example of how to structure your **inaugural project**.\n",
    "> 1. Remember the general advice on structuring and commenting your code\n",
    "> 1. The `inauguralproject.py` file includes a function which can be used multiple times in this notebook."
   ]
  },
  {
   "cell_type": "markdown",
   "metadata": {},
   "source": [
    "Imports and set magics:"
   ]
  },
  {
   "cell_type": "code",
   "execution_count": 112,
   "metadata": {},
   "outputs": [
    {
     "name": "stdout",
     "output_type": "stream",
     "text": [
      "The autoreload extension is already loaded. To reload it, use:\n",
      "  %reload_ext autoreload\n"
     ]
    }
   ],
   "source": [
    "import numpy as np\n",
    "\n",
    "# autoreload modules when code is run. Otherwise, python will not see recent changes. \n",
    "%load_ext autoreload\n",
    "%autoreload 2\n",
    "\n",
    "# Import your own code\n",
    "import inauguralproject\n",
    "from HouseholdSpecializationModel import HouseholdSpecializationModelClass"
   ]
  },
  {
   "cell_type": "code",
   "execution_count": 113,
   "metadata": {},
   "outputs": [],
   "source": [
    "model = HouseholdSpecializationModelClass()"
   ]
  },
  {
   "attachments": {},
   "cell_type": "markdown",
   "metadata": {},
   "source": [
    "# Question 1"
   ]
  },
  {
   "cell_type": "code",
   "execution_count": 125,
   "metadata": {},
   "outputs": [
    {
     "name": "stdout",
     "output_type": "stream",
     "text": [
      " For sigma = 0.50 and alpha = 0.25    relative hours at home: 0.5455\n",
      " For sigma = 0.50 and alpha = 0.50    relative hours at home: 1.0000\n",
      " For sigma = 0.50 and alpha = 0.75    relative hours at home: 1.8333\n",
      " For sigma = 1.00 and alpha = 0.25    relative hours at home: 0.3077\n",
      " For sigma = 1.00 and alpha = 0.50    relative hours at home: 1.0000\n",
      " For sigma = 1.00 and alpha = 0.75    relative hours at home: 3.2500\n",
      " For sigma = 1.50 and alpha = 0.25    relative hours at home: 0.2143\n",
      " For sigma = 1.50 and alpha = 0.50    relative hours at home: 1.0000\n",
      " For sigma = 1.50 and alpha = 0.75    relative hours at home: 4.6667\n"
     ]
    }
   ],
   "source": [
    "#Unpaking model \n",
    "par = model.par\n",
    "\n",
    "\n",
    "list_alpha = [0.25, 0.5, 0.75]\n",
    "list_sigma = [0.5, 1, 1.5]\n",
    "\n",
    "#Code solves the discrete model for lists of alpha and sigma \n",
    "for i in list_sigma:\n",
    "    for j in list_alpha:\n",
    "        par.sigma = i\n",
    "        par.alpha = j\n",
    "        opt = model.solve_discrete()\n",
    "#        print(f' For sigma = {par.sigma:.2f} and alpha = {par.alpha:.2f} {opt}')\n",
    "        \n",
    "        relative_hours = opt.HF/opt.HM\n",
    "        print(f' For sigma = {par.sigma:.2f} and alpha = {par.alpha:.2f}    relative hours at home: {relative_hours:.4f}')\n",
    "\n"
   ]
  },
  {
   "attachments": {},
   "cell_type": "markdown",
   "metadata": {},
   "source": [
    "# Question 2"
   ]
  },
  {
   "attachments": {},
   "cell_type": "markdown",
   "metadata": {},
   "source": [
    "**Ploting relative wage**"
   ]
  },
  {
   "cell_type": "code",
   "execution_count": null,
   "metadata": {},
   "outputs": [],
   "source": [
    "list_wage = [] "
   ]
  }
 ],
 "metadata": {
  "kernelspec": {
   "display_name": "base",
   "language": "python",
   "name": "python3"
  },
  "language_info": {
   "codemirror_mode": {
    "name": "ipython",
    "version": 3
   },
   "file_extension": ".py",
   "mimetype": "text/x-python",
   "name": "python",
   "nbconvert_exporter": "python",
   "pygments_lexer": "ipython3",
   "version": "3.9.13"
  },
  "toc-autonumbering": true,
  "vscode": {
   "interpreter": {
    "hash": "47ef90cdf3004d3f859f1fb202523c65c07ba7c22eefd261b181f4744e2d0403"
   }
  }
 },
 "nbformat": 4,
 "nbformat_minor": 4
}
