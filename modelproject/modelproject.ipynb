{
 "cells": [
  {
   "attachments": {},
   "cell_type": "markdown",
   "metadata": {},
   "source": [
    "# Solow-Swan model with human capital"
   ]
  },
  {
   "attachments": {},
   "cell_type": "markdown",
   "metadata": {},
   "source": [
    "**Table of contents**<a id='toc0_'></a>   \n",
    "- 1. [The Solow model with human capital](#toc1_)    \n",
    "- 2. [Analytical solution](#toc2_)\n",
    "  - 2.1. [Nullclines](#toc2_1_)  \n",
    "  - 2.2. [Steady state human and physical capital](#toc2_2_)  \n",
    "- 3. [Numerical solution](#toc3_)    \n",
    "  - 3.1. [Phase-diagrams](#toc3_1_)\n",
    "- 4. [Extension to the Solow model with human capital](#toc4_)\n",
    "  - 4.1. [Simulation of the Solow model with human capital and tax](#toc4_1_)\n",
    "- 5. [Conclusion](#toc5_)    \n",
    "\n",
    "<!-- vscode-jupyter-toc-config\n",
    "\tnumbering=true\n",
    "\tanchor=true\n",
    "\tflat=false\n",
    "\tminLevel=2\n",
    "\tmaxLevel=6\n",
    "\t/vscode-jupyter-toc-config -->\n",
    "<!-- THIS CELL WILL BE REPLACED ON TOC UPDATE. DO NOT WRITE YOUR TEXT IN THIS CELL -->"
   ]
  },
  {
   "attachments": {},
   "cell_type": "markdown",
   "metadata": {},
   "source": [
    "Imports and set magics:"
   ]
  },
  {
   "cell_type": "code",
   "execution_count": 1,
   "metadata": {},
   "outputs": [],
   "source": [
    "import numpy as np\n",
    "from scipy import optimize\n",
    "import sympy as sm\n",
    "from sympy import Symbol\n",
    "from sympy.solvers import solve\n",
    "sm.init_printing(use_unicode=True) # for pretty printing\n",
    "import matplotlib.pyplot as plt # baseline modul\n",
    "from ipywidgets import interact\n",
    "\n",
    "# autoreload modules when code is run\n",
    "%load_ext autoreload\n",
    "%autoreload 2\n",
    "\n",
    "# local modules\n",
    "import modelproject\n",
    "\n"
   ]
  },
  {
   "attachments": {},
   "cell_type": "markdown",
   "metadata": {},
   "source": [
    "## 1. <a id='toc1_'></a>[The Solow model with human capital](#toc0_)"
   ]
  },
  {
   "attachments": {},
   "cell_type": "markdown",
   "metadata": {},
   "source": [
    "We will be working with a Solow model with physical and human capital. \n",
    "Like physical capital, in the standard Solow model, human capital accumulates. A fixed rate depreciates each period, and a constant fraction $s_H$ of production is saved for further human capital in the next period. Human capital can be thought of as stocks accumulating (without depreciation) such as education, health and IQ.  \n",
    "\n",
    "\n",
    "## Variables \n",
    "\n",
    "* $Y_t$ : Production\n",
    "* $L_t$ : Labor\n",
    "* $A_t$ : Technology\n",
    "* $K_t$ : Physical Capital\n",
    "* $H_t$ : Human Capital\n",
    "\n",
    "## Parameters\n",
    "\n",
    "* $s_h$:       Savings/Investments in human capital\\\n",
    "* $s_k$:       Savings/Investments in physical capital\\\n",
    "* $g$:         Growth rate of technology\\\n",
    "* $n$:         Growth rate of the labour force\n",
    "* $\\delta$:    Depreciation rate of physical capital\\\n",
    "* $\\alpha$:    Return on physical capital\\\n",
    "* $\\phi$:      Return on human capital\\\n",
    "* $h$:         Human capital per effective worker (Stock)\\\n",
    "\n",
    "## Equations \n",
    "\n",
    "**Production function** \n",
    "\n",
    "$ Y_{t}=K_{t}^{\\alpha}H_{t}^{\\varphi}(A_{t}L_{t})^{1-\\alpha-\\varphi} $\n",
    "\n",
    "**Total savings** \\\n",
    "Constant fraction of production in the eoconomy\n",
    "\n",
    "$ S_t = (s_H+s_K)Y_t,\\, s_H+s_K\\in(0,1) $\n",
    "\n",
    "**Capital Accumulation**\n",
    "\n",
    "$ K_{t+1}=s_{K}Y_t+(1-\\delta)K_{t}$\n",
    "\n",
    "**Human capital accumulation** \n",
    "\n",
    "$ H_{t+1} = s_{H}Y_t+(1-\\delta)H_t $\n",
    "\n",
    "**Population and technology growth (TFP)**\n",
    "\n",
    "$ L_{t+1} = (1+n)L_t $\n",
    "\n",
    "$ A_{t+1} = (1+g)A_t $\n",
    "\n",
    "## Tilde equations\n",
    "\n",
    "In order to analyse the model we calculate the per effective worker values. That is, divide by the population size and technology level. \n",
    "\n",
    "\n",
    "**Definitions**\n",
    "\n",
    "Production, physical capital and human capital divided by popluation and technology to get: \\\n",
    "$   \\tilde{y}_{t} = \\frac{Y_{t}} {A_tL_t} $\\\n",
    "$   \\tilde{k}_{t} = \\frac{K_{t}} {A_tL_t} $\\\n",
    "$   \\tilde{h}_{t} = \\frac{H_{t}} {A_tL_t} $\n",
    "\n",
    "**Transition Equations** \n",
    "\n",
    "The tilde transition equations can be found by inserting the tilde definitions:\n",
    "\n",
    "$ \\tilde{k}_{t+1}= \\frac{1}{(1+n)(1+g)}[s_K\\tilde{k}_{t}^{\\alpha}\\tilde{h}_{t}^{\\varphi}+(1-\\delta)\\tilde{k}_{t}] $\n",
    "\n",
    "$ \\tilde{h}_{t+1}= \\frac{1}{(1+n)(1+g)}[s_H\\tilde{k}_{t}^{\\alpha}\\tilde{h}_{t}^{\\varphi}+(1-\\delta)\\tilde{h}_{t}] $\n",
    "\n",
    "\n",
    "\n",
    "**OBS: In the following, the tilde values will simply be writen as uncapitalized letters**\n",
    "\n"
   ]
  },
  {
   "attachments": {},
   "cell_type": "markdown",
   "metadata": {},
   "source": [
    "## 2. <a id='toc2_'></a>[Analytical solution](#toc0_)"
   ]
  },
  {
   "attachments": {},
   "cell_type": "markdown",
   "metadata": {},
   "source": [
    "### 2.1. <a id='toc2_1_'></a>[Nullclines](#toc0_)"
   ]
  },
  {
   "attachments": {},
   "cell_type": "markdown",
   "metadata": {},
   "source": [
    "Calling the function that derives the nullclines and prints latex code from the py-file "
   ]
  },
  {
   "cell_type": "code",
   "execution_count": 2,
   "metadata": {},
   "outputs": [],
   "source": [
    "out = modelproject.analytical()"
   ]
  },
  {
   "attachments": {},
   "cell_type": "markdown",
   "metadata": {},
   "source": [
    "\n",
    "Nulcline for pysical capital:\n",
    "\n",
    "$$ \\tilde{h_t} = \\left[ \\left(\\frac{k^{1 - \\alpha} \\left(\\delta + g n + g + n\\right)}{s_{k}}\\right)^{\\frac{1}{\\phi}}\\right], \\quad \\Delta \\tilde{k}_t = 0 $$\n",
    "\n",
    "\n",
    "\n",
    "Nulcline for human capital:\n",
    "\n",
    "$$ \\tilde{h_t} =\\left[ \\left(\\frac{k^{- \\alpha} \\left(\\delta + g n + g + n\\right)}{s_{h}}\\right)^{\\frac{1}{\\phi - 1}}\\right], \\quad \\Delta \\tilde{h}_t = 0$$"
   ]
  },
  {
   "attachments": {},
   "cell_type": "markdown",
   "metadata": {},
   "source": [
    "### 2.2. <a id='toc2_2_'></a>[Steady state human and physical capital](#toc0_)\n"
   ]
  },
  {
   "attachments": {},
   "cell_type": "markdown",
   "metadata": {},
   "source": [
    "Solving for steady state gives the folowing levels of fysical and human capital:\n",
    "\n",
    "Steady state pysical capital:\n",
    "$$\\tilde{k}^{\\ast}=\\left(\\dfrac{s_K^{1-\\varphi}s_H^{\\varphi}}{n+g+\\delta+ng}\\right)^{\\frac{1}{1-\\alpha-\\varphi}}$$\n",
    "\n",
    "\n",
    "Steady state human capital:\n",
    "$$\\tilde{h}^{\\ast}=\\left(\\dfrac{s_K^{\\alpha}s_H^{1-\\alpha}}{n+g+\\delta+ng}\\right)^{\\frac{1}{1-\\alpha-\\varphi}}$$\n",
    "\n",
    "\n",
    "There are cross-effects, meaning that an increase in the savings rate for physical capital incrseas both the level of human and fysical capital. The same is true for the savings on human capital "
   ]
  },
  {
   "attachments": {},
   "cell_type": "markdown",
   "metadata": {},
   "source": [
    "## 3. <a id='toc3_'></a>[Numerical solution](#toc0_)"
   ]
  },
  {
   "attachments": {},
   "cell_type": "markdown",
   "metadata": {},
   "source": [
    "We now progress to the numerical solution to the Solow-Swan-model with human capital accumulation\n",
    "\n",
    "After obtaining the analytical solution, we can use numerical methods to verify the results and investigate the dynamics of the model. In this section, we solve the model numerically using the root-finding method in SciPy library. Additionally, we will explore the long-run dynamics of the model and examine the impact of different parameter values on the steady-state levels of capital and labor. The steady state is optained when the level of physical and human capital per effective worker is constant, i.e. a long run solution."
   ]
  },
  {
   "cell_type": "code",
   "execution_count": 3,
   "metadata": {},
   "outputs": [
    {
     "name": "stdout",
     "output_type": "stream",
     "text": [
      "The level of human and physical capital per effective worker \n",
      " in steady state are = 1.939 and 1.939, respectively.\n"
     ]
    }
   ],
   "source": [
    "# 1. Setting up baseline parameters\n",
    "s_h = 0.10\n",
    "s_k = 0.10\n",
    "g = 0.02\n",
    "n = 0.01\n",
    "alpha = 1/3\n",
    "phi = 1/3\n",
    "delta = 0.05\n",
    "\n",
    "# 2. Setting up the objective and solving the model\n",
    "objective = lambda x: [modelproject.f(x[0],x[1],s_h,s_k,g,n,alpha,phi,delta)]\n",
    "solution = optimize.root(objective,[1,1],method = 'broyden1')\n",
    "num_solution = solution.x\n",
    "\n",
    "# 3. Printing the results\n",
    "print(f'The level of human and physical capital per effective worker \\n in steady state are = {num_solution[0]:.3f} and {num_solution[1]:.3f}, respectively.')\n"
   ]
  },
  {
   "attachments": {},
   "cell_type": "markdown",
   "metadata": {},
   "source": [
    "### 3.1. <a id='toc3_1_'></a>[Phase-diagrams](#toc0_)"
   ]
  },
  {
   "attachments": {},
   "cell_type": "markdown",
   "metadata": {},
   "source": [
    "The phase-diagram can be used to illustrate that there only exist a single point where both human and physical capital per effective worker is constant, which is characterized as our steady state:\n",
    "\n",
    "$\\Delta\\tilde{h}^{\\ast}=\\Delta\\tilde{k}^{\\ast}=0$ \n",
    "\n",
    "\n",
    "The phase-diagram consists of two nullclines where $\\Delta\\tilde{h}^{\\ast}=0$ and $\\Delta\\tilde{k}^{\\ast}=0$, repsectively.\n",
    "\n",
    "\n",
    "Unfortunately, the widgets do not work in Git, so the interactive plot here and the one in the last section can only be viewed in VSC. "
   ]
  },
  {
   "cell_type": "code",
   "execution_count": 4,
   "metadata": {},
   "outputs": [
    {
     "data": {
      "application/vnd.jupyter.widget-view+json": {
       "model_id": "e443651f91fa4b5d957a29d1d4c65267",
       "version_major": 2,
       "version_minor": 0
      },
      "text/plain": [
       "interactive(children=(FloatSlider(value=0.1, description='s_h', max=0.2, step=0.02), FloatSlider(value=0.1, de…"
      ]
     },
     "metadata": {},
     "output_type": "display_data"
    },
    {
     "data": {
      "text/plain": [
       "<function modelproject.solve_ss(s_h=0.1, s_k=0.1, g=0.02, n=0.01, alpha=0.3333333333333333, phi=0.3333333333333333, delta=0.05)>"
      ]
     },
     "execution_count": 4,
     "metadata": {},
     "output_type": "execute_result"
    }
   ],
   "source": [
    "# 1. Interactive Phase-diagram\n",
    "interact(modelproject.solve_ss,  \n",
    "         s_h=(0, 0.2, 0.02), \n",
    "         s_k=(0, 0.2, 0.02), \n",
    "         g=(0, 0.05, 0.01), \n",
    "         n=(0, 0.05, 0.01),\n",
    "         alpha=(0.1, 0.7, 0.1), \n",
    "         phi=(0.2, 0.7, 0.1), \n",
    "         delta=(0.03, 0.09, 0.01))\n"
   ]
  },
  {
   "attachments": {},
   "cell_type": "markdown",
   "metadata": {},
   "source": [
    "## 4. <a id='toc4_'></a>[Extension to the Solow model with human capital](#toc0_)"
   ]
  },
  {
   "attachments": {},
   "cell_type": "markdown",
   "metadata": {},
   "source": [
    "### 4.1. <a id='toc4_1_'></a>[Simulation of the Solow Model with Human Capital and tax](#toc0_)"
   ]
  },
  {
   "attachments": {},
   "cell_type": "markdown",
   "metadata": {},
   "source": [
    "In the following simulation we consider a simplified version of the Solow model with human capital, where we assume a constant population growth rate $n$. savings rate for physical capital $s_k$, human capital $s_h$, techonological gworth $g$, depreciation rate $\\delta$, capital share $\\alpha$, human capital share $\\phi$, tax rate on physical capital investment $\\tau$, and the effect of human capital on investement $\\eta$. The parameter eta in this model representes the fraction of the tax paid on physical capital to the goverment, which is subsequently allocated to investement in human capital. This allocation of tax revenue towards human capital investment has the potential to stimulate higher levels of overall investment in the economy. \n",
    "\n",
    "The simulations starts with initial values for the different variables and the ierate over 1000 periods.The graph is interactive which mean we can gain insights on the relationsship between investment, capital accumulation, human capital development and economic growth by changing the parameters. \n",
    "\n",
    "The Solow model with human capital highlights the importance of both physical and human capital in driving long-term economic growth. It emphasizes that investing in human capital, such as education and skills development, can have significant positive effects on output and productivity. The model also demonstrates how changes in savings rates, population growth, technological progress, and policies such as taxes can impact the accumulation of capital and human capital, ultimately influencing economic growth rates.\n"
   ]
  },
  {
   "cell_type": "code",
   "execution_count": 5,
   "metadata": {},
   "outputs": [
    {
     "data": {
      "application/vnd.jupyter.widget-view+json": {
       "model_id": "80dcac4774814e8a98a3190bf6e5bcf1",
       "version_major": 2,
       "version_minor": 0
      },
      "text/plain": [
       "interactive(children=(FloatSlider(value=0.1, description='s_h', max=0.2, step=0.02), FloatSlider(value=0.1, de…"
      ]
     },
     "metadata": {},
     "output_type": "display_data"
    },
    {
     "data": {
      "text/plain": [
       "<function modelproject.solow_model(s_h=0.1, s_k=0.1, g=0.02, n=0.01, alpha=0.3333333333333333, phi=0.3333333333333333, delta=0.05, tau=0.1, eta=0.1)>"
      ]
     },
     "execution_count": 5,
     "metadata": {},
     "output_type": "execute_result"
    }
   ],
   "source": [
    "# 1. Setting up additional parameters\n",
    "tau = 0.1\n",
    "eta = 0.1\n",
    "\n",
    "# 2. Simulating the model over 1000 periods\n",
    "interact(modelproject.solow_model, \n",
    "         s_h=(0, 0.2, 0.02), \n",
    "         s_k=(0, 0.2, 0.02), \n",
    "         g=(0, 0.05, 0.01), \n",
    "         n=(0, 0.05, 0.01), \n",
    "         alpha=(0.1, 0.7, 0.1), \n",
    "         phi=(0.2, 0.7, 0.1), \n",
    "         delta=(0.03, 0.09, 0.01),\n",
    "         tau=(0, 1, 0.05), \n",
    "         eta=(0, 1, 0.05))"
   ]
  },
  {
   "attachments": {},
   "cell_type": "markdown",
   "metadata": {},
   "source": [
    "## 5. <a id='toc5_'></a>[Conclusion](#toc0_)\n"
   ]
  },
  {
   "attachments": {},
   "cell_type": "markdown",
   "metadata": {},
   "source": [
    "In conclusion, the Solow model with human capital has provided valuable insights into the dynamics of economic growth by incorporating the role of human capital and exploring the impact of various parameters.\n",
    "\n",
    "Firstly, we identified an analytical solution to the Solow model with human capital, which allowed us to understand the theoretical relationships between savings, production, and the accumulation of physical and human capital. This analytical framework provided a solid foundation for further analysis.\n",
    "\n",
    "Secondly, we developed a numerical solution to determine the steady-state value of the model. By iteratively calculating the values of capital per effective worker and human capital per effective worker, we were able to identify the long-term equilibrium levels and understand the convergence dynamics of the model. The numerical solution helped us understand how the economy behaves in different situations.\n",
    "\n",
    "Lastly, we introduced a tax on physical capital and examined the effects of allocating tax revenue to human capital investment. This extension of the model allowed us to analyze the impact of fiscal policies on economic growth and resource allocation. By considering the fraction of tax revenue allocated to human capital investment, we explored the potential to enhance investment levels and promote sustainable development through targeted allocations.\n"
   ]
  }
 ],
 "metadata": {
  "kernelspec": {
   "display_name": "base",
   "language": "python",
   "name": "python3"
  },
  "language_info": {
   "codemirror_mode": {
    "name": "ipython",
    "version": 3
   },
   "file_extension": ".py",
   "mimetype": "text/x-python",
   "name": "python",
   "nbconvert_exporter": "python",
   "pygments_lexer": "ipython3",
   "version": "3.9.16"
  },
  "toc-autonumbering": true,
  "vscode": {
   "interpreter": {
    "hash": "47ef90cdf3004d3f859f1fb202523c65c07ba7c22eefd261b181f4744e2d0403"
   }
  }
 },
 "nbformat": 4,
 "nbformat_minor": 4
}
