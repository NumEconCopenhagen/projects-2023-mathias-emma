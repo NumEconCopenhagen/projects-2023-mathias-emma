{
 "cells": [
  {
   "attachments": {},
   "cell_type": "markdown",
   "metadata": {},
   "source": [
    "# YOUR PROJECT TITLE"
   ]
  },
  {
   "attachments": {},
   "cell_type": "markdown",
   "metadata": {},
   "source": [
    "Imports and set magics:"
   ]
  },
  {
   "cell_type": "code",
   "execution_count": null,
   "metadata": {},
   "outputs": [],
   "source": [
    "import numpy as np\n",
    "from scipy import optimize\n",
    "import sympy as sm\n",
    "from sympy import Symbol\n",
    "from sympy.solvers import solve\n",
    "sm.init_printing(use_unicode=True) # for pretty printing\n",
    "from IPython.display import display\n",
    "import matplotlib.pyplot as plt # baseline modul\n",
    "import ipywidgets as widgets\n",
    "\n",
    "# autoreload modules when code is run\n",
    "%load_ext autoreload\n",
    "%autoreload 2\n",
    "\n",
    "# local modules\n",
    "import modelproject\n"
   ]
  },
  {
   "attachments": {},
   "cell_type": "markdown",
   "metadata": {},
   "source": [
    "# The Solow model with human capital\n",
    "\n",
    "We will be working with a solowmodel with fysical and human capital. \n",
    "Like fysical capital in the standard solow model, human capital accumulates. A fixed rate depriciates each priode, and a constant fraction $s_H$ of production is turned in to human capital. human capital can be thought of as things such as education, health and IQ.  \n",
    "\n",
    "\n",
    "## Variables \n",
    "\n",
    "* $Y_t$  : Production\n",
    "* $L_t$ : Labor\n",
    "* $A_t$ : Technology\n",
    "* $K_t$ : Phisical Capital\n",
    "* $H_t$ : Human Capital\n",
    "\n",
    "## Parameters\n",
    "\n",
    "* $s_h$:       Savings/Investments in human capital\\\n",
    "* $s_k$:       Savings/Investments in physical capital\\\n",
    "* $g$:         Growth rate of technology\\\n",
    "* $n$:         Growth rate of labour force\n",
    "* $\\delta$:     Deprisiation rate of physical capital\\\n",
    "* $\\alpha$:     Return physical capital\\\n",
    "* $\\phi$:       Return on human capital\\\n",
    "* $h$:         Human capital per effective worker (Stock)\\\n",
    "\n",
    "## Equations \n",
    "\n",
    "**Production funciton** \n",
    "\n",
    "$ Y_{t}=K_{t}^{\\alpha}H_{t}^{\\varphi}(A_{t}L_{t})^{1-\\alpha-\\varphi} $\n",
    "\n",
    "**Saving** \\\n",
    "Constant fraction of production in the eoconomy\n",
    "\n",
    "$ S_t = (s_H+s_K)Y_t,\\, s_H+s_K\\in(0,1) $\n",
    "\n",
    "**Capital Accumulation**\n",
    "\n",
    "$ K_{t+1}=s_{K}Y_t+(1-\\delta)K_{t}$\n",
    "\n",
    "**Human capital accumulation** \n",
    "\n",
    "$ H_{t+1} = s_{H}Y_t+(1-\\delta)H_t $\n",
    "\n",
    "**Population and teknology (TFP) growth**\n",
    "\n",
    "$ L_{t+1} = (1+n)L_t $\n",
    "\n",
    "$ A_{t+1} = (1+g)A_t $\n",
    "\n",
    "## Tilde equations\n",
    "\n",
    "In order to analyse the model we calculate the per effectiv worker values. That is, divid by the population and teknology level. \n",
    "\n",
    "\n",
    "**Defitiontions**\n",
    "\n",
    "Production, fysical capital and human capital as divided by popluation and teknology to get .... \\\n",
    "$   \\tilde{y}_{t} = \\frac{Y_{t}} {A_tL_t} $\\\n",
    "$   \\tilde{k}_{t} = \\frac{K_{t}} {A_tL_t} $\\\n",
    "$   \\tilde{h}_{t} = \\frac{H_{t}} {A_tL_t} $\n",
    "\n",
    "**Transition Equations** \n",
    "\n",
    "The tilde transition eqautions can be found by inserting the tilde definitions ...\n",
    "\n",
    "$ \\tilde{k}_{t+1}= \\frac{1}{(1+n)(1+g)}[s_K\\tilde{k}_{t}^{\\alpha}\\tilde{h}_{t}^{\\varphi}+(1-\\delta)\\tilde{k}_{t}] $\n",
    "\n",
    "$ \\tilde{h}_{t+1}= \\frac{1}{(1+n)(1+g)}[s_H\\tilde{k}_{t}^{\\alpha}\\tilde{h}_{t}^{\\varphi}+(1-\\delta)\\tilde{h}_{t}] $\n",
    "\n",
    "\n",
    "\n",
    "**OBS: In the folowing, the tilde values will simply be writen as uncapitalized letters**\n",
    "\n"
   ]
  },
  {
   "attachments": {},
   "cell_type": "markdown",
   "metadata": {},
   "source": [
    "## Analytical solution"
   ]
  },
  {
   "attachments": {},
   "cell_type": "markdown",
   "metadata": {},
   "source": [
    "## Nulclines"
   ]
  },
  {
   "attachments": {},
   "cell_type": "markdown",
   "metadata": {},
   "source": [
    "1. Defining the variables as symbols for using sympy"
   ]
  },
  {
   "cell_type": "code",
   "execution_count": null,
   "metadata": {},
   "outputs": [],
   "source": [
    "\n",
    "k = sm.symbols('k')\n",
    "h = sm.symbols('h')\n",
    "y = sm.symbols('y')\n",
    "c = sm.symbols('c')\n",
    "sh = sm.symbols('s_h')\n",
    "sk = sm.symbols('s_k')\n",
    "delta = sm.symbols('delta')\n",
    "phi = sm.symbols('phi')\n",
    "alpha = sm.symbols('alpha')\n",
    "g = sm.symbols('g')\n",
    "n = sm.symbols('n')\n",
    "A = sm.symbols('A')\n",
    "\n",
    "x = [sk, sh, g, phi, n, alpha, delta]\n"
   ]
  },
  {
   "attachments": {},
   "cell_type": "markdown",
   "metadata": {},
   "source": [
    "2. Function for deriving the analytical solution"
   ]
  },
  {
   "attachments": {},
   "cell_type": "markdown",
   "metadata": {},
   "source": [
    "## Numerical solution"
   ]
  },
  {
   "attachments": {},
   "cell_type": "markdown",
   "metadata": {},
   "source": [
    "We now progress to the numerical solution to the Solow-Swan-model with human capital accumulation\n"
   ]
  },
  {
   "cell_type": "code",
   "execution_count": null,
   "metadata": {},
   "outputs": [],
   "source": [
    "#For our numerical solution we use the following baseline parameters\n",
    "\n",
    "s_h = 0.1\n",
    "s_k = 0.1\n",
    "g = 0.02\n",
    "n = 0.01\n",
    "alpha = 1/3\n",
    "phi = 1/3\n",
    "delta = 0.06"
   ]
  },
  {
   "cell_type": "code",
   "execution_count": null,
   "metadata": {},
   "outputs": [],
   "source": [
    "def f(h,k,s_h,s_k,g,n,alpha,phi,delta):\n",
    "    \"\"\"input arguments:\n",
    "    h     (float): Human capital per effective worker (Stock)\n",
    "    k     (float): Physical capital per effective worker (Stock)\n",
    "    s_h   (float): Savings/Investments in human capital\n",
    "    s_k   (float): Savings/Investments in physical capital\n",
    "    g     (float): Growth rate of technology\n",
    "    n     (float): Growth rate of labour force\n",
    "    delta (float): Depreciation rate of physical capital\n",
    "    alpha (float): Return on physical capital\n",
    "    phi   (float): Return on human capital\n",
    "    \n",
    "    Returns: \n",
    "    The transition equation for human and physical capital per effective worker in steady state\n",
    "    \"\"\"\n",
    "\n",
    "    h_function = 1/((1+n)*(1+g))*(s_h*k**(alpha)*h**(phi)+(1-delta)*h)-h\n",
    "    k_function = 1/((1+n)*(1+g))*(s_k*k**(alpha)*h**(phi)+(1-delta)*k)-k\n",
    "    return h_function,k_function\n",
    "\n",
    "# Setting up the objective and solving the model\n",
    "objective = lambda x: [f(x[0],x[1],s_h,s_k,g,n,alpha,phi,delta)]\n",
    "sol = optimize.root(objective,[1,1],method = 'broyden1')\n",
    "num_sol = sol.x\n",
    "\n",
    "print(f'The level of human and physical capital per effective worker in steady state is = {num_sol[0]:.3f} and {num_sol[1]:.3f}, respectively.')\n"
   ]
  },
  {
   "attachments": {},
   "cell_type": "markdown",
   "metadata": {},
   "source": [
    "The phase-diagram can be used to illustrate that there only exist a single point where both human and physical capital per effective worker is constant, which is characterized as our steady state:\n",
    "\n",
    "$\\Delta\\tilde{h}^{\\ast}=\\Delta\\tilde{k}^{\\ast}=0$ \n",
    "\n",
    "\n",
    "The phase-diagram consists of two nullclines where $\\Delta\\tilde{h}^{\\ast}=0$ and $\\Delta\\tilde{k}^{\\ast}=0$, repsectively."
   ]
  },
  {
   "cell_type": "code",
   "execution_count": null,
   "metadata": {},
   "outputs": [],
   "source": [
    "def solve_steadystate(s_h,s_k,g,n,alpha,phi,delta):\n",
    "    \"\"\"input arguments:\n",
    "    s_h   (float): Savings/Investments in human capital\n",
    "    s_k   (float): Savings/Investments in physical capital\n",
    "    g     (float): Growth rate of technology\n",
    "    n     (float): Growth rate of labour force\n",
    "    alpha (float): Return on physical capital\n",
    "    phi   (float): Return on human capital\n",
    "    delta (float): Depriciation rate of physical capital\n",
    "    \n",
    "    Returns:\n",
    "    The nullclines for physical and human capital, respectively\n",
    "    \"\"\"\n",
    "    \n",
    "    # a. Setting up the grid\n",
    "    grid_space = np.linspace(1e-5,2.5,250)\n",
    "    k_vector = np.empty(250)\n",
    "    h_vector  = np.empty(250)\n",
    "    \n",
    "    # b. solve for each k in grid\n",
    "    for i,k in enumerate(grid_space):\n",
    "        #Solve for constant human capital\n",
    "        \n",
    "        # Objective and optimizer\n",
    "        obj = lambda h: -h_function(k,s_h,s_k,g,n,alpha,phi,delta,h)\n",
    "        result = optimize.root_scalar(obj,method='brentq',bracket=[1e-20,50])\n",
    "        h_vector[i] = result.root\n",
    "\n",
    "        #Solve for constant physical capital\n",
    "\n",
    "        # Objective and optimizer\n",
    "        obj = lambda h: -k_function(h,s_h,s_k,g,n,alpha,phi,delta,k)\n",
    "        result = optimize.root_scalar(obj,method='brentq',bracket=[1e-20,50])\n",
    "        k_vector[i] = result.root\n",
    "\n",
    "    return grid_space, k_vector, h_vector\n",
    "\n",
    "\n",
    "#Solve the function\n",
    "grid_space, k_vector, h_vector = solve_steadystate(s_h,s_k,g,n,alpha,phi,delta)\n",
    "\n",
    "\n",
    "#Create the plots\n",
    "fig = plt.figure(figsize=(13,5))\n",
    "ax = fig.add_subplot(1,2,1)\n",
    "ax.plot(grid_space,k_vector, label=r'$\\Delta \\tilde{k}=0$')\n",
    "ax.plot(grid_space,h_vector, label=r'$\\Delta \\tilde{h}=0$')\n",
    "\n",
    "\n",
    "az = fig.add_subplot(1,2,2)\n",
    "az.plot(grid_space,k_vector, label=r'$\\Delta \\tilde{k}=0$')\n",
    "az.plot(grid_space,h_vector, label=r'$\\Delta \\tilde{h}=0$')\n",
    "\n",
    "\n",
    "#Marking the steady state points\n",
    "ax.scatter(sol.x[1],sol.x[0],color='red',s=100,zorder=3, label=r'$\\Delta\\tilde{h}=\\Delta\\tilde{k}=0$')\n",
    "\n",
    "ax.axvline(sol.x[1],ymax=0.55,color='gray',linestyle='--') \n",
    "ax.axhline(sol.x[0],xmax=0.55,color='gray',linestyle='--')\n",
    "\n",
    "#Legends\n",
    "ax.set_xlabel(r'Human capital per effective worker')\n",
    "ax.set_ylabel(r'Physical capital per effective worker')\n",
    "ax.legend() \n",
    "\n",
    "#The axis values are chosen\n",
    "ax.set(xlim=(0, 2.5), ylim=(0, 2.5))\n",
    "az.set(xlim=(0, 2.5), ylim=(0, 2.5))\n",
    "\n",
    "#Titles\n",
    "ax.set_title('Base scenario');\n",
    "az.set_title('Higher initial level of physical capital');"
   ]
  },
  {
   "attachments": {},
   "cell_type": "markdown",
   "metadata": {},
   "source": [
    "# Further analysis"
   ]
  },
  {
   "attachments": {},
   "cell_type": "markdown",
   "metadata": {},
   "source": [
    "Make detailed vizualizations of how your model changes with parameter values. \n",
    "\n",
    "Try to make an extension of the model. "
   ]
  },
  {
   "attachments": {},
   "cell_type": "markdown",
   "metadata": {},
   "source": [
    "# Conclusion"
   ]
  },
  {
   "attachments": {},
   "cell_type": "markdown",
   "metadata": {},
   "source": [
    "Add concise conclusion. "
   ]
  }
 ],
 "metadata": {
  "kernelspec": {
   "display_name": "base",
   "language": "python",
   "name": "python3"
  },
  "language_info": {
   "codemirror_mode": {
    "name": "ipython",
    "version": 3
   },
   "file_extension": ".py",
   "mimetype": "text/x-python",
   "name": "python",
   "nbconvert_exporter": "python",
   "pygments_lexer": "ipython3",
   "version": "3.9.13"
  },
  "toc-autonumbering": true,
  "vscode": {
   "interpreter": {
    "hash": "47ef90cdf3004d3f859f1fb202523c65c07ba7c22eefd261b181f4744e2d0403"
   }
  }
 },
 "nbformat": 4,
 "nbformat_minor": 4
}
