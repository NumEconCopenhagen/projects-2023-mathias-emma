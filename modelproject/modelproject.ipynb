{
 "cells": [
  {
   "cell_type": "markdown",
   "metadata": {},
   "source": [
    "# YOUR PROJECT TITLE"
   ]
  },
  {
   "attachments": {},
   "cell_type": "markdown",
   "metadata": {},
   "source": [
    "> **Note the following:** \n",
    "> 1. This is *not* meant to be an example of an actual **model analysis project**, just an example of how to structure such a project.\n",
    "> 1. Remember the general advice on structuring and commenting your code\n",
    "> 1. The `modelproject.py` file includes a function which could be used multiple times in this notebook."
   ]
  },
  {
   "cell_type": "markdown",
   "metadata": {},
   "source": [
    "Imports and set magics:"
   ]
  },
  {
   "cell_type": "code",
   "execution_count": 1,
   "metadata": {},
   "outputs": [],
   "source": [
    "import numpy as np\n",
    "from scipy import optimize\n",
    "import sympy as sm\n",
    "from sympy import Symbol\n",
    "from sympy.solvers import solve\n",
    "sm.init_printing(use_unicode=True) # for pretty printing\n",
    "from IPython.display import display\n",
    "import matplotlib.pyplot as plt # baseline modul\n",
    "import ipywidgets as widgets\n",
    "\n",
    "# autoreload modules when code is run\n",
    "%load_ext autoreload\n",
    "%autoreload 2\n",
    "\n",
    "# local modules\n",
    "import modelproject\n"
   ]
  },
  {
   "cell_type": "markdown",
   "metadata": {},
   "source": [
    "# Model description"
   ]
  },
  {
   "cell_type": "markdown",
   "metadata": {},
   "source": [
    "**Write out the model in equations here.** \n",
    "\n",
    "Make sure you explain well the purpose of the model and comment so that other students who may not have seen it before can follow.  "
   ]
  },
  {
   "cell_type": "markdown",
   "metadata": {},
   "source": [
    "## Analytical solution"
   ]
  },
  {
   "cell_type": "markdown",
   "metadata": {},
   "source": [
    "If your model allows for an analytical solution, you should provide here.\n",
    "\n",
    "You may use Sympy for this. Then you can characterize the solution as a function of a parameter of the model.\n",
    "\n",
    "To characterize the solution, first derive a steady state equation as a function of a parameter using Sympy.solve and then turn it into a python function by Sympy.lambdify. See the lecture notes for details. "
   ]
  },
  {
   "cell_type": "markdown",
   "metadata": {},
   "source": [
    "## Numerical solution"
   ]
  },
  {
   "attachments": {},
   "cell_type": "markdown",
   "metadata": {},
   "source": [
    "We now progress to the numerical solution to the Solow-Swan-model with human capital accumulation\n"
   ]
  },
  {
   "cell_type": "code",
   "execution_count": 2,
   "metadata": {},
   "outputs": [],
   "source": [
    "#For our numerical solution we use the following baseline parameters\n",
    "\n",
    "s_h = 0.1\n",
    "s_k = 0.1\n",
    "g = 0.02\n",
    "n = 0.01\n",
    "alpha = 1/3\n",
    "phi = 1/3\n",
    "delta = 0.06"
   ]
  },
  {
   "cell_type": "code",
   "execution_count": 6,
   "metadata": {},
   "outputs": [
    {
     "name": "stdout",
     "output_type": "stream",
     "text": [
      "The level of human and physical capital per effective worker in steady state is = 1.363 and 1.363, respectively.\n"
     ]
    }
   ],
   "source": [
    "# To solve numerically for the steady state we first define a function for human capital, h_function, and one physical capital, k_function:\n",
    "\n",
    "def h_function(k,s_h,s_k,g,n,alpha,phi,delta,h):\n",
    "    \"\"\"input arguments:\n",
    "    k     (float): Physical capital per effective worker (Stock)\n",
    "    s_h   (float): Savings/Investments in human capital\n",
    "    s_k   (float): Savings/Investments in physical capital\n",
    "    g     (float): Growth rate of technology\n",
    "    n     (float): Growth in labour force\n",
    "    delta (float): Depreciation rate of physical capital\n",
    "    alpha (float): Return on physical capital\n",
    "    phi   (float): Return on human capital\n",
    "    h     (float): Human capital per effective worker (Stock)\n",
    "    \n",
    "    Returns: \n",
    "    The transition equation for human capital per effective worker in steady state\n",
    "        \"\"\"\n",
    "    return 1/((1+n)*(1+g))*(s_h*k**(alpha)*h**(phi)+(1-delta)*h)-h\n",
    "\n",
    "\n",
    "def k_function(h,s_h,s_k,g,n,alpha,phi,delta,k):\n",
    "    \"\"\"input arguments:\n",
    "    h     (float): Human capital per effective worker (Stock)\n",
    "    s_h   (float): Savings/Investments in human capital\n",
    "    s_k   (float): Savings/Investments in physical capital\n",
    "    g     (float): Growth rate of technology\n",
    "    n     (float): Growth in labour force\n",
    "    delta (float): Depreciation rate of physical capital\n",
    "    alpha (float): Return on physical capital\n",
    "    phi   (float): Return on human capital\n",
    "    k     (float): Physical capital per effective worker  (Stock)\n",
    "    \n",
    "    Returns: \n",
    "    The transition equation for physical capital per effective worker in steady state\n",
    "    \"\"\"\n",
    "    return 1/((1+n)*(1+g))*(s_k*k**(alpha)*h**(phi)+(1-delta)*k)-k\n",
    "\n",
    "# \n",
    "objective = lambda x: [h_function(x[1],s_h,s_k,g,n,alpha,phi,delta,x[0]),k_function(x[0],s_h,s_k,g,n,alpha,phi,delta,x[1])]\n",
    "\n",
    "#Setting up a solver for the system with 2 transition equations using the broyden1 optimizer\n",
    "sol = optimize.root(objective,[1,1],method = 'broyden1')\n",
    "\n",
    "#Solving for the chosen values in x\n",
    "num_sol = sol.x\n",
    "\n",
    "print(f'The level of human and physical capital per effective worker in steady state is = {num_sol[0]:.3f} and {num_sol[1]:.3f}, respectively.')\n"
   ]
  },
  {
   "attachments": {},
   "cell_type": "markdown",
   "metadata": {},
   "source": [
    "The phase-diagram can be used to illustrate that there only exist a single point where both human and physical capital per effective worker is constant:\n",
    "\n",
    "$\\Delta\\tilde{h}^{\\ast}=\\Delta\\tilde{k}^{\\ast}=0$ \n",
    "\n",
    "which is characterized as our steady state."
   ]
  },
  {
   "cell_type": "code",
   "execution_count": null,
   "metadata": {},
   "outputs": [],
   "source": []
  },
  {
   "cell_type": "markdown",
   "metadata": {},
   "source": [
    "# Further analysis"
   ]
  },
  {
   "cell_type": "markdown",
   "metadata": {},
   "source": [
    "Make detailed vizualizations of how your model changes with parameter values. \n",
    "\n",
    "Try to make an extension of the model. "
   ]
  },
  {
   "cell_type": "markdown",
   "metadata": {},
   "source": [
    "# Conclusion"
   ]
  },
  {
   "cell_type": "markdown",
   "metadata": {},
   "source": [
    "Add concise conclusion. "
   ]
  }
 ],
 "metadata": {
  "kernelspec": {
   "display_name": "base",
   "language": "python",
   "name": "python3"
  },
  "language_info": {
   "codemirror_mode": {
    "name": "ipython",
    "version": 3
   },
   "file_extension": ".py",
   "mimetype": "text/x-python",
   "name": "python",
   "nbconvert_exporter": "python",
   "pygments_lexer": "ipython3",
   "version": "3.9.16"
  },
  "toc-autonumbering": true,
  "vscode": {
   "interpreter": {
    "hash": "47ef90cdf3004d3f859f1fb202523c65c07ba7c22eefd261b181f4744e2d0403"
   }
  }
 },
 "nbformat": 4,
 "nbformat_minor": 4
}
