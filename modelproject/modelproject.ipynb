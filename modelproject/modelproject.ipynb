{
 "cells": [
  {
   "attachments": {},
   "cell_type": "markdown",
   "metadata": {},
   "source": [
    "# Solow-Swan model with human capital"
   ]
  },
  {
   "attachments": {},
   "cell_type": "markdown",
   "metadata": {},
   "source": [
    "**Table of contents**<a id='toc0_'></a>   \n",
    "- 1. [The Solow model with human capital](#toc1_)    \n",
    "- 2. [Analytical solution](#toc2_)\n",
    "  - 2.1. [Nullclines](#toc2_1_)  \n",
    "  - 2.2. [Steady state human and physical capital](#toc2_2_)  \n",
    "- 3. [Numerical solution](#toc3_)    \n",
    "  - 3.1. [Phase-diagrams](#toc3_1_)\n",
    "- 4. [Extension to the Solow model with human capital](#toc4_)\n",
    "  - 4.1. [Simulation of the Solow model with human capital and tax](#toc4_1_)\n",
    "- 5. [Concluding notes and description of a numerical solution using and algorithm](#toc5_)\n",
    "\t- 5.1 [Algorithm (unassociated)](#toc5_1_)\n",
    "\t- 5.2 [Conclusion](#toc5_2_)    \n",
    "\n",
    "<!-- vscode-jupyter-toc-config\n",
    "\tnumbering=true\n",
    "\tanchor=true\n",
    "\tflat=false\n",
    "\tminLevel=2\n",
    "\tmaxLevel=6\n",
    "\t/vscode-jupyter-toc-config -->\n",
    "<!-- THIS CELL WILL BE REPLACED ON TOC UPDATE. DO NOT WRITE YOUR TEXT IN THIS CELL -->"
   ]
  },
  {
   "attachments": {},
   "cell_type": "markdown",
   "metadata": {},
   "source": [
    "Imports and set magics:"
   ]
  },
  {
   "cell_type": "code",
   "execution_count": 1,
   "metadata": {},
   "outputs": [],
   "source": [
    "import numpy as np\n",
    "from scipy import optimize\n",
    "import sympy as sm\n",
    "from sympy import Symbol\n",
    "from sympy.solvers import solve\n",
    "sm.init_printing(use_unicode=True) # for pretty printing\n",
    "import matplotlib.pyplot as plt # par modul\n",
    "import ipywidgets as widgets\n",
    "from ipywidgets import interact, fixed\n",
    "from types import SimpleNamespace\n",
    "\n",
    "# autoreload modules when code is run\n",
    "%load_ext autoreload\n",
    "%autoreload 2\n",
    "\n",
    "# local modules\n",
    "import modelproject\n",
    "\n"
   ]
  },
  {
   "attachments": {},
   "cell_type": "markdown",
   "metadata": {},
   "source": [
    "## 1. <a id='toc1_'></a>[The Solow model with human capital](#toc0_)"
   ]
  },
  {
   "attachments": {},
   "cell_type": "markdown",
   "metadata": {},
   "source": [
    "We will be working with a Solow model with physical and human capital. \n",
    "Like physical capital, in the standard Solow model, human capital accumulates. A fixed rate depreciates each period, and a constant fraction $s_H$ of production is saved for further human capital in the next period. Human capital can be thought of as stocks accumulating (without depreciation) such as education, health and IQ.  \n",
    "\n",
    "The Solow-model with human capital can be found in *Introducing Advanced Macroeconomics* by H.J. Whitta-Jacobsen and P.B. Sørensen.\n",
    "\n",
    "\n",
    "## Variables \n",
    "\n",
    "* $Y_t$ : Production\n",
    "* $L_t$ : Labor\n",
    "* $A_t$ : Technology\n",
    "* $K_t$ : Physical Capital\n",
    "* $H_t$ : Human Capital\n",
    "\n",
    "## Parameters\n",
    "\n",
    "* $s_h$:       Savings/Investments in human capital\n",
    "* $s_k$:       Savings/Investments in physical capital\n",
    "* $g$:         Growth rate of technology\n",
    "* $n$:         Growth rate of the labor force\n",
    "* $\\delta$:    Depreciation rate of physical capital\n",
    "* $\\alpha$:    Return on physical capital\n",
    "* $\\phi$:      Return on human capital\n",
    "* $h$:         Human capital per effective worker (Stock)\n",
    "\n",
    "## Equations \n",
    "\n",
    "**Production function** \n",
    "\n",
    "$ Y_{t}=K_{t}^{\\alpha}H_{t}^{\\varphi}(A_{t}L_{t})^{1-\\alpha-\\varphi} $\n",
    "\n",
    "**Total savings** \\\n",
    "Constant fraction of production in the economy\n",
    "\n",
    "$ S_t = (s_H+s_K)Y_t,\\, s_H+s_K\\in(0,1) $\n",
    "\n",
    "**Capital Accumulation**\n",
    "\n",
    "$ K_{t+1}=s_{K}Y_t+(1-\\delta)K_{t}$\n",
    "\n",
    "**Human capital accumulation** \n",
    "\n",
    "$ H_{t+1} = s_{H}Y_t+(1-\\delta)H_t $\n",
    "\n",
    "**Population and technology growth (TFP)**\n",
    "\n",
    "$ L_{t+1} = (1+n)L_t $\n",
    "\n",
    "$ A_{t+1} = (1+g)A_t $\n",
    "\n",
    "## Tilde equations\n",
    "\n",
    "In order to analyse the model we calculate the per effective worker values. That is, divide by the population size and technology level. \n",
    "\n",
    "\n",
    "**Definitions**\n",
    "\n",
    "Production, physical capital and human capital divided by popluation and technology to get: \\\n",
    "$   \\tilde{y}_{t} = \\frac{Y_{t}} {A_tL_t} $\\\n",
    "$   \\tilde{k}_{t} = \\frac{K_{t}} {A_tL_t} $\\\n",
    "$   \\tilde{h}_{t} = \\frac{H_{t}} {A_tL_t} $\n",
    "\n",
    "**Transition Equations** \n",
    "\n",
    "The tilde transition equations can be found by inserting the tilde definitions:\n",
    "\n",
    "$ \\tilde{k}_{t+1}= \\frac{1}{(1+n)(1+g)}[s_K\\tilde{k}_{t}^{\\alpha}\\tilde{h}_{t}^{\\varphi}+(1-\\delta)\\tilde{k}_{t}] $\n",
    "\n",
    "$ \\tilde{h}_{t+1}= \\frac{1}{(1+n)(1+g)}[s_H\\tilde{k}_{t}^{\\alpha}\\tilde{h}_{t}^{\\varphi}+(1-\\delta)\\tilde{h}_{t}] $\n",
    "\n",
    "\n",
    "\n",
    "**OBS: In the following, the tilde values will simply be writen as uncapitalized letters**\n",
    "\n"
   ]
  },
  {
   "attachments": {},
   "cell_type": "markdown",
   "metadata": {},
   "source": [
    "## 2. <a id='toc2_'></a>[Analytical solution](#toc0_)"
   ]
  },
  {
   "attachments": {},
   "cell_type": "markdown",
   "metadata": {},
   "source": [
    "### 2.1. <a id='toc2_1_'></a>[Nullclines](#toc0_)"
   ]
  },
  {
   "attachments": {},
   "cell_type": "markdown",
   "metadata": {},
   "source": [
    "Calling the function that derives the nullclines and prints latex code from the py-file "
   ]
  },
  {
   "cell_type": "code",
   "execution_count": 10,
   "metadata": {},
   "outputs": [],
   "source": [
    "out =  modelproject.analytical()"
   ]
  },
  {
   "cell_type": "code",
   "execution_count": 11,
   "metadata": {},
   "outputs": [
    {
     "name": "stdout",
     "output_type": "stream",
     "text": [
      "Nullclines for physical capital: \n"
     ]
    },
    {
     "data": {
      "image/png": "[encoded data removed]",
      "text/latex": [
       "$\\displaystyle h = \\left(\\frac{k^{1 - \\alpha} \\left(\\delta + g n + g + n\\right)}{s_{k}}\\right)^{\\frac{1}{\\phi}}$"
      ],
      "text/plain": [
       "         __________________________\n",
       "        ╱  1 - α                   \n",
       "       ╱  k     ⋅(δ + g⋅n + g + n) \n",
       "h = φ ╱   ──────────────────────── \n",
       "    ╲╱               sₖ            "
      ]
     },
     "execution_count": 11,
     "metadata": {},
     "output_type": "execute_result"
    }
   ],
   "source": [
    "print('Nullclines for physical capital: ')\n",
    "out['nult_k_eq']"
   ]
  },
  {
   "cell_type": "code",
   "execution_count": 12,
   "metadata": {},
   "outputs": [
    {
     "name": "stdout",
     "output_type": "stream",
     "text": [
      "Nullclines for human capital: \n"
     ]
    },
    {
     "data": {
      "image/png": "[encoded data removed]",
      "text/latex": [
       "$\\displaystyle h = \\left(\\frac{k^{- \\alpha} \\left(\\delta + g n + g + n\\right)}{s_{h}}\\right)^{\\frac{1}{\\phi - 1}}$"
      ],
      "text/plain": [
       "                             1  \n",
       "                           ─────\n",
       "                           φ - 1\n",
       "    ⎛ -α                  ⎞     \n",
       "    ⎜k  ⋅(δ + g⋅n + g + n)⎟     \n",
       "h = ⎜─────────────────────⎟     \n",
       "    ⎝          sₕ         ⎠     "
      ]
     },
     "execution_count": 12,
     "metadata": {},
     "output_type": "execute_result"
    }
   ],
   "source": [
    "print('Nullclines for human capital: ')\n",
    "out['nult_h_eq']"
   ]
  },
  {
   "attachments": {},
   "cell_type": "markdown",
   "metadata": {},
   "source": [
    "### 2.2. <a id='toc2_2_'></a>[Steady state, human and physical capital](#toc0_)\n"
   ]
  },
  {
   "attachments": {},
   "cell_type": "markdown",
   "metadata": {},
   "source": [
    "Solving for the steady state yields the following levels of physical and human capital:\n",
    "\n",
    "Steady state value of physical capital:\n",
    "$$\\tilde{k}^{\\ast}=\\left(\\dfrac{s_K^{1-\\varphi}s_H^{\\varphi}}{n+g+\\delta+ng}\\right)^{\\frac{1}{1-\\alpha-\\varphi}}$$\n",
    "\n",
    "\n",
    "Steady state value of human capital:\n",
    "$$\\tilde{h}^{\\ast}=\\left(\\dfrac{s_K^{\\alpha}s_H^{1-\\alpha}}{n+g+\\delta+ng}\\right)^{\\frac{1}{1-\\alpha-\\varphi}}$$\n",
    "\n",
    "\n",
    "There are cross-effects, meaning that an increase in the savings rate for physical capital increases both the level of human and physical capital, and vice versa. "
   ]
  },
  {
   "attachments": {},
   "cell_type": "markdown",
   "metadata": {},
   "source": [
    "## 3. <a id='toc3_'></a>[Numerical solution](#toc0_)"
   ]
  },
  {
   "attachments": {},
   "cell_type": "markdown",
   "metadata": {},
   "source": [
    "We now progress to the numerical solution to the Solow-Swan-model with human capital accumulation\n",
    "\n",
    "After obtaining the analytical solution, we can use numerical methods to verify the results and investigate the dynamics of the model. In this section, we solve the model numerically using the root-finding method in SciPy library. Additionally, we will explore the long-run dynamics of the model and examine the impact of different parameter values on the steady-state levels of capital and labor. The steady state is optained when the level of physical and human capital per effective worker is constant, i.e. a long run solution."
   ]
  },
  {
   "cell_type": "code",
   "execution_count": 5,
   "metadata": {},
   "outputs": [
    {
     "name": "stdout",
     "output_type": "stream",
     "text": [
      "The level of human and physical capital per effective worker \n",
      " in steady state are = 33.350 and 64.134, respectively.\n"
     ]
    },
    {
     "name": "stderr",
     "output_type": "stream",
     "text": [
      "c:\\Users\\mathi\\Desktop\\Kandidat i økonomi\\1. Semester\\Introduction to programming and numerical analysis\\Assignments\\projects-2023-mathias-emma-S-ren\\modelproject\\modelproject.py:87: RuntimeWarning: invalid value encountered in double_scalars\n",
      "  h_function = 1/((1+n)*(1+g))*(s_h*k**(alpha)*h**(phi)+(1-delta)*h)-h\n",
      "c:\\Users\\mathi\\Desktop\\Kandidat i økonomi\\1. Semester\\Introduction to programming and numerical analysis\\Assignments\\projects-2023-mathias-emma-S-ren\\modelproject\\modelproject.py:88: RuntimeWarning: invalid value encountered in double_scalars\n",
      "  k_function = 1/((1+n)*(1+g))*(s_k*k**(alpha)*h**(phi)+(1-delta)*k)-k\n",
      "c:\\Users\\mathi\\anaconda3\\lib\\site-packages\\scipy\\optimize\\_nonlin.py:911: RuntimeWarning: invalid value encountered in divide\n",
      "  d = v / vdot(df, v)\n"
     ]
    }
   ],
   "source": [
    "# a. Setting up baseline parameters\n",
    "par = modelproject.par\n",
    "\n",
    "# b. Setting up the objective and solving the model\n",
    "objective = lambda x: [modelproject.f(x[0],x[1],par.s_h,par.s_k,par.g,par.n,par.alpha,par.phi,par.delta)]\n",
    "solution = optimize.root(objective,[1,1],method = 'broyden1')\n",
    "num_solution = solution.x\n",
    "\n",
    "# c. Printing the results\n",
    "print(f'The level of human and physical capital per effective worker \\n in steady state are = {num_solution[0]:.3f} and {num_solution[1]:.3f}, respectively.')\n"
   ]
  },
  {
   "attachments": {},
   "cell_type": "markdown",
   "metadata": {},
   "source": [
    "### 3.1. <a id='toc3_1_'></a>[Phase-diagrams](#toc0_)"
   ]
  },
  {
   "attachments": {},
   "cell_type": "markdown",
   "metadata": {},
   "source": [
    "The phase-diagram can be used to illustrate that there only exist a single point where both human and physical capital per effective worker is constant, which is characterized as our steady state:\n",
    "\n",
    "$\\Delta\\tilde{h}^{\\ast}=\\Delta\\tilde{k}^{\\ast}=0$ \n",
    "\n",
    "\n",
    "The phase-diagram consists of two nullclines where $\\Delta\\tilde{h}^{\\ast}=0$ and $\\Delta\\tilde{k}^{\\ast}=0$, repsectively.\n",
    "\n",
    "\n",
    "*Unfortunately, the widgets do not work in Git, so the interactive plot here and the one in the last section can only be viewed in VSC.* "
   ]
  },
  {
   "cell_type": "code",
   "execution_count": 6,
   "metadata": {},
   "outputs": [
    {
     "data": {
      "application/vnd.jupyter.widget-view+json": {
       "model_id": "01854fdbb37c450c8ffc04d38ac9daa3",
       "version_major": 2,
       "version_minor": 0
      },
      "text/plain": [
       "interactive(children=(FloatSlider(value=0.13, description='s_h', max=0.3, step=0.01), FloatSlider(value=0.25, …"
      ]
     },
     "metadata": {},
     "output_type": "display_data"
    },
    {
     "data": {
      "text/plain": [
       "<function modelproject.solve_ss(s_h=0.13, s_k=0.25, g=0.016, n=0.014, alpha=0.3333333333333333, phi=0.3333333333333333, delta=0.02)>"
      ]
     },
     "execution_count": 6,
     "metadata": {},
     "output_type": "execute_result"
    }
   ],
   "source": [
    "interact(modelproject.solve_ss,  \n",
    "         s_h=(0, 0.3, 0.01), \n",
    "         s_k=(0.2, 0.35, 0.01), \n",
    "         g=(0, 0.1, 0.01), \n",
    "         n=(0, 0.1, 0.01), \n",
    "         alpha=(0.2, 0.5, 0.05), \n",
    "         phi=(0.2, 0.5, 0.05), \n",
    "         delta=(0.005, 0.05, 0.001))\n"
   ]
  },
  {
   "attachments": {},
   "cell_type": "markdown",
   "metadata": {},
   "source": [
    "## 4. <a id='toc4_'></a>[Extension to the Solow model with human capital](#toc0_)"
   ]
  },
  {
   "attachments": {},
   "cell_type": "markdown",
   "metadata": {},
   "source": [
    "### 4.1. <a id='toc4_1_'></a>[Simulation of the Solow Model with Human Capital and tax](#toc0_)"
   ]
  },
  {
   "attachments": {},
   "cell_type": "markdown",
   "metadata": {},
   "source": [
    "In the following simulation, we consider a simplified version of the Solow model with human capital, where we assume a constant population growth rate $n$, savings rate for physical capital $s_k$, human capital $s_h$, technological growth $g$, depreciation rate $\\delta$, capital share $\\alpha$, human capital share $\\phi$, tax rate on physical capital investment $\\tau$, and the effect of human capital on investment $\\eta$. The parameter $\\eta$ in this model represents the fraction of the tax paid on physical capital to the government, which is subsequently allocated to investment in human capital. This allocation of tax revenue towards human capital investment has the potential to stimulate higher levels of overall investment in the economy.\n",
    "\n",
    "The simulation starts with initial values for the different variables and iterates over 1000 periods. The graph is interactive, which means we can gain insights into the relationship between investment, capital accumulation, human capital development, and economic growth by changing the parameters.\n",
    "\n",
    "The Solow model with human capital highlights the importance of both physical and human capital in driving long-term economic growth. It emphasizes that investing in human capital, such as education and skills development, can have significant positive effects on output and productivity. The model also demonstrates how changes in savings rates, population growth, technological progress, and policies such as taxes can impact the accumulation of capital and human capital, ultimately influencing economic growth rates.\n"
   ]
  },
  {
   "cell_type": "code",
   "execution_count": 7,
   "metadata": {},
   "outputs": [
    {
     "data": {
      "application/vnd.jupyter.widget-view+json": {
       "model_id": "f465397740894733b0d4230b0b5e7d71",
       "version_major": 2,
       "version_minor": 0
      },
      "text/plain": [
       "interactive(children=(FloatSlider(value=0.1, description='tau', max=1.0, step=0.01), FloatSlider(value=0.05, d…"
      ]
     },
     "metadata": {},
     "output_type": "display_data"
    },
    {
     "data": {
      "text/plain": [
       "<function modelproject.solow_model(s_h=0.13, s_k=0.25, g=0.016, n=0.014, alpha=0.3333333333333333, phi=0.3333333333333333, delta=0.02, tau=0.1, eta=0.05)>"
      ]
     },
     "execution_count": 7,
     "metadata": {},
     "output_type": "execute_result"
    }
   ],
   "source": [
    "interact(modelproject.solow_model, \n",
    "         s_h = fixed(par.s_h),\n",
    "         s_k = fixed(par.s_k), \n",
    "         g = fixed(par.g), \n",
    "         n = fixed(par.n), \n",
    "         alpha = fixed(par.alpha), \n",
    "         phi = fixed(par.phi), \n",
    "         delta = fixed(par.delta),\n",
    "         tau=(0, 1, 0.01), \n",
    "         eta=(0, 1, 0.01))"
   ]
  },
  {
   "attachments": {},
   "cell_type": "markdown",
   "metadata": {},
   "source": [
    "## 5. <a id='toc5_'></a>[Concluding notes and description of a numerical solution using and algorithm](#toc0_)"
   ]
  },
  {
   "attachments": {},
   "cell_type": "markdown",
   "metadata": {},
   "source": [
    "## 5.1. <a id='toc4_1_'></a>[Algorithm (unassociated)](#toc0_)"
   ]
  },
  {
   "attachments": {},
   "cell_type": "markdown",
   "metadata": {},
   "source": [
    "The algorithm 'find_root()' is a basic implementation of the Newton-Raphson method for solving non-linear equations. \n",
    "Below we state a detalied description of the algorithm and the corresponding code, from lecture 3 - Non-linear equations notebook. \n",
    "\n",
    "1. Initialization. The algorithm starts by setting up an initital guess $x_0$ for the root of the function $f(x)$, a maximum number og iterations 'max_iter' and a toloerence level $tol$\n",
    "2. Evaluation of Function and Derivative. In every iteration, it evalutes the function $f(x)$ and its derivative $f'(x)$ at he guess $x_0$. \n",
    "3. Convergence Check. It then checks if the aboslutte value of the function at the guess is less than the tolorence level - $|f(x)| < tol$ or if the maximum number of iterations 'max_iter' which have been defined by yourself is reached.\n",
    "If one of the conditions is satified, it stops the algorithm. \n",
    "4. Update Guess: In case the algorithm has not stopped, it creates a new guess $x_k = x -f(x)/ f'(x)$\n",
    "5. Increment: It then increments the counter $k$ marking the completion of one iteration.\n",
    "6. Output(return) The last commands says that if fullinfo flag is 'True' the functions returns the values of $x$ tried, the total number of iterations and the corresponding values for $f(x)$ and $f'(x)$. In case fullinfo is not true, it returns the last guess of the root and the number og iterations. \n",
    "\n"
   ]
  },
  {
   "cell_type": "code",
   "execution_count": null,
   "metadata": {},
   "outputs": [],
   "source": [
    "def find_root(x0,f,df,max_iter=500,tol=1e-8,full_info=False):\n",
    "    \"\"\" find root\n",
    "        \n",
    "    Args:\n",
    "    \n",
    "        x0 (float): initial value\n",
    "        f (callable): function\n",
    "        df (callable): derivative\n",
    "        max_iter (int): maximum number of iterations\n",
    "        tol (float): tolerance\n",
    "        full_info (bool): controls information returned\n",
    "        \n",
    "    Returns:\n",
    "    \n",
    "        x (float/ndarray): root (if full_info, all x tried)\n",
    "        k (int): number of iterations used\n",
    "        fx (ndarray): function values used (if full_info) \n",
    "        fpx (ndarray): derivative values used (if full_info)\n",
    "        \n",
    "    \"\"\"\n",
    "    \n",
    "    # initialize\n",
    "    xs = []\n",
    "    fxs = []\n",
    "    dfxs = []\n",
    "    \n",
    "    # iterate\n",
    "    x_k = x0    \n",
    "    k = 0    \n",
    "    while True:\n",
    "        \n",
    "        x = x_k\n",
    "\n",
    "        # step 2: evaluate function and derivatives\n",
    "        fx = f(x)\n",
    "        dfx = df(x)\n",
    "        \n",
    "        # store info\n",
    "        xs.append(x)\n",
    "        fxs.append(fx)\n",
    "        dfxs.append(dfx)\n",
    "\n",
    "        # step 3: check convergence\n",
    "        if abs(fx) < tol or k >= max_iter:\n",
    "            break\n",
    "            \n",
    "        # step 4: update x\n",
    "        x_k = x - fx/dfx\n",
    "        \n",
    "        # step 5: increment counter\n",
    "        k += 1\n",
    "        \n",
    "    # return\n",
    "    if full_info:\n",
    "        return np.array(xs),k,np.array(fxs),np.array(dfxs)\n",
    "    else:\n",
    "        return x,k"
   ]
  },
  {
   "attachments": {},
   "cell_type": "markdown",
   "metadata": {},
   "source": [
    "## 5.2. <a id='toc5._2_'></a>[Conclusion](#toc0_)\n"
   ]
  },
  {
   "attachments": {},
   "cell_type": "markdown",
   "metadata": {},
   "source": [
    "In conclusion, the Solow model with human capital has provided valuable insights into the dynamics of economic growth by incorporating the role of human capital and exploring the impact of various parameters.\n",
    "\n",
    "Firstly, we identified an analytical solution to the Solow model with human capital, which allowed us to understand the theoretical relationships between savings, production, and the accumulation of physical and human capital. This analytical framework provided a solid foundation for further analysis.\n",
    "\n",
    "Secondly, we developed a numerical solution to determine the steady-state value of the model. By iteratively calculating the values of capital per effective worker and human capital per effective worker, we were able to identify the long-term equilibrium levels and understand the convergence dynamics of the model. The numerical solution helped us understand how the economy behaves in different situations.\n",
    "\n",
    "Lastly, we introduced a tax on physical capital and examined the effects of allocating tax revenue to human capital investment. This extension of the model allowed us to analyze the impact of fiscal policies on economic growth and resource allocation. By considering the fraction of tax revenue allocated to human capital investment, we explored the potential to enhance investment levels and promote sustainable development through targeted allocations.\n"
   ]
  }
 ],
 "metadata": {
  "kernelspec": {
   "display_name": "base",
   "language": "python",
   "name": "python3"
  },
  "language_info": {
   "codemirror_mode": {
    "name": "ipython",
    "version": 3
   },
   "file_extension": ".py",
   "mimetype": "text/x-python",
   "name": "python",
   "nbconvert_exporter": "python",
   "pygments_lexer": "ipython3",
   "version": "3.9.16"
  },
  "toc-autonumbering": true,
  "vscode": {
   "interpreter": {
    "hash": "47ef90cdf3004d3f859f1fb202523c65c07ba7c22eefd261b181f4744e2d0403"
   }
  }
 },
 "nbformat": 4,
 "nbformat_minor": 4
}
