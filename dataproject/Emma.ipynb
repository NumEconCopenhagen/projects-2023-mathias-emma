{
 "cells": [
  {
   "attachments": {},
   "cell_type": "markdown",
   "metadata": {},
   "source": [
    "# Librarys"
   ]
  },
  {
   "attachments": {},
   "cell_type": "markdown",
   "metadata": {},
   "source": [
    "> **Note the following:** \n",
    "> 1. This is *not* meant to be an example of an actual **data analysis project**, just an example of how to structure such a project.\n",
    "> 1. Remember the general advice on structuring and commenting your code\n",
    "> 1. The `dataproject.py` file includes a function which can be used multiple times in this notebook."
   ]
  },
  {
   "attachments": {},
   "cell_type": "markdown",
   "metadata": {},
   "source": [
    "**Project**\n",
    "\n",
    "A report by --- speaks to the importans of public libraries for ----. In this project we provide simple statistics and comparisons of how librabries in munusipalities relate to other (----). \n",
    "This project is in no way ment to claim a causal conection, as we are simple investigating correlations. \n",
    "\n",
    "\n",
    "Report: https://www.roskildebib.dk/sites/roskilde.ddbcms.dk/files/files/news/roskildebib_folkebibliotekets_betydning_for_borgerne_i_danmark_eng_final_0.pdf\n"
   ]
  },
  {
   "cell_type": "markdown",
   "metadata": {},
   "source": [
    "Imports and set magics:"
   ]
  },
  {
   "cell_type": "code",
   "execution_count": null,
   "metadata": {},
   "outputs": [],
   "source": [
    "import pandas as pd\n",
    "import numpy as np\n",
    "import matplotlib.pyplot as plt\n",
    "import ipywidgets as widgets\n",
    "\n",
    "import datetime\n",
    "\n",
    "import pandas_datareader # install with `pip install pandas-datareader`\n",
    "import pydst # install with `pip install git+https://github.com/elben10/pydst`\n",
    "\n",
    "\n",
    "# autoreload modules when code is run\n",
    "%load_ext autoreload\n",
    "%autoreload 2\n",
    "\n",
    "# user written modules\n",
    "import dataproject\n",
    "plt.rcParams.update({\"axes.grid\":True,\"grid.color\":\"black\",\"grid.alpha\":\"0.25\",\"grid.linestyle\":\"--\"})\n",
    "plt.rcParams.update({'font.size': 14})\n",
    "\n",
    "from pandasql import sqldf"
   ]
  },
  {
   "cell_type": "markdown",
   "metadata": {},
   "source": [
    "# Read and clean data"
   ]
  },
  {
   "attachments": {},
   "cell_type": "markdown",
   "metadata": {},
   "source": [
    "# Importing dataset 1: Libraries by manusipalities "
   ]
  },
  {
   "attachments": {},
   "cell_type": "markdown",
   "metadata": {},
   "source": [
    "**Importing data**\n",
    "\n",
    "Viewing an importing data"
   ]
  },
  {
   "cell_type": "code",
   "execution_count": null,
   "metadata": {},
   "outputs": [],
   "source": [
    "#Object for interacting with DST \n",
    "Dst = pydst.Dst(lang='en') # setup data loader with the langauge 'english'"
   ]
  },
  {
   "cell_type": "code",
   "execution_count": null,
   "metadata": {},
   "outputs": [],
   "source": [
    "#Subjects within DST \n",
    "Dst.get_subjects()"
   ]
  },
  {
   "cell_type": "code",
   "execution_count": null,
   "metadata": {},
   "outputs": [],
   "source": [
    "#List of tables within the subject Culture and leisure with index 7, and id 8\n",
    "tables = Dst.get_tables(subjects=['7'])\n",
    "display(tables)"
   ]
  },
  {
   "attachments": {},
   "cell_type": "markdown",
   "metadata": {},
   "source": [
    "**SLET DET HER UNDER**"
   ]
  },
  {
   "cell_type": "code",
   "execution_count": null,
   "metadata": {},
   "outputs": [],
   "source": [
    "#List of variables from the tabel, BIB1 from subject index =  7, id = 8\n",
    "#tables[tables.id =='BIB1']"
   ]
  },
  {
   "cell_type": "code",
   "execution_count": null,
   "metadata": {},
   "outputs": [],
   "source": [
    "#list of variables (again?)\n",
    "bib_var = Dst.get_variables(table_id = 'BIB1')\n",
    "bib_var\n",
    "\n",
    "# Variables within BNØGLE\n",
    "#print(bib_var['BNØGLE'].unique())"
   ]
  },
  {
   "cell_type": "code",
   "execution_count": null,
   "metadata": {},
   "outputs": [],
   "source": [
    "#Values of the variables  \n",
    "bib_vars  = Dst.get_variables(table_id = 'BIB1')\n",
    "\n",
    "for id in [ 'BNØGLE', 'Tid']:\n",
    "    print(id)\n",
    "    values = bib_vars.loc[bib_vars.id ==id, ['values']].values[0,0]\n",
    "    for value in values:\n",
    "        print(f'id = {value[\"id\"]}, text = {value[\"text\"]}')"
   ]
  },
  {
   "attachments": {},
   "cell_type": "markdown",
   "metadata": {},
   "source": [
    "**SLET: STOP**  \\\\\\\n",
    "Skriv anden code der viser de unike coder under BNØGLE"
   ]
  },
  {
   "cell_type": "code",
   "execution_count": null,
   "metadata": {},
   "outputs": [],
   "source": [
    "#Eksracting the disired data\n",
    "#Dictionary of variables of the disired data  (Loan. All materials)\n",
    "var_pick = {'OMRÅDE': ['*'], 'BNØGLE': ['15110'], 'Tid': ['*']}\n",
    "\n",
    "#Raw dataset \n",
    "bib_api = Dst.get_data(table_id = 'BIB1', variables = var_pick)\n",
    "bib_api.sort_values(by= ['OMRÅDE', 'TID'])\n",
    "\n",
    "bib_api.head(10)"
   ]
  },
  {
   "attachments": {},
   "cell_type": "markdown",
   "metadata": {},
   "source": [
    "# Importing dataset 2: number of people in the ages (OVERVEJ EN ALDERS BETINGELSE)"
   ]
  },
  {
   "cell_type": "code",
   "execution_count": null,
   "metadata": {},
   "outputs": [],
   "source": [
    "#Subjects within DST \n",
    "Dst.get_subjects()"
   ]
  },
  {
   "cell_type": "code",
   "execution_count": null,
   "metadata": {},
   "outputs": [],
   "source": [
    "#List of tables within the subject People        index = 0 id = 1 \n",
    "tables = Dst.get_tables(subjects=['1'])\n",
    "display(tables)"
   ]
  },
  {
   "attachments": {},
   "cell_type": "markdown",
   "metadata": {},
   "source": [
    "**SLET**"
   ]
  },
  {
   "cell_type": "code",
   "execution_count": null,
   "metadata": {},
   "outputs": [],
   "source": [
    "#tables = [tables.id == 'BEFOLK1']\n",
    "#print(tables)\n",
    "\n",
    "#list of variables (again?)\n",
    "folk_vars = Dst.get_variables(table_id = 'FOLK1A')\n",
    "folk_vars\n",
    "\n",
    "for id in ['OMRÅDE', 'Tid']:\n",
    "    print(id)\n",
    "    values = folk_vars.loc[folk_vars.id == id, ['values']].values[0,0]\n",
    "    for value in values:\n",
    "        print(f'id= {value[\"id\"]}, text = {value[\"text\"]}')\n",
    "\n"
   ]
  },
  {
   "attachments": {},
   "cell_type": "markdown",
   "metadata": {},
   "source": [
    "**SLET: STOP**"
   ]
  },
  {
   "cell_type": "code",
   "execution_count": null,
   "metadata": {},
   "outputs": [],
   "source": [
    "#Loading the data \n",
    "var_pick = {'OMRÅDE': ['*'], 'Tid':['*']}\n",
    "bef_api = Dst.get_data(table_id='FOLK1A', variables=var_pick)\n",
    "bef_api.sort_values(by=['OMRÅDE'], inplace=True)"
   ]
  },
  {
   "cell_type": "code",
   "execution_count": null,
   "metadata": {},
   "outputs": [],
   "source": [
    "bef_api.head(10)"
   ]
  },
  {
   "cell_type": "code",
   "execution_count": null,
   "metadata": {},
   "outputs": [],
   "source": [
    "# Keeping only the 1 quarter \n",
    "I = bef_api['TID'].str.endswith('Q1')\n",
    "bef_api_q1 = bef_api[I]\n"
   ]
  },
  {
   "cell_type": "code",
   "execution_count": null,
   "metadata": {},
   "outputs": [],
   "source": [
    "#Renaming the time variable such that it does not include the quarter \n",
    "bef_api_q1 = bef_api_q1.rename(columns={'TID': 'tid_temp'})\n",
    "bef_api_q1['tid_temp'] = bef_api_q1['tid_temp'].str.slice(stop=4)\n",
    "bef_api_q1 = bef_api_q1.rename(columns={'tid_temp': 'TID'})\n",
    "\n",
    "\n",
    "\n",
    "bef_api_q1.head(10)"
   ]
  },
  {
   "attachments": {},
   "cell_type": "markdown",
   "metadata": {},
   "source": [
    "# Merging the 2 datasets"
   ]
  },
  {
   "cell_type": "code",
   "execution_count": null,
   "metadata": {},
   "outputs": [],
   "source": [
    "#The datasets\n",
    "\n",
    "print(f'Library dataset contains data from: {np.min(bib_api.TID.unique())} to {np.max(bib_api.TID)}')\n",
    "print(f'Municipalities in Library data = {len(bib_api.OMRÅDE.unique())}')\n",
    "\n",
    "print(f'Bef dataset contains data from: {np.min(bef_api_q1.TID.unique())} to {np.max(bef_api_q1.TID)}')\n",
    "print(f'Municipalities in Library data = {len(bef_api_q1.OMRÅDE.unique())}')\n",
    "\n",
    "#Differenses in the datasets\n",
    "diff_mun = [m for m in bef_api_q1.OMRÅDE.unique() if m not in bib_api.OMRÅDE.unique()]\n",
    "print (f' Munisipalities in bef and not in Lib: {diff_mun}')\n"
   ]
  },
  {
   "cell_type": "code",
   "execution_count": null,
   "metadata": {},
   "outputs": [],
   "source": [
    "#print(bib_api.columns)\n",
    "#print(bef_api_q1.columns)\n",
    "\n",
    "bib_api['TID'] = bib_api['TID'].astype('object')\n",
    "\n",
    "print(bib_api.dtypes)\n",
    "#print(bef_api_q1.dtypes)\n",
    "\n"
   ]
  },
  {
   "cell_type": "code",
   "execution_count": null,
   "metadata": {},
   "outputs": [],
   "source": [
    "q = \"\"\"\n",
    "SELECT bef.OMRÅDE, bef.TID, bef.INDHOLD as n, bib.INDHOLD as n_bib\n",
    "FROM bef_api_q1 as bef\n",
    "INNER JOIN bib_api as bib\n",
    "ON bib.OMRÅDE = bef.OMRÅDE AND bib.TID = bef.TID\n",
    "\"\"\"\n",
    "\n",
    "# Apply query using pandasql\n",
    "bef_api_q1_transformed = sqldf(q)\n",
    "\n",
    "# Print the transformed dataframe\n",
    "print(f'The merged dataset: \\n')\n",
    "print(bef_api_q1_transformed)\n",
    "\n",
    "print(f'The merged dataset, dimensions: \\n')\n",
    "print(f'Merged dataset contains data from: {np.min(bef_api_q1_transformed.TID.unique())} to {np.max(bef_api_q1.TID)}')\n",
    "print(f'Merged dataset contains data form Municipalities = {len(bef_api_q1_transformed.OMRÅDE.unique())}')"
   ]
  },
  {
   "attachments": {},
   "cell_type": "markdown",
   "metadata": {},
   "source": [
    "**SLET**"
   ]
  },
  {
   "cell_type": "code",
   "execution_count": 31,
   "metadata": {},
   "outputs": [
    {
     "name": "stdout",
     "output_type": "stream",
     "text": [
      "The merged dataset: \n",
      "\n",
      "     municipality  year      n   n_bib\n",
      "0        Aabenraa  2013  59208  345003\n",
      "1        Aabenraa  2015  58904  306200\n",
      "2        Aabenraa  2011  59795  403500\n",
      "3        Aabenraa  2014  58970  338432\n",
      "4        Aabenraa  2020  58761  180782\n",
      "...           ...   ...    ...     ...\n",
      "1127          Ærø  2012   6636   43328\n",
      "1128          Ærø  2020   5964   21796\n",
      "1129          Ærø  2013   6527   36475\n",
      "1130          Ærø  2021   5960   20285\n",
      "1131          Ærø  2010   6679   47241\n",
      "\n",
      "[1132 rows x 4 columns]\n",
      "The merged dataset, dimensions: \n",
      "\n",
      "Merged dataset contains data from: 2009 to 2023\n",
      "Merged dataset contains data form Municipalities = 103\n"
     ]
    }
   ],
   "source": [
    "q = \"\"\"\n",
    "SELECT bef.OMRÅDE as municipality, bef.TID as year, bef.INDHOLD as n, bib.INDHOLD as n_bib\n",
    "FROM bef_api_q1 as bef\n",
    "INNER JOIN bib_api as bib\n",
    "ON bib.OMRÅDE = bef.OMRÅDE AND bib.TID = bef.TID\n",
    "\"\"\"\n",
    "\n",
    "# Apply query using pandasql\n",
    "bef_api_q1_transformed = sqldf(q)\n",
    "\n",
    "\n",
    "# Print the transformed dataframe\n",
    "print(f'The merged dataset: \\n')\n",
    "print(bef_api_q1_transformed)\n",
    "\n",
    "print(f'The merged dataset, dimensions: \\n')\n",
    "print(f'Merged dataset contains data from: {np.min(bef_api_q1_transformed.year.unique())} to {np.max(bef_api_q1.TID)}')\n",
    "print(f'Merged dataset contains data form Municipalities = {len(bef_api_q1_transformed.municipality.unique())}')"
   ]
  },
  {
   "cell_type": "markdown",
   "metadata": {},
   "source": [
    "## Explore each data set"
   ]
  },
  {
   "cell_type": "markdown",
   "metadata": {},
   "source": [
    "In order to be able to **explore the raw data**, you may provide **static** and **interactive plots** to show important developments "
   ]
  },
  {
   "attachments": {},
   "cell_type": "markdown",
   "metadata": {},
   "source": [
    "**Working with the data** :"
   ]
  },
  {
   "cell_type": "code",
   "execution_count": null,
   "metadata": {},
   "outputs": [],
   "source": [
    "df = bef_api_q1_transformed"
   ]
  },
  {
   "cell_type": "code",
   "execution_count": null,
   "metadata": {},
   "outputs": [],
   "source": [
    "df['Loan per capita'] = df['n_bib'] / df['n']"
   ]
  },
  {
   "cell_type": "code",
   "execution_count": null,
   "metadata": {},
   "outputs": [],
   "source": [
    "print(df['OMRÅDE'].unique())"
   ]
  },
  {
   "cell_type": "code",
   "execution_count": null,
   "metadata": {},
   "outputs": [],
   "source": [
    "Mun = ['Aalborg', 'Gentofte', 'Silkeborg' ]\n",
    "\n",
    "    # a. create the figure\n",
    "fig = plt.figure()\n",
    "\n",
    "    # b. plot\n",
    "ax = fig.add_subplot(1,1,1)\n",
    "\n",
    "\n",
    "for i, in Mun:\n",
    "    I = df['OMRÅDE'] == i\n",
    "\n",
    "    loan_per = df[I]['n']\n",
    "    year_plot = df[I]['TID']\n",
    "\n",
    "    ax.plot(year_plot, loan_per, label = i)\n",
    "\n"
   ]
  },
  {
   "cell_type": "code",
   "execution_count": null,
   "metadata": {},
   "outputs": [],
   "source": [
    "\n",
    "\n",
    "# a. create the figure\n",
    "fig = plt.figure()\n",
    "\n",
    "# b. plot\n",
    "ax = fig.add_subplot(1,1,1)\n",
    "\n",
    "for i in Mun:\n",
    "    I = df['OMRÅDE'] == i\n",
    "\n",
    "    loan_per = df[I]['Loan per capita']\n",
    "    year_plot = df[I]['year']\n",
    "\n",
    "    ax.plot( loan_per, year_plot, label = i)\n"
   ]
  },
  {
   "cell_type": "code",
   "execution_count": null,
   "metadata": {},
   "outputs": [],
   "source": [
    "# a. create the figure\n",
    "fig = plt.figure()\n",
    "\n",
    "# b. plot\n",
    "ax = fig.add_subplot(1,1,1)\n",
    "\n",
    "ax.plot(year_plot, loan_per)"
   ]
  },
  {
   "cell_type": "code",
   "execution_count": null,
   "metadata": {},
   "outputs": [],
   "source": []
  },
  {
   "cell_type": "code",
   "execution_count": null,
   "metadata": {},
   "outputs": [],
   "source": [
    "# a. create the figure\n",
    "fig = plt.figure()\n",
    "\n",
    "# b. plot\n",
    "ax = fig.add_subplot(1,1,1)\n",
    "\n",
    "ax.plot(df['n_bib'].loc['Aabenraa'], df['year'].loc['Aabenraa'])"
   ]
  },
  {
   "cell_type": "code",
   "execution_count": null,
   "metadata": {},
   "outputs": [],
   "source": [
    "def plot_func():\n",
    "    # Function that operates on data set\n",
    "    pass\n",
    "\n",
    "widgets.interact(plot_func, \n",
    "    # Let the widget interact with data through plot_func()    \n",
    "); \n"
   ]
  },
  {
   "cell_type": "markdown",
   "metadata": {},
   "source": [
    "Explain what you see when moving elements of the interactive plot around. "
   ]
  },
  {
   "cell_type": "markdown",
   "metadata": {},
   "source": [
    "# Merge data sets"
   ]
  },
  {
   "cell_type": "markdown",
   "metadata": {},
   "source": [
    "Now you create combinations of your loaded data sets. Remember the illustration of a (inner) **merge**:"
   ]
  },
  {
   "cell_type": "code",
   "execution_count": null,
   "metadata": {},
   "outputs": [],
   "source": [
    "plt.figure(figsize=(15,7))\n",
    "v = venn2(subsets = (4, 4, 10), set_labels = ('Data X', 'Data Y'))\n",
    "v.get_label_by_id('100').set_text('dropped')\n",
    "v.get_label_by_id('010').set_text('dropped' )\n",
    "v.get_label_by_id('110').set_text('included')\n",
    "plt.show()"
   ]
  },
  {
   "cell_type": "markdown",
   "metadata": {},
   "source": [
    "Here we are dropping elements from both data set X and data set Y. A left join would keep all observations in data X intact and subset only from Y. \n",
    "\n",
    "Make sure that your resulting data sets have the correct number of rows and columns. That is, be clear about which observations are thrown away. \n",
    "\n",
    "**Note:** Don't make Venn diagrams in your own data project. It is just for exposition. "
   ]
  },
  {
   "cell_type": "markdown",
   "metadata": {},
   "source": [
    "# Analysis"
   ]
  },
  {
   "cell_type": "markdown",
   "metadata": {},
   "source": [
    "To get a quick overview of the data, we show some **summary statistics** on a meaningful aggregation. "
   ]
  },
  {
   "cell_type": "markdown",
   "metadata": {},
   "source": [
    "MAKE FURTHER ANALYSIS. EXPLAIN THE CODE BRIEFLY AND SUMMARIZE THE RESULTS."
   ]
  },
  {
   "cell_type": "markdown",
   "metadata": {},
   "source": [
    "# Conclusion"
   ]
  },
  {
   "cell_type": "markdown",
   "metadata": {},
   "source": [
    "ADD CONCISE CONLUSION."
   ]
  }
 ],
 "metadata": {
  "kernelspec": {
   "display_name": "base",
   "language": "python",
   "name": "python3"
  },
  "language_info": {
   "codemirror_mode": {
    "name": "ipython",
    "version": 3
   },
   "file_extension": ".py",
   "mimetype": "text/x-python",
   "name": "python",
   "nbconvert_exporter": "python",
   "pygments_lexer": "ipython3",
   "version": "3.9.13"
  },
  "toc-autonumbering": true,
  "vscode": {
   "interpreter": {
    "hash": "47ef90cdf3004d3f859f1fb202523c65c07ba7c22eefd261b181f4744e2d0403"
   }
  }
 },
 "nbformat": 4,
 "nbformat_minor": 4
}
