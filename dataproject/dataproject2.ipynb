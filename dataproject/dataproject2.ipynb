{
 "cells": [
  {
   "attachments": {},
   "cell_type": "markdown",
   "metadata": {},
   "source": [
    "# Data project"
   ]
  },
  {
   "attachments": {},
   "cell_type": "markdown",
   "metadata": {},
   "source": [
    "**Variables** \n",
    "\n",
    "Udlån \n",
    "\n",
    "Materialeudgifter (1.000 kr.)"
   ]
  },
  {
   "attachments": {},
   "cell_type": "markdown",
   "metadata": {},
   "source": [
    "Imports and Magic settings "
   ]
  },
  {
   "cell_type": "code",
   "execution_count": 1,
   "metadata": {},
   "outputs": [],
   "source": [
    "import pandas as pd\n",
    "import numpy as np\n",
    "import matplotlib.pyplot as plt\n",
    "import ipywidgets as widgets\n",
    "\n",
    "import datetime\n",
    "\n",
    "import pandas_datareader # install with `pip install pandas-datareader`\n",
    "import pydst # install with `pip install git+https://github.com/elben10/pydst`\n",
    "\n",
    "\n",
    "# autoreload modules when code is run\n",
    "%load_ext autoreload\n",
    "%autoreload 2\n",
    "\n",
    "# user written modules\n",
    "import dataproject\n",
    "plt.rcParams.update({\"axes.grid\":True,\"grid.color\":\"black\",\"grid.alpha\":\"0.25\",\"grid.linestyle\":\"--\"})\n",
    "plt.rcParams.update({'font.size': 14})\n",
    "\n",
    "from pandasql import sqldf"
   ]
  },
  {
   "attachments": {},
   "cell_type": "markdown",
   "metadata": {},
   "source": [
    "**Importing data**"
   ]
  },
  {
   "attachments": {},
   "cell_type": "markdown",
   "metadata": {},
   "source": [
    "**Importing data for libraries from DST.** "
   ]
  },
  {
   "cell_type": "code",
   "execution_count": 2,
   "metadata": {},
   "outputs": [
    {
     "name": "stdout",
     "output_type": "stream",
     "text": [
      "BNØGLE\n",
      "id = 15110, text = Loan. All materials\n",
      "id = 15120, text = Loan. Books\n",
      "id = 15130, text = Loan. Audio books\n",
      "id = 15140, text = Loan. Music recordings\n",
      "id = 15150, text = Loan. Moving pictures\n",
      "id = 15160, text = Loan. Multimedia\n",
      "id = 15170, text = Loan. Other materials\n",
      "id = 15175, text = Loan. Serial publications\n",
      "id = 15180, text = Stock. All materials\n",
      "id = 15190, text = Stock. Books\n",
      "id = 15200, text = Stock. Audio books\n",
      "id = 15210, text = Stock. Music recordings\n",
      "id = 15220, text = Stock. Moving pictures\n",
      "id = 15230, text = Stock. Multimedia\n",
      "id = 15240, text = Stock. Other materials\n",
      "id = 15245, text = Stock. Serial publications (subscribers)\n",
      "id = 15250, text = Uses of electronic ressources (downloads)\n",
      "id = 15260, text = Expenditure, materials (DKK 1,000)\n",
      "Tid\n",
      "id = 2009, text = 2009\n",
      "id = 2010, text = 2010\n",
      "id = 2011, text = 2011\n",
      "id = 2012, text = 2012\n",
      "id = 2013, text = 2013\n",
      "id = 2014, text = 2014\n",
      "id = 2015, text = 2015\n",
      "id = 2018, text = 2018\n",
      "id = 2019, text = 2019\n",
      "id = 2020, text = 2020\n",
      "id = 2021, text = 2021\n"
     ]
    }
   ],
   "source": [
    "#Object for interacting with DST \n",
    "Dst = pydst.Dst(lang='en') # setup data loader with the langauge 'english'\n",
    "\n",
    "\n",
    "#Values of the variables  \n",
    "bib_vars  = Dst.get_variables(table_id = 'BIB1')\n",
    "\n",
    "for id in [ 'BNØGLE', 'Tid']:\n",
    "    print(id)\n",
    "    values = bib_vars.loc[bib_vars.id ==id, ['values']].values[0,0]\n",
    "    for value in values:\n",
    "        print(f'id = {value[\"id\"]}, text = {value[\"text\"]}')"
   ]
  },
  {
   "cell_type": "code",
   "execution_count": 5,
   "metadata": {},
   "outputs": [
    {
     "data": {
      "text/html": [
       "<div>\n",
       "<style scoped>\n",
       "    .dataframe tbody tr th:only-of-type {\n",
       "        vertical-align: middle;\n",
       "    }\n",
       "\n",
       "    .dataframe tbody tr th {\n",
       "        vertical-align: top;\n",
       "    }\n",
       "\n",
       "    .dataframe thead th {\n",
       "        text-align: right;\n",
       "    }\n",
       "</style>\n",
       "<table border=\"1\" class=\"dataframe\">\n",
       "  <thead>\n",
       "    <tr style=\"text-align: right;\">\n",
       "      <th></th>\n",
       "      <th>OMRÅDE</th>\n",
       "      <th>slet_var</th>\n",
       "      <th>TID</th>\n",
       "      <th>loan</th>\n",
       "      <th>slet_var2</th>\n",
       "      <th>exp</th>\n",
       "    </tr>\n",
       "  </thead>\n",
       "  <tbody>\n",
       "    <tr>\n",
       "      <th>0</th>\n",
       "      <td>All Denmark</td>\n",
       "      <td>Loan. Books</td>\n",
       "      <td>2009</td>\n",
       "      <td>32256695</td>\n",
       "      <td>Expenditure, materials (DKK 1,000)</td>\n",
       "      <td>387005</td>\n",
       "    </tr>\n",
       "    <tr>\n",
       "      <th>1</th>\n",
       "      <td>Region Nordjylland</td>\n",
       "      <td>Loan. Books</td>\n",
       "      <td>2009</td>\n",
       "      <td>3137993</td>\n",
       "      <td>Expenditure, materials (DKK 1,000)</td>\n",
       "      <td>32779</td>\n",
       "    </tr>\n",
       "    <tr>\n",
       "      <th>2</th>\n",
       "      <td>Region Midtjylland</td>\n",
       "      <td>Loan. Books</td>\n",
       "      <td>2009</td>\n",
       "      <td>7021388</td>\n",
       "      <td>Expenditure, materials (DKK 1,000)</td>\n",
       "      <td>73523</td>\n",
       "    </tr>\n",
       "    <tr>\n",
       "      <th>3</th>\n",
       "      <td>Region Syddanmark</td>\n",
       "      <td>Loan. Books</td>\n",
       "      <td>2009</td>\n",
       "      <td>6795849</td>\n",
       "      <td>Expenditure, materials (DKK 1,000)</td>\n",
       "      <td>85267</td>\n",
       "    </tr>\n",
       "    <tr>\n",
       "      <th>4</th>\n",
       "      <td>Region Hovedstaden</td>\n",
       "      <td>Loan. Books</td>\n",
       "      <td>2009</td>\n",
       "      <td>10641050</td>\n",
       "      <td>Expenditure, materials (DKK 1,000)</td>\n",
       "      <td>136883</td>\n",
       "    </tr>\n",
       "  </tbody>\n",
       "</table>\n",
       "</div>"
      ],
      "text/plain": [
       "               OMRÅDE     slet_var   TID      loan  \\\n",
       "0         All Denmark  Loan. Books  2009  32256695   \n",
       "1  Region Nordjylland  Loan. Books  2009   3137993   \n",
       "2  Region Midtjylland  Loan. Books  2009   7021388   \n",
       "3   Region Syddanmark  Loan. Books  2009   6795849   \n",
       "4  Region Hovedstaden  Loan. Books  2009  10641050   \n",
       "\n",
       "                            slet_var2     exp  \n",
       "0  Expenditure, materials (DKK 1,000)  387005  \n",
       "1  Expenditure, materials (DKK 1,000)   32779  \n",
       "2  Expenditure, materials (DKK 1,000)   73523  \n",
       "3  Expenditure, materials (DKK 1,000)   85267  \n",
       "4  Expenditure, materials (DKK 1,000)  136883  "
      ]
     },
     "execution_count": 5,
     "metadata": {},
     "output_type": "execute_result"
    }
   ],
   "source": [
    "#Object for interacting with DST \n",
    "Dst = pydst.Dst(lang='en') # setup data loader with the langauge 'english'\n",
    "\n",
    "#Dictionary of variables of the disired data  (Loan. All materials)\n",
    "var_loan = {'OMRÅDE': ['*'], 'BNØGLE': [ '15120' ], 'Tid': ['*']}\n",
    "var_exp = {'OMRÅDE': ['*'], 'BNØGLE': [ '15260'], 'Tid': ['*']}\n",
    "\n",
    "#Raw dataset \n",
    "bib_api_loan = Dst.get_data(table_id = 'BIB1', variables = var_loan)\n",
    "bib_api_exp = Dst.get_data(table_id = 'BIB1', variables = var_exp)\n",
    "\n",
    "bib_api_loan.rename     (columns={'INDHOLD': 'loan', 'BNØGLE' : 'slet_var' }, inplace=True)\n",
    "bib_api_exp.rename      (columns={'INDHOLD': 'exp', 'BNØGLE' : 'slet_var2'}, inplace=True)\n",
    "\n",
    "\n",
    "\n",
    "bib_api = bib_api_loan.merge(bib_api_exp, on=['OMRÅDE', 'TID'])\n",
    "bib_api.head()\n"
   ]
  },
  {
   "attachments": {},
   "cell_type": "markdown",
   "metadata": {},
   "source": [
    "**Importing data for population by munisipality** "
   ]
  },
  {
   "cell_type": "code",
   "execution_count": 6,
   "metadata": {},
   "outputs": [
    {
     "data": {
      "text/html": [
       "<div>\n",
       "<style scoped>\n",
       "    .dataframe tbody tr th:only-of-type {\n",
       "        vertical-align: middle;\n",
       "    }\n",
       "\n",
       "    .dataframe tbody tr th {\n",
       "        vertical-align: top;\n",
       "    }\n",
       "\n",
       "    .dataframe thead th {\n",
       "        text-align: right;\n",
       "    }\n",
       "</style>\n",
       "<table border=\"1\" class=\"dataframe\">\n",
       "  <thead>\n",
       "    <tr style=\"text-align: right;\">\n",
       "      <th></th>\n",
       "      <th>OMRÅDE</th>\n",
       "      <th>TID</th>\n",
       "      <th>KØN</th>\n",
       "      <th>ALDER</th>\n",
       "      <th>CIVILSTAND</th>\n",
       "      <th>INDHOLD</th>\n",
       "    </tr>\n",
       "  </thead>\n",
       "  <tbody>\n",
       "    <tr>\n",
       "      <th>3452</th>\n",
       "      <td>Aabenraa</td>\n",
       "      <td>2013</td>\n",
       "      <td>Total</td>\n",
       "      <td>Total</td>\n",
       "      <td>Total</td>\n",
       "      <td>59208</td>\n",
       "    </tr>\n",
       "    <tr>\n",
       "      <th>3157</th>\n",
       "      <td>Aabenraa</td>\n",
       "      <td>2015</td>\n",
       "      <td>Total</td>\n",
       "      <td>Total</td>\n",
       "      <td>Total</td>\n",
       "      <td>58904</td>\n",
       "    </tr>\n",
       "    <tr>\n",
       "      <th>3767</th>\n",
       "      <td>Aabenraa</td>\n",
       "      <td>2011</td>\n",
       "      <td>Total</td>\n",
       "      <td>Total</td>\n",
       "      <td>Total</td>\n",
       "      <td>59795</td>\n",
       "    </tr>\n",
       "    <tr>\n",
       "      <th>870</th>\n",
       "      <td>Aabenraa</td>\n",
       "      <td>2022</td>\n",
       "      <td>Total</td>\n",
       "      <td>Total</td>\n",
       "      <td>Total</td>\n",
       "      <td>58693</td>\n",
       "    </tr>\n",
       "    <tr>\n",
       "      <th>2465</th>\n",
       "      <td>Aabenraa</td>\n",
       "      <td>2023</td>\n",
       "      <td>Total</td>\n",
       "      <td>Total</td>\n",
       "      <td>Total</td>\n",
       "      <td>59002</td>\n",
       "    </tr>\n",
       "  </tbody>\n",
       "</table>\n",
       "</div>"
      ],
      "text/plain": [
       "        OMRÅDE   TID    KØN  ALDER CIVILSTAND  INDHOLD\n",
       "3452  Aabenraa  2013  Total  Total      Total    59208\n",
       "3157  Aabenraa  2015  Total  Total      Total    58904\n",
       "3767  Aabenraa  2011  Total  Total      Total    59795\n",
       "870   Aabenraa  2022  Total  Total      Total    58693\n",
       "2465  Aabenraa  2023  Total  Total      Total    59002"
      ]
     },
     "execution_count": 6,
     "metadata": {},
     "output_type": "execute_result"
    }
   ],
   "source": [
    "#Loading the data \n",
    "var_pick = {'OMRÅDE': ['*'], 'Tid':['*']}\n",
    "bef_api = Dst.get_data(table_id='FOLK1A', variables=var_pick)\n",
    "bef_api.sort_values(by=['OMRÅDE'], inplace=True)\n",
    "\n",
    "# Keeping only the 1 quarter \n",
    "I = bef_api['TID'].str.endswith('Q1')\n",
    "bef_api_q1 = bef_api[I]\n",
    "\n",
    "#Renaming the time variable such that it does not include the quarter \n",
    "bef_api_q1 = bef_api_q1.rename(columns={'TID': 'tid_temp'})\n",
    "bef_api_q1['tid_temp'] = bef_api_q1['tid_temp'].str.slice(stop=4)\n",
    "bef_api_q1 = bef_api_q1.rename(columns={'tid_temp': 'TID'})\n",
    "\n",
    "#Variable TID must be an object for merging \n",
    "bib_api['TID'] = bib_api['TID'].astype('object')\n",
    "\n",
    "bef_api_q1.head()"
   ]
  },
  {
   "attachments": {},
   "cell_type": "markdown",
   "metadata": {},
   "source": [
    "**Merging dataset**"
   ]
  },
  {
   "attachments": {},
   "cell_type": "markdown",
   "metadata": {},
   "source": [
    "Comparing datasets"
   ]
  },
  {
   "cell_type": "code",
   "execution_count": 7,
   "metadata": {},
   "outputs": [
    {
     "name": "stdout",
     "output_type": "stream",
     "text": [
      "Library dataset contains data from: 2009 to 2021\n",
      "Municipalities in Library data = 103\n",
      "Bef dataset contains data from: 2008 to 2023\n",
      "Municipalities in Library data = 105\n",
      " Munisipalities in bef and not in Lib: ['Christiansø', 'Fanø']\n"
     ]
    }
   ],
   "source": [
    "#The datasets\n",
    "print(f'Library dataset contains data from: {np.min(bib_api.TID.unique())} to {np.max(bib_api.TID)}')\n",
    "print(f'Municipalities in Library data = {len(bib_api.OMRÅDE.unique())}')\n",
    "\n",
    "print(f'Bef dataset contains data from: {np.min(bef_api_q1.TID.unique())} to {np.max(bef_api_q1.TID)}')\n",
    "print(f'Municipalities in Library data = {len(bef_api_q1.OMRÅDE.unique())}')\n",
    "\n",
    "#Differenses in the datasets\n",
    "diff_mun = [m for m in bef_api_q1.OMRÅDE.unique() if m not in bib_api.OMRÅDE.unique()]\n",
    "print (f' Munisipalities in bef and not in Lib: {diff_mun}')\n"
   ]
  },
  {
   "cell_type": "code",
   "execution_count": 8,
   "metadata": {},
   "outputs": [
    {
     "name": "stdout",
     "output_type": "stream",
     "text": [
      "OMRÅDE        object\n",
      "TID           object\n",
      "KØN           object\n",
      "ALDER         object\n",
      "CIVILSTAND    object\n",
      "INDHOLD        int64\n",
      "dtype: object\n",
      "OMRÅDE       object\n",
      "slet_var     object\n",
      "TID          object\n",
      "loan          int64\n",
      "slet_var2    object\n",
      "exp           int64\n",
      "dtype: object\n"
     ]
    }
   ],
   "source": [
    "bib_api['TID'] = bib_api['TID'].astype('object')\n",
    "bib_api['exp'] = bib_api['exp'].astype('int64')\n",
    "bib_api['loan'] = bib_api['loan'].astype('int64')\n",
    "bib_api.head()\n",
    "\n",
    "\n",
    "print(bef_api_q1.dtypes)\n",
    "print(bib_api.dtypes)"
   ]
  },
  {
   "cell_type": "code",
   "execution_count": 9,
   "metadata": {},
   "outputs": [
    {
     "data": {
      "text/html": [
       "<div>\n",
       "<style scoped>\n",
       "    .dataframe tbody tr th:only-of-type {\n",
       "        vertical-align: middle;\n",
       "    }\n",
       "\n",
       "    .dataframe tbody tr th {\n",
       "        vertical-align: top;\n",
       "    }\n",
       "\n",
       "    .dataframe thead th {\n",
       "        text-align: right;\n",
       "    }\n",
       "</style>\n",
       "<table border=\"1\" class=\"dataframe\">\n",
       "  <thead>\n",
       "    <tr style=\"text-align: right;\">\n",
       "      <th></th>\n",
       "      <th>mun</th>\n",
       "      <th>year</th>\n",
       "      <th>n</th>\n",
       "      <th>loan</th>\n",
       "      <th>exp</th>\n",
       "      <th>loan_per_cap</th>\n",
       "      <th>exp_per_cap</th>\n",
       "    </tr>\n",
       "  </thead>\n",
       "  <tbody>\n",
       "    <tr>\n",
       "      <th>0</th>\n",
       "      <td>Aabenraa</td>\n",
       "      <td>2009</td>\n",
       "      <td>60392</td>\n",
       "      <td>314800</td>\n",
       "      <td>4278</td>\n",
       "      <td>5.212611</td>\n",
       "      <td>70.837197</td>\n",
       "    </tr>\n",
       "    <tr>\n",
       "      <th>1</th>\n",
       "      <td>Aabenraa</td>\n",
       "      <td>2010</td>\n",
       "      <td>59978</td>\n",
       "      <td>298039</td>\n",
       "      <td>3994</td>\n",
       "      <td>4.969139</td>\n",
       "      <td>66.591083</td>\n",
       "    </tr>\n",
       "    <tr>\n",
       "      <th>2</th>\n",
       "      <td>Aabenraa</td>\n",
       "      <td>2011</td>\n",
       "      <td>59795</td>\n",
       "      <td>289801</td>\n",
       "      <td>3699</td>\n",
       "      <td>4.846576</td>\n",
       "      <td>61.861360</td>\n",
       "    </tr>\n",
       "    <tr>\n",
       "      <th>3</th>\n",
       "      <td>Aabenraa</td>\n",
       "      <td>2012</td>\n",
       "      <td>59600</td>\n",
       "      <td>268604</td>\n",
       "      <td>3457</td>\n",
       "      <td>4.506779</td>\n",
       "      <td>58.003356</td>\n",
       "    </tr>\n",
       "    <tr>\n",
       "      <th>4</th>\n",
       "      <td>Aabenraa</td>\n",
       "      <td>2013</td>\n",
       "      <td>59208</td>\n",
       "      <td>258318</td>\n",
       "      <td>3429</td>\n",
       "      <td>4.362890</td>\n",
       "      <td>57.914471</td>\n",
       "    </tr>\n",
       "  </tbody>\n",
       "</table>\n",
       "</div>"
      ],
      "text/plain": [
       "        mun  year      n    loan   exp  loan_per_cap  exp_per_cap\n",
       "0  Aabenraa  2009  60392  314800  4278      5.212611    70.837197\n",
       "1  Aabenraa  2010  59978  298039  3994      4.969139    66.591083\n",
       "2  Aabenraa  2011  59795  289801  3699      4.846576    61.861360\n",
       "3  Aabenraa  2012  59600  268604  3457      4.506779    58.003356\n",
       "4  Aabenraa  2013  59208  258318  3429      4.362890    57.914471"
      ]
     },
     "execution_count": 9,
     "metadata": {},
     "output_type": "execute_result"
    }
   ],
   "source": [
    "q = \"\"\"\n",
    "SELECT \n",
    "bef.OMRÅDE      as mun, \n",
    "bef.TID         as year, \n",
    "bef.INDHOLD     as n, \n",
    "bib.loan, \n",
    "bib.exp\n",
    "\n",
    "FROM bef_api_q1 as bef\n",
    "INNER JOIN bib_api as bib\n",
    "ON bib.OMRÅDE = bef.OMRÅDE AND bib.TID = bef.TID\n",
    "ORDER BY mun, year\n",
    "\"\"\"\n",
    "\n",
    "# Apply query using pandasql\n",
    "df = sqldf(q)\n",
    "df.head()\n",
    "\n",
    "\n",
    "df['loan_per_cap'] = df['loan']/df['n']\n",
    "df['exp_per_cap'] = 1000* df['exp']/df['n']\n",
    "df.head()"
   ]
  },
  {
   "attachments": {},
   "cell_type": "markdown",
   "metadata": {},
   "source": [
    "# Stop Her"
   ]
  },
  {
   "cell_type": "code",
   "execution_count": null,
   "metadata": {},
   "outputs": [],
   "source": [
    "q = \"\"\"\n",
    "SELECT *\n",
    "FROM bef_api_q1 as bef\n",
    "INNER JOIN bib_api as bib\n",
    "ON bib.OMRÅDE = bef.OMRÅDE AND bib.TID = bef.TID\n",
    "\"\"\"\n",
    "\n",
    "# Apply query using pandasql\n",
    "df = sqldf(q)\n",
    "df.head()\n",
    "\n"
   ]
  },
  {
   "cell_type": "code",
   "execution_count": null,
   "metadata": {},
   "outputs": [],
   "source": [
    "q = \"\"\"\n",
    "SELECT \n",
    "bef.OMRÅDE      as mun, \n",
    "bef.TID         as year, \n",
    "bef.INDHOLD     as n, \n",
    "bib.loan, \n",
    "bib.exp\n",
    "\n",
    "FROM bef_api_q1 as bef\n",
    "INNER JOIN bib_api as bib\n",
    "ON bib.OMRÅDE = bef.OMRÅDE AND bib.TID = bef.TID\n",
    "ORDER BY mun, year\n",
    "\"\"\"\n",
    "\n",
    "# Apply query using pandasql\n",
    "df = sqldf(q)\n",
    "df.head()\n",
    "\n",
    "\n",
    "df['loan_per_cap'] = df['loan']/df['n']\n",
    "df['exp_per_cap'] = 1000* df['exp']/df['n']\n",
    "df.head()\n"
   ]
  },
  {
   "cell_type": "code",
   "execution_count": null,
   "metadata": {},
   "outputs": [],
   "source": [
    "df['loan_per_cap'] = df['loan']/df['n']\n",
    "df['exp_per_cap'] = 1000* df['exp']/df['n']\n",
    "df.head()"
   ]
  },
  {
   "cell_type": "code",
   "execution_count": null,
   "metadata": {},
   "outputs": [],
   "source": [
    "exp = df['exp_per_cap'] \n",
    "# a. create the figure\n",
    "fig = plt.figure()\n",
    "\n",
    "# b. plot\n",
    "ax = fig.add_subplot(1,1,1)\n",
    "\n",
    "ax.plot(exp)"
   ]
  },
  {
   "cell_type": "code",
   "execution_count": null,
   "metadata": {},
   "outputs": [],
   "source": [
    "df = bib_api.merge(bef_api_q1, on=['OMRÅDE', 'TID'])"
   ]
  },
  {
   "cell_type": "code",
   "execution_count": null,
   "metadata": {},
   "outputs": [],
   "source": [
    "df.head()"
   ]
  },
  {
   "attachments": {},
   "cell_type": "markdown",
   "metadata": {},
   "source": [
    "Merging using SQL"
   ]
  },
  {
   "cell_type": "code",
   "execution_count": null,
   "metadata": {},
   "outputs": [],
   "source": [
    "case \n",
    "    when bib.BNØGLE = 'Loan. Books' then bib.INDHOLD                            = 'loan'\n",
    "    when bib.BNØGLE = 'Expenditure, materials (DKK 1,000)' then bib.INDHOLD     = 'Expenditure'\n",
    "end as var_navn,"
   ]
  },
  {
   "cell_type": "code",
   "execution_count": null,
   "metadata": {},
   "outputs": [],
   "source": [
    "q = \"\"\"\n",
    "SELECT bef.OMRÅDE, bef.TID, bef.INDHOLD as n, bib.INDHOLD as n_bib, bib.BNØGLE \n",
    "FROM bef_api_q1 as bef\n",
    "INNER JOIN bib_api_loan as bib\n",
    "ON bib.OMRÅDE = bef.OMRÅDE AND bib.TID = bef.TID\n",
    "\"\"\"\n",
    "\n",
    "# Apply query using pandasql\n",
    "df = sqldf(q)\n",
    "df.head()"
   ]
  },
  {
   "cell_type": "code",
   "execution_count": null,
   "metadata": {},
   "outputs": [],
   "source": [
    "# Use logical indexing to subset from variable name based on id\n",
    "#X.loc[X['id'] > 1, ['name']]\n",
    "\n",
    "bib_api.loc[bib_api['BNØGLE'] == ['BNØGLE']]"
   ]
  },
  {
   "cell_type": "code",
   "execution_count": null,
   "metadata": {},
   "outputs": [],
   "source": [
    "#bef.INDHOLD as n, \n",
    "I = bib_api['BNØGLE'] == 'Loan. Books'\n",
    "\n",
    "bib_api_loan = bib_api[I]\n",
    "\n",
    "bib_api_loan.head()\n",
    "\n",
    "#I = bib_api['BNØGLE'] == 'Expenditure, materials (DKK 1,000)' \n",
    "#bib_api_exp = bib_api[I]\n",
    "\n",
    "\n",
    "#bib_api_loan.INDHOLD = loan_n\n",
    "#INNER JOIN bib_api_loan as bib"
   ]
  },
  {
   "cell_type": "code",
   "execution_count": null,
   "metadata": {},
   "outputs": [],
   "source": [
    "q = \"\"\"\n",
    "SELECT bef.OMRÅDE, bef.TID, bef.INDHOLD as n, bib.INDHOLD as n_bib, bib.BNØGLE as test\n",
    "FROM bef_api_q1 as bef\n",
    "INNER JOIN bib_api_loan as bib\n",
    "ON bib.OMRÅDE = bef.OMRÅDE AND bib.TID = bef.TID\n",
    "\"\"\"\n",
    "\n",
    "# Apply query using pandasql\n",
    "df = sqldf(q)\n",
    "df.head()"
   ]
  },
  {
   "cell_type": "code",
   "execution_count": null,
   "metadata": {},
   "outputs": [],
   "source": []
  },
  {
   "cell_type": "code",
   "execution_count": null,
   "metadata": {},
   "outputs": [],
   "source": [
    "q = \"\"\"\n",
    "SELECT df.OMRÅDE, df.TID, df.n, df.n_bib\n",
    "FROM df as df\n",
    "INNER JOIN bib_api as bib\n",
    "ON bib.OMRÅDE = bef.OMRÅDE AND bib.TID = bef.TID\n",
    "\"\"\"\n",
    "\n",
    "# Apply query using pandasql\n",
    "df = sqldf(q)\n",
    "df.head()"
   ]
  },
  {
   "cell_type": "code",
   "execution_count": null,
   "metadata": {},
   "outputs": [],
   "source": [
    "q = \"\"\"\n",
    "SELECT bef.OMRÅDE as municipality, bef.TID as year, bef.INDHOLD as n, bib.INDHOLD as n_bib\n",
    "FROM bef_api_q1 as bef\n",
    "INNER JOIN bib_api as bib\n",
    "ON bib.OMRÅDE = bef.OMRÅDE AND bib.TID = bef.TID\n",
    "Where bib.BNØGLE == 'Loan. Books'\n",
    "\"\"\"\n",
    "\n",
    "# Apply query using pandasql\n",
    "df = sqldf(q)\n",
    "df.head()\n",
    "\n",
    "z = \"\"\"\n",
    "SELECT \n",
    "df.municipality, \n",
    "df.year, \n",
    "df.n, \n",
    "df.n_bib,  \n",
    "\n",
    "bib.INDHOLD as n_exp,\n",
    "bib.BNØGLE  as skal_vaere_exp\n",
    "\n",
    "\n",
    "FROM df as df\n",
    "INNER JOIN bib_api as bib\n",
    "ON bib.OMRÅDE = df.municipality AND bib.TID = df.year\n",
    "Where bib.BNØGLE == 'Expenditure, materials (DKK 1,000)' \n",
    "\"\"\"\n",
    "\n",
    "df_2 = sqldf(z)\n",
    "\n",
    "df.head()\n",
    "#df_2.head()"
   ]
  },
  {
   "cell_type": "code",
   "execution_count": null,
   "metadata": {},
   "outputs": [],
   "source": [
    "I = bib_api['BNØGLE'] == 'Loan. Books'\n",
    "bib_api_loan = bib_api[I]\n",
    "\n",
    "q = \"\"\"\n",
    "SELECT bef.OMRÅDE as municipality, \n",
    "bef.TID as year, \n",
    "bef.INDHOLD as n, \n",
    "\n",
    "bib_api_loan.INDHOLD as loan \n",
    "\n",
    "FROM bef_api_q1 as bef\n",
    "\n",
    "INNER JOIN bib_api_loan as bib_loan\n",
    "ON bib_loan.OMRÅDE = bef.OMRÅDE and bef.TID = bib_api_loan.TID\n",
    "\n",
    "\n",
    "\"\"\"\n",
    "\n",
    "# Apply query using pandasql\n",
    "df = sqldf(q)\n",
    "df.head()\n"
   ]
  },
  {
   "cell_type": "code",
   "execution_count": null,
   "metadata": {},
   "outputs": [],
   "source": [
    "I = bib_api['BNØGLE'] == 'Loan. Books'\n",
    "bib_api_loan = bib_api[I]\n",
    "\n",
    "q = \"\"\"\n",
    "SELECT bef.OMRÅDE as municipality, \n",
    "bef.TID as year, \n",
    "bef.INDHOLD as n, \n",
    "\n",
    "bib_api_loan.INDHOLD as loan, \n",
    "bib_api_exp.INDHOLD as exp \n",
    "\n",
    "FROM bef_api_q1 as bef\n",
    "\n",
    "INNER JOIN bib_api_loan as bib_loan\n",
    "ON bib_loan.OMRÅDE = bef.OMRÅDE and bef.TID = bib_api_loan.TID\n",
    "\n",
    "INNER JOIN bib_api_exp as bib_exp\n",
    "ON bib_api_exp.OMRÅDE = bef.OMRÅDE and bef.TID = bib_api_exp.TID\n",
    "\n",
    "\"\"\"\n",
    "\n",
    "# Apply query using pandasql\n",
    "df = sqldf(q)\n",
    "df.head()\n"
   ]
  },
  {
   "cell_type": "code",
   "execution_count": null,
   "metadata": {},
   "outputs": [],
   "source": [
    "bib_api.head()"
   ]
  },
  {
   "cell_type": "code",
   "execution_count": null,
   "metadata": {},
   "outputs": [],
   "source": [
    "q = \"\"\"\n",
    "SELECT \n",
    "bef.OMRÅDE, \n",
    "bef.TID, \n",
    "bef.INDHOLD as n, \n",
    "bib.INDHOLD as exp\n",
    "\n",
    "FROM bef_api_q1 as bef\n",
    "INNER JOIN bib_api as bib\n",
    "ON bib.OMRÅDE = bef.OMRÅDE AND bib.TID = bef.TID\n",
    "where bib.BNØGLE = 'Loan. Books'\n",
    "\"\"\"\n",
    "\n",
    "# Apply query using pandasql\n",
    "df = sqldf(q)\n",
    "\n",
    "print(f'Merged dataset contains data from: {np.min(df.TID.unique())} to {np.max(bef_api_q1.TID)}')\n",
    "print(f'Merged dataset contains data form Municipalities = {len(df.OMRÅDE.unique())}')\n",
    "print(f'Merged dataset contains data form Municipalities = {len(df.OMRÅDE.BNØGLE())}')\n",
    "\n",
    "\n",
    "df.head()\n"
   ]
  },
  {
   "cell_type": "code",
   "execution_count": null,
   "metadata": {},
   "outputs": [],
   "source": []
  },
  {
   "cell_type": "code",
   "execution_count": null,
   "metadata": {},
   "outputs": [],
   "source": [
    "q = \"\"\"\n",
    "SELECT \n",
    "bef.OMRÅDE, \n",
    "bef.TID, \n",
    "bef.INDHOLD as n, \n",
    "case \n",
    "    when bib.BNØGLE = 'Loan. Books' then 'loan'\n",
    "    when bib.BNØGLE = 'Expenditure, materials (DKK 1,000)' then 'Expenditure'\n",
    "end as var_navn\n",
    "\n",
    "FROM bef_api_q1 as bef\n",
    "INNER JOIN bib_api as bib\n",
    "ON bib.OMRÅDE = bef.OMRÅDE AND bib.TID = bef.TID\n",
    "\"\"\"\n",
    "# Apply query using pandasql\n",
    "df = sqldf(q)"
   ]
  },
  {
   "cell_type": "code",
   "execution_count": null,
   "metadata": {},
   "outputs": [],
   "source": [
    "df.head()"
   ]
  },
  {
   "cell_type": "code",
   "execution_count": null,
   "metadata": {},
   "outputs": [],
   "source": []
  },
  {
   "cell_type": "code",
   "execution_count": null,
   "metadata": {},
   "outputs": [],
   "source": []
  }
 ],
 "metadata": {
  "kernelspec": {
   "display_name": "base",
   "language": "python",
   "name": "python3"
  },
  "language_info": {
   "codemirror_mode": {
    "name": "ipython",
    "version": 3
   },
   "file_extension": ".py",
   "mimetype": "text/x-python",
   "name": "python",
   "nbconvert_exporter": "python",
   "pygments_lexer": "ipython3",
   "version": "3.9.13"
  },
  "orig_nbformat": 4
 },
 "nbformat": 4,
 "nbformat_minor": 2
}
